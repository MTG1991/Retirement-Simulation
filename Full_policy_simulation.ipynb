{
 "cells": [
  {
   "cell_type": "code",
   "execution_count": 1,
   "metadata": {},
   "outputs": [],
   "source": [
    "#import all the necessary packages\n",
    "import numpy as np #for numerical array data\n",
    "import pandas as pd #for tabular data\n",
    "from scipy.optimize import minimize\n",
    "import matplotlib.pyplot as plt #for plotting purposes\n",
    "%matplotlib inline\n",
    "plt.rcParams['axes.labelsize'] = 14\n",
    "plt.rcParams['xtick.labelsize'] = 12\n",
    "plt.rcParams['ytick.labelsize'] = 12\n",
    "\n",
    "#import cvxpy as cp # 2020 update: cannot import cvxpy. Perhaps update later...\n",
    "from sklearn import datasets\n",
    "from sklearn.linear_model import LinearRegression\n",
    "from sklearn.linear_model import LassoCV\n",
    "from sklearn.linear_model import Lasso\n",
    "from sklearn.model_selection import KFold\n",
    "from sklearn.model_selection import GridSearchCV\n",
    "\n",
    "from statsmodels import api as sm\n",
    "from numpy import cumsum, log, polyfit, sqrt, std, subtract\n",
    "from numpy.random import randn\n",
    "\n",
    "from pandas.plotting import register_matplotlib_converters # Required\n",
    "register_matplotlib_converters()\n",
    "\n",
    "import seaborn as sns\n",
    "sns.set()"
   ]
  },
  {
   "cell_type": "code",
   "execution_count": 2,
   "metadata": {},
   "outputs": [],
   "source": [
    "# Dataset\n",
    "\n",
    "# Change the file path to your own directory\n",
    "file_path = '~/Desktop/python_2018/Datasets/'\n",
    "\n",
    "life_table = pd.read_csv(file_path + 'Life_expectancy.csv')\n",
    "# Social Security Fund analysis\n",
    "SS_data = pd.read_csv(file_path + 'SS_simulation.csv',index_col=0, header=0,parse_dates=[0])\n",
    "# Asset returns (with regimes)\n",
    "asset_data_raw = pd.read_csv(file_path + 'AssetData.csv',index_col=0, header=0,parse_dates=[0])\n",
    "macro_data_raw = pd.read_csv(file_path + 'MacroData.csv',index_col=0, header=0,parse_dates=[0])\n",
    "SP500_data = pd.read_csv(file_path + 'SP500_CPI.csv',index_col=0, header=0,parse_dates=[0])"
   ]
  },
  {
   "cell_type": "code",
   "execution_count": 3,
   "metadata": {},
   "outputs": [],
   "source": [
    "# Factor Momentum data from Daniel\n",
    "asset_data_new = pd.read_csv(file_path + 'AssetData_FM.csv',index_col=0, header=0,parse_dates=[0])\n",
    "assetname_new = ['US Equities','EAFE Equities', 'EM Equities', 'US Treasuries',\n",
    "       'Corp Bonds', 'TIPS', 'Real Estate', 'CSMOMPos', 'T-bill']\n",
    "Assets_new = asset_data_new[assetname_new].values\n",
    "asset_data_MOM = Assets_new[~np.isnan(Assets_new[:,2]),:]"
   ]
  },
  {
   "cell_type": "code",
   "execution_count": 4,
   "metadata": {},
   "outputs": [
    {
     "data": {
      "text/plain": [
       "(405, 17)"
      ]
     },
     "execution_count": 4,
     "metadata": {},
     "output_type": "execute_result"
    }
   ],
   "source": [
    "asset_data_raw.shape"
   ]
  },
  {
   "cell_type": "code",
   "execution_count": 5,
   "metadata": {},
   "outputs": [
    {
     "data": {
      "text/plain": [
       "Index(['World Equities', 'US Treasuries', 'High Yield ',\n",
       "       'Inflation Protection', 'Currency Protection', 'Regime-5', 'Regime-7',\n",
       "       'Regime-NBER', 'US Equities', 'EAFE Equities', 'EM Equities',\n",
       "       'LongTreasuries', 'Corp Bonds', 'TIPS(backfilled)', 'Real Estate',\n",
       "       'Commodities', 'T-bill'],\n",
       "      dtype='object')"
      ]
     },
     "execution_count": 5,
     "metadata": {},
     "output_type": "execute_result"
    }
   ],
   "source": [
    "asset_data_raw.columns"
   ]
  },
  {
   "cell_type": "markdown",
   "metadata": {},
   "source": [
    "#### A brief note about asset data\n",
    "Note: the \"LongTreasuries\" data contains long-term treasuries only. \n",
    "\n",
    "For retire analysis we prefer the \"US Treasuries\" data. \n",
    "\n",
    "The \"asset_retire\" object in section 3 reflects this preference."
   ]
  },
  {
   "cell_type": "code",
   "execution_count": 7,
   "metadata": {},
   "outputs": [],
   "source": [
    "factorname = ['World Equities','US Treasuries','High Yield ','Inflation Protection','Currency Protection']\n",
    "Factors = asset_data_raw[factorname].values\n",
    "assetname = ['US Equities','EAFE Equities', 'EM Equities', 'LongTreasuries',\n",
    "       'Corp Bonds', 'TIPS(backfilled)', 'Real Estate', 'Commodities', 'T-bill']\n",
    "Assets = asset_data_raw[assetname].values\n",
    "Regime = asset_data_raw['Regime-7'].values"
   ]
  },
  {
   "cell_type": "code",
   "execution_count": 8,
   "metadata": {},
   "outputs": [
    {
     "data": {
      "text/plain": [
       "(369, 9)"
      ]
     },
     "execution_count": 8,
     "metadata": {},
     "output_type": "execute_result"
    }
   ],
   "source": [
    "asset_data_MOM.shape"
   ]
  },
  {
   "cell_type": "code",
   "execution_count": 9,
   "metadata": {},
   "outputs": [],
   "source": [
    "# Some missing data \n",
    "factor_data = Factors[~np.isnan(Assets[:,2]),:]\n",
    "asset_data = Assets[~np.isnan(Assets[:,2]),:]\n",
    "regime_data = Regime[~np.isnan(Assets[:,2])]"
   ]
  },
  {
   "cell_type": "code",
   "execution_count": 10,
   "metadata": {},
   "outputs": [
    {
     "data": {
      "text/plain": [
       "(316, 53)"
      ]
     },
     "execution_count": 10,
     "metadata": {},
     "output_type": "execute_result"
    }
   ],
   "source": [
    "np.sum(regime_data==1), np.sum(regime_data==-1)"
   ]
  },
  {
   "cell_type": "code",
   "execution_count": 11,
   "metadata": {},
   "outputs": [
    {
     "data": {
      "text/plain": [
       "(array([[ 1.        , -0.10200368,  0.54731296,  0.07990946, -0.55939834],\n",
       "        [-0.10200368,  1.        , -0.04147495, -0.28248422, -0.08493527],\n",
       "        [ 0.54731296, -0.04147495,  1.        ,  0.17053819, -0.23748187],\n",
       "        [ 0.07990946, -0.28248422,  0.17053819,  1.        , -0.15165623],\n",
       "        [-0.55939834, -0.08493527, -0.23748187, -0.15165623,  1.        ]]),\n",
       " array([[ 1.        , -0.0396799 ,  0.44988018, -0.0231314 , -0.5752664 ],\n",
       "        [-0.0396799 ,  1.        ,  0.1094371 , -0.26981547, -0.0598487 ],\n",
       "        [ 0.44988018,  0.1094371 ,  1.        , -0.00474358, -0.21609858],\n",
       "        [-0.0231314 , -0.26981547, -0.00474358,  1.        , -0.07619496],\n",
       "        [-0.5752664 , -0.0598487 , -0.21609858, -0.07619496,  1.        ]]),\n",
       " array([[ 1.        , -0.11822239,  0.59381472,  0.37446243, -0.58539329],\n",
       "        [-0.11822239,  1.        , -0.20563139, -0.33472957, -0.21607693],\n",
       "        [ 0.59381472, -0.20563139,  1.        ,  0.52914875, -0.29726967],\n",
       "        [ 0.37446243, -0.33472957,  0.52914875,  1.        , -0.41443649],\n",
       "        [-0.58539329, -0.21607693, -0.29726967, -0.41443649,  1.        ]]))"
      ]
     },
     "execution_count": 11,
     "metadata": {},
     "output_type": "execute_result"
    }
   ],
   "source": [
    "# Factor works with less correlation\n",
    "np.corrcoef(factor_data.T),np.corrcoef(factor_data[regime_data==1,:].T),np.corrcoef(factor_data[regime_data!=1,:].T)"
   ]
  },
  {
   "cell_type": "code",
   "execution_count": 12,
   "metadata": {},
   "outputs": [
    {
     "data": {
      "text/plain": [
       "array([0.00601311, 0.00478238, 0.00692699, 0.00017678, 0.00031191])"
      ]
     },
     "execution_count": 12,
     "metadata": {},
     "output_type": "execute_result"
    }
   ],
   "source": [
    "factor_data.mean(axis=0)"
   ]
  },
  {
   "cell_type": "code",
   "execution_count": 13,
   "metadata": {},
   "outputs": [],
   "source": [
    "# Some Functions\n",
    "def portfolio_opt(mu, Q, r_bar):\n",
    "    w = cp.Variable(mu.size)\n",
    "    ret = mu.T*w \n",
    "    risk = cp.quad_form(w, Q)\n",
    "    prob = cp.Problem(cp.Minimize(risk), \n",
    "                   [cp.sum(w) == 1, w >= 0, ret >= r_bar])\n",
    "    prob.solve()\n",
    "    return np.round_(w.value,decimals=3)\n",
    "\n",
    "# EWMA covariance?\n",
    "def ewma_cov(x1, x2, smoothing_factor):\n",
    "    # x1, x2 are two series    \n",
    "    n = len(x1)\n",
    "    weights = np.array([smoothing_factor**(n-i-1) for i in range(n)])\n",
    "    return np.sum(weights*x1*x2*(1-smoothing_factor)/(1-smoothing_factor**n))\n",
    "\n",
    "def ewma_mat(A, smoothing_factor = 0.99):\n",
    "    # A: asset data (time*asset_num)\n",
    "    mu = A.mean(axis=0)\n",
    "    m,n = A.shape\n",
    "    cov = np.zeros((n,n))\n",
    "    for i in range(n):\n",
    "        for j in range(n):\n",
    "            cov[i,j] = ewma_cov(A[:,i]-mu[i],A[:,j]-mu[j],smoothing_factor)\n",
    "    return cov\n",
    "    \n",
    "def cov_corr(A):\n",
    "    x,y = A.shape\n",
    "    if x != y:\n",
    "        return A*0\n",
    "    else:\n",
    "        B = np.ones((x,y))\n",
    "        for i in range(x):\n",
    "            for j in range(x):\n",
    "                B[i,j] = A[i,j] / np.sqrt(A[i,i]*A[j,j])\n",
    "    return B\n",
    "\n",
    "def geo_mean(x):\n",
    "    n = len(x)\n",
    "    return np.exp(np.sum(np.log(1+x)) * 12 / n)-1\n",
    "\n",
    "def geo_return(X, input_type='Return'):\n",
    "    \"\"\"Computes geometric return for each asset\"\"\"\n",
    "    if input_type == 'Return':\n",
    "        X_geo = 1+X\n",
    "        y = np.cumprod(X_geo,axis=0)\n",
    "        return (y[-1,:]) ** (1/X.shape[0]) - 1\n",
    "    else:\n",
    "        return (X[-1,:] / X[0,:]) ** (1/(X.shape[0]-1)) - 1"
   ]
  },
  {
   "cell_type": "markdown",
   "metadata": {},
   "source": [
    "Note to the smoothing factor:\n",
    "\n",
    "    0.99 -> 30% for data 10 years ago, 2.7% for data 30 years ago\n",
    "    \n",
    "    0.995 -> 55% for data 10 years ago, 16.5% for data 30 years ago\n",
    "    \n",
    "    0.9975 -> 74% for data 10 years ago, 40.6% for data 30 years ago\n",
    "    \n",
    "    0.999 -> 70% for data 30 years ago"
   ]
  },
  {
   "cell_type": "code",
   "execution_count": 14,
   "metadata": {},
   "outputs": [
    {
     "data": {
      "text/plain": [
       "[array([15.11676036,  4.88744602, 12.42500969,  0.07933711, -0.41621094]),\n",
       " array([-3.55562895e+01,  1.13242757e+01, -1.35976746e+01,  4.03504981e-03,\n",
       "         3.41417727e+00])]"
      ]
     },
     "execution_count": 14,
     "metadata": {},
     "output_type": "execute_result"
    }
   ],
   "source": [
    "[np.apply_along_axis(geo_mean,0,factor_data[regime_data==1,:])*100,\n",
    "np.apply_along_axis(geo_mean,0,factor_data[regime_data==-1,:])*100]"
   ]
  },
  {
   "cell_type": "code",
   "execution_count": 15,
   "metadata": {},
   "outputs": [
    {
     "data": {
      "text/plain": [
       "[3.1558279193480976, 2.9255807344771068]"
      ]
     },
     "execution_count": 15,
     "metadata": {},
     "output_type": "execute_result"
    }
   ],
   "source": [
    "[np.apply_along_axis(geo_mean,0,asset_data[regime_data==1,-1])*100,\n",
    "np.apply_along_axis(geo_mean,0,asset_data[regime_data==-1,-1])*100]"
   ]
  },
  {
   "cell_type": "code",
   "execution_count": 16,
   "metadata": {},
   "outputs": [
    {
     "name": "stdout",
     "output_type": "stream",
     "text": [
      "Index(['US Equities', 'EAFE Equities', 'EM Equities', 'LongTreasuries',\n",
      "       'Corp Bonds', 'TIPS(backfilled)', 'Real Estate', 'Commodities',\n",
      "       'T-bill'],\n",
      "      dtype='object')\n"
     ]
    },
    {
     "data": {
      "text/plain": [
       "array([0.10828302, 0.05781744, 0.10784523, 0.07819485, 0.06897254,\n",
       "       0.05931434, 0.09589508, 0.03318138, 0.03122726])"
      ]
     },
     "execution_count": 16,
     "metadata": {},
     "output_type": "execute_result"
    }
   ],
   "source": [
    "print(asset_data_raw.columns[-9:])\n",
    "np.apply_along_axis(geo_mean,0,asset_data)"
   ]
  },
  {
   "cell_type": "code",
   "execution_count": 17,
   "metadata": {},
   "outputs": [
    {
     "name": "stderr",
     "output_type": "stream",
     "text": [
      "/opt/anaconda3/lib/python3.7/site-packages/ipykernel_launcher.py:41: RuntimeWarning: divide by zero encountered in log\n"
     ]
    }
   ],
   "source": [
    "asset_data_cleared = np.nan_to_num(asset_data_raw)\n",
    "\n",
    "regime_result = pd.DataFrame(index=['Mean','STD','Mean-Normal','STD-Normal','Mean-Crash','STD-Crash'], \n",
    "                    columns=asset_data_raw.columns)\n",
    "\n",
    "regime_result.iloc[0,:] = np.apply_along_axis(geo_mean,0,asset_data_cleared)\n",
    "regime_result.iloc[1,:] = np.apply_along_axis(np.std,0,asset_data_cleared)\n",
    "regime_result.iloc[2,:] = np.apply_along_axis(geo_mean,0,asset_data_cleared[Regime==1,:])\n",
    "regime_result.iloc[3,:] = np.apply_along_axis(np.std,0,asset_data_cleared[Regime==1,:])\n",
    "regime_result.iloc[4,:] = np.apply_along_axis(geo_mean,0,asset_data_cleared[Regime==-1,:])\n",
    "regime_result.iloc[5,:] = np.apply_along_axis(np.std,0,asset_data_cleared[Regime==-1,:])\n",
    "\n",
    "#regime_result.to_csv('regime_0905.csv')"
   ]
  },
  {
   "cell_type": "markdown",
   "metadata": {},
   "source": [
    "## 1. Regime-based Asset Data"
   ]
  },
  {
   "cell_type": "code",
   "execution_count": 18,
   "metadata": {},
   "outputs": [],
   "source": [
    "###\n",
    "# Use \"regime-7\". Already verified by previous regime analysis...\n",
    "###"
   ]
  },
  {
   "cell_type": "code",
   "execution_count": 19,
   "metadata": {},
   "outputs": [
    {
     "data": {
      "text/html": [
       "<div>\n",
       "<style scoped>\n",
       "    .dataframe tbody tr th:only-of-type {\n",
       "        vertical-align: middle;\n",
       "    }\n",
       "\n",
       "    .dataframe tbody tr th {\n",
       "        vertical-align: top;\n",
       "    }\n",
       "\n",
       "    .dataframe thead th {\n",
       "        text-align: right;\n",
       "    }\n",
       "</style>\n",
       "<table border=\"1\" class=\"dataframe\">\n",
       "  <thead>\n",
       "    <tr style=\"text-align: right;\">\n",
       "      <th></th>\n",
       "      <th>CPI</th>\n",
       "      <th>SP500</th>\n",
       "      <th>SP500TR</th>\n",
       "      <th>Wil5000</th>\n",
       "    </tr>\n",
       "    <tr>\n",
       "      <th>DATE</th>\n",
       "      <th></th>\n",
       "      <th></th>\n",
       "      <th></th>\n",
       "      <th></th>\n",
       "    </tr>\n",
       "  </thead>\n",
       "  <tbody>\n",
       "    <tr>\n",
       "      <th>2018-05-01</th>\n",
       "      <td>251.588</td>\n",
       "      <td>2648.05</td>\n",
       "      <td>5318.100098</td>\n",
       "      <td>123.71</td>\n",
       "    </tr>\n",
       "    <tr>\n",
       "      <th>2018-06-01</th>\n",
       "      <td>251.989</td>\n",
       "      <td>2705.27</td>\n",
       "      <td>5350.830078</td>\n",
       "      <td>127.18</td>\n",
       "    </tr>\n",
       "    <tr>\n",
       "      <th>2018-07-01</th>\n",
       "      <td>252.006</td>\n",
       "      <td>2718.37</td>\n",
       "      <td>5549.959961</td>\n",
       "      <td>128.11</td>\n",
       "    </tr>\n",
       "    <tr>\n",
       "      <th>2018-08-01</th>\n",
       "      <td>252.146</td>\n",
       "      <td>2816.29</td>\n",
       "      <td>5730.799805</td>\n",
       "      <td>132.31</td>\n",
       "    </tr>\n",
       "    <tr>\n",
       "      <th>2018-09-01</th>\n",
       "      <td>252.439</td>\n",
       "      <td>2901.52</td>\n",
       "      <td>5763.419922</td>\n",
       "      <td>137.04</td>\n",
       "    </tr>\n",
       "  </tbody>\n",
       "</table>\n",
       "</div>"
      ],
      "text/plain": [
       "                CPI    SP500      SP500TR  Wil5000\n",
       "DATE                                              \n",
       "2018-05-01  251.588  2648.05  5318.100098   123.71\n",
       "2018-06-01  251.989  2705.27  5350.830078   127.18\n",
       "2018-07-01  252.006  2718.37  5549.959961   128.11\n",
       "2018-08-01  252.146  2816.29  5730.799805   132.31\n",
       "2018-09-01  252.439  2901.52  5763.419922   137.04"
      ]
     },
     "execution_count": 19,
     "metadata": {},
     "output_type": "execute_result"
    }
   ],
   "source": [
    "# Data imported\n",
    "# SP500_data = pd.read_csv(file_path + 'SP500_CPI.csv',index_col=0, header=0,parse_dates=[0])\n",
    "SP500_data.tail()"
   ]
  },
  {
   "cell_type": "code",
   "execution_count": 20,
   "metadata": {},
   "outputs": [],
   "source": [
    "CPI_deflator = np.insert(SP500_data.loc[asset_data_raw.index,'CPI'].values[~np.isnan(Assets[:,2])],0,115.4)"
   ]
  },
  {
   "cell_type": "code",
   "execution_count": 21,
   "metadata": {},
   "outputs": [],
   "source": [
    "CPI_series = 1 + np.diff(CPI_deflator) / CPI_deflator[:-1]\n",
    "\n",
    "asset_data_def = (1+asset_data) / np.concatenate([CPI_series.reshape(-1,1)]*9, axis=1) - 1"
   ]
  },
  {
   "cell_type": "code",
   "execution_count": 22,
   "metadata": {},
   "outputs": [
    {
     "data": {
      "text/plain": [
       "array([0.08042687, 0.03122971, 0.08000008, 0.05109494, 0.04210443,\n",
       "       0.03268899, 0.06835028, 0.00721286, 0.00530786])"
      ]
     },
     "execution_count": 22,
     "metadata": {},
     "output_type": "execute_result"
    }
   ],
   "source": [
    "np.apply_along_axis(geo_mean,0,asset_data_def)"
   ]
  },
  {
   "cell_type": "code",
   "execution_count": 23,
   "metadata": {},
   "outputs": [],
   "source": [
    "list_cov = [np.cov(asset_data.T),\n",
    "           np.cov(asset_data[regime_data==1,:].T),\n",
    "           np.cov(asset_data[regime_data!=1,:].T),\n",
    "           ewma_mat(asset_data),\n",
    "           ewma_mat(asset_data[regime_data==1,:]),\n",
    "           ewma_mat(asset_data[regime_data!=1,:]),\n",
    "           ewma_mat(asset_data, .995),\n",
    "           ewma_mat(asset_data[regime_data==1,:],.995),\n",
    "           ewma_mat(asset_data[regime_data!=1,:],.995),\n",
    "           ewma_mat(asset_data_def),\n",
    "           ewma_mat(asset_data_def[regime_data==1,:]),\n",
    "           ewma_mat(asset_data_def[regime_data!=1,:]),]\n",
    "#np.savetxt(\"cov_0718.csv\", 10000*np.concatenate(list_cov), delimiter=\",\")"
   ]
  },
  {
   "cell_type": "code",
   "execution_count": 24,
   "metadata": {},
   "outputs": [],
   "source": [
    "list_corr = [cov_corr(A) for A in list_cov]\n",
    "\n",
    "#np.savetxt(\"corr_0718.csv\", np.concatenate(list_corr), delimiter=\",\")"
   ]
  },
  {
   "cell_type": "markdown",
   "metadata": {},
   "source": [
    "## 2. Factor Model"
   ]
  },
  {
   "cell_type": "code",
   "execution_count": 30,
   "metadata": {},
   "outputs": [],
   "source": [
    "def linear_regression(x,y):\n",
    "    lin_reg = LinearRegression(fit_intercept=True)\n",
    "    lin_reg.fit(x,y)\n",
    "    return lin_reg.intercept_, lin_reg.coef_\n",
    "\n",
    "def cv_LASSO(x,y,n_folds = 5, alpha_max=0.25/500):    \n",
    "    LASSO_test = Lasso(random_state=777, fit_intercept=True)\n",
    "    alphas = np.linspace(1e-6, alpha_max, 100)\n",
    "\n",
    "    tuned_parameters = [{'alpha': alphas}]\n",
    "    \n",
    "    clf = GridSearchCV(LASSO_test, tuned_parameters, cv=n_folds, refit=False) \n",
    "    clf.fit(x,y)\n",
    "\n",
    "    alpha_best = alphas[np.argmax(clf.cv_results_['mean_test_score'])]\n",
    "    LASSO_best = Lasso(alpha=alpha_best, fit_intercept=True)\n",
    "    LASSO_best.fit(x,y)\n",
    "    return LASSO_best.intercept_, LASSO_best.coef_\n",
    "\n",
    "def best_subset(x,y,l_0):\n",
    "    # Mixed Integer Programming in feature selection\n",
    "    M = 10\n",
    "    _, n_factor = x.shape\n",
    "    z = cp.Variable(n_factor, boolean=True)\n",
    "    beta = cp.Variable(n_factor)\n",
    "    alpha = cp.Variable(1)\n",
    "\n",
    "    def MIP_obj(x,y,b,a):\n",
    "        return cp.norm(y-cp.matmul(x,b)-a,2)\n",
    "\n",
    "    best_subset = cp.Problem(cp.Minimize(MIP_obj(x, y, beta, alpha)), \n",
    "                             [cp.sum(z)<=l_0, beta+M*z>=0, M*z>=beta])\n",
    "    best_subset.solve()\n",
    "    return alpha.value, beta.value\n",
    "\n",
    "def oos_error(a,b,x,y,method):\n",
    "    # a, b are one-dimensional array\n",
    "    error = np.linalg.norm(y-x.dot(b)-a)\n",
    "    print('The out-of-sample error of ' + method + ' is: {0:3f}\\n'.format(error))\n",
    "    \n",
    "def error_analysis(x,y,x2,y2):\n",
    "    a1, b1 = linear_regression(x,y)\n",
    "    a2, b2 = cv_LASSO(x,y)\n",
    "    a3, b3 = best_subset(x,y,3)\n",
    "    a4, b4 = best_subset(x,y,2)\n",
    "    oos_error(a1,b1,x2,y2,'OLS')\n",
    "    oos_error(a4,b4,x2,y2,'best 2-subset')\n",
    "    oos_error(a3,b3,x2,y2,'best 3-subset')\n",
    "    oos_error(a2,b2,x2,y2,'LASSO')\n",
    "    return a2, b2\n",
    "\n",
    "def error_analysis_complete(X,Y,colnames, oos_ratio=0.9):\n",
    "    # Y: asset data with column names \n",
    "    n_time, n_factor = X.shape\n",
    "    _, n_asset = Y.shape\n",
    "    \n",
    "    n_is = int(n_time*oos_ratio)\n",
    "    X_test = X[:n_is,:]\n",
    "    X_oos = X[n_is:,:]\n",
    "    \n",
    "    betas_LASSO = np.zeros((n_factor+1,n_asset))\n",
    "    \n",
    "    for i in range(n_asset):\n",
    "        print('For asset: ' + colnames[i] + '\\n')\n",
    "        y_test = Y[:n_is,i]\n",
    "        y_oos = Y[n_is:,i]\n",
    "        a,b = error_analysis(X_test,y_test,X_oos,y_oos)\n",
    "        betas_LASSO[0,i] = a*100\n",
    "        betas_LASSO[1:,i] = b\n",
    "        \n",
    "    return pd.DataFrame(np.round_(betas_LASSO, decimals=1), index=['Intercept (\\%)']+factorname, \n",
    "                        columns=assetname, dtype=None, copy=False)"
   ]
  },
  {
   "cell_type": "code",
   "execution_count": 26,
   "metadata": {},
   "outputs": [
    {
     "data": {
      "image/png": "[encoded data removed]",
      "text/plain": [
       "<Figure size 1152x864 with 5 Axes>"
      ]
     },
     "metadata": {},
     "output_type": "display_data"
    }
   ],
   "source": [
    "# Plotting the factors\n",
    "fig = plt.figure(1, figsize=(16,12))\n",
    "x_time = np.arange(1988,2018.75,1/12)\n",
    "\n",
    "plt.subplot(321)\n",
    "plt.plot(x_time, 100*np.cumprod(1+factor_data[:,0]), 'b-')\n",
    "plt.ylabel('World Equities')\n",
    "plt.ylim([50, 500])\n",
    "plt.yticks([50, 100, 200, 400, 800],[50, 100, 200, 400, 800])\n",
    "\n",
    "plt.subplot(322)\n",
    "plt.plot(x_time, 100*np.cumprod(1+factor_data[:,1]), 'b-')\n",
    "plt.ylabel('Long Treasuries')\n",
    "plt.ylim([50, 500])\n",
    "plt.yticks([50, 100, 200, 400, 800],[50, 100, 200, 400, 800])\n",
    "\n",
    "plt.subplot(323)\n",
    "plt.plot(x_time, 100*np.cumprod(1+factor_data[:,2]), 'b-')\n",
    "plt.ylabel('High Yield')\n",
    "plt.ylim([50, 500])\n",
    "plt.yticks([50, 100, 200, 400, 800, 1600],[50, 100, 200, 400, 800, 1600])\n",
    "\n",
    "plt.subplot(324)\n",
    "plt.plot(x_time, 100*np.cumprod(1+factor_data[:,3]), 'b-')\n",
    "plt.xlabel('Year')\n",
    "plt.ylabel('Inflation Protection')\n",
    "plt.ylim([50, 200])\n",
    "plt.yticks([50, 100, 200],[50, 100, 200])\n",
    "\n",
    "plt.subplot(325)\n",
    "plt.plot(x_time, 100*np.cumprod(1+factor_data[:,4]), 'b-')\n",
    "plt.xlabel('Year')\n",
    "plt.ylabel('Currency Protection')\n",
    "plt.ylim([50, 200])\n",
    "plt.yticks([50, 100, 200],[50, 100, 200])\n",
    "\n",
    "plt.show()"
   ]
  },
  {
   "cell_type": "code",
   "execution_count": 32,
   "metadata": {},
   "outputs": [
    {
     "ename": "ModuleNotFoundError",
     "evalue": "No module named 'cvxpy'",
     "output_type": "error",
     "traceback": [
      "\u001b[0;31m---------------------------------------------------------------------------\u001b[0m",
      "\u001b[0;31mModuleNotFoundError\u001b[0m                       Traceback (most recent call last)",
      "\u001b[0;32m<ipython-input-32-bfa313107f2d>\u001b[0m in \u001b[0;36m<module>\u001b[0;34m\u001b[0m\n\u001b[1;32m      1\u001b[0m \u001b[0;31m# Out-of-sample Error Analysis for Factor Models\u001b[0m\u001b[0;34m\u001b[0m\u001b[0;34m\u001b[0m\u001b[0;34m\u001b[0m\u001b[0m\n\u001b[1;32m      2\u001b[0m \u001b[0;34m\u001b[0m\u001b[0m\n\u001b[0;32m----> 3\u001b[0;31m \u001b[0;32mimport\u001b[0m \u001b[0mcvxpy\u001b[0m \u001b[0;32mas\u001b[0m \u001b[0mcp\u001b[0m\u001b[0;34m\u001b[0m\u001b[0;34m\u001b[0m\u001b[0m\n\u001b[0m\u001b[1;32m      4\u001b[0m \u001b[0mloadings_all\u001b[0m \u001b[0;34m=\u001b[0m \u001b[0merror_analysis_complete\u001b[0m\u001b[0;34m(\u001b[0m\u001b[0mfactor_data\u001b[0m\u001b[0;34m,\u001b[0m\u001b[0masset_data\u001b[0m\u001b[0;34m,\u001b[0m\u001b[0mcolnames\u001b[0m\u001b[0;34m=\u001b[0m\u001b[0massetname\u001b[0m\u001b[0;34m)\u001b[0m\u001b[0;34m\u001b[0m\u001b[0;34m\u001b[0m\u001b[0m\n\u001b[1;32m      5\u001b[0m \u001b[0mloadings_all\u001b[0m\u001b[0;34m\u001b[0m\u001b[0;34m\u001b[0m\u001b[0m\n",
      "\u001b[0;31mModuleNotFoundError\u001b[0m: No module named 'cvxpy'"
     ]
    }
   ],
   "source": [
    "# Out-of-sample Error Analysis for Factor Models\n",
    "# Will give error. Perhaps try later...\n",
    "import cvxpy as cp\n",
    "loadings_all = error_analysis_complete(factor_data,asset_data,colnames=assetname)\n",
    "loadings_all"
   ]
  },
  {
   "cell_type": "code",
   "execution_count": 121,
   "metadata": {},
   "outputs": [
    {
     "name": "stdout",
     "output_type": "stream",
     "text": [
      "For asset: US Equities\n",
      "\n"
     ]
    },
    {
     "name": "stderr",
     "output_type": "stream",
     "text": [
      "/anaconda/lib/python3.6/site-packages/sklearn/model_selection/_search.py:813: DeprecationWarning: The default of the `iid` parameter will change from True to False in version 0.22 and will be removed in 0.24. This will change numeric results when test-set sizes are unequal.\n",
      "  DeprecationWarning)\n"
     ]
    },
    {
     "name": "stdout",
     "output_type": "stream",
     "text": [
      "The out-of-sample error of OLS is: 0.115220\n",
      "\n",
      "The out-of-sample error of best 2-subset is: 0.114064\n",
      "\n",
      "The out-of-sample error of best 3-subset is: 0.113338\n",
      "\n",
      "The out-of-sample error of LASSO is: 0.114275\n",
      "\n",
      "For asset: EAFE Equities\n",
      "\n",
      "The out-of-sample error of OLS is: 0.012072\n",
      "\n",
      "The out-of-sample error of best 2-subset is: 0.012472\n",
      "\n",
      "The out-of-sample error of best 3-subset is: 0.012262\n",
      "\n",
      "The out-of-sample error of LASSO is: 0.012260\n",
      "\n",
      "For asset: EM Equities\n",
      "\n"
     ]
    },
    {
     "name": "stderr",
     "output_type": "stream",
     "text": [
      "/anaconda/lib/python3.6/site-packages/sklearn/model_selection/_search.py:813: DeprecationWarning: The default of the `iid` parameter will change from True to False in version 0.22 and will be removed in 0.24. This will change numeric results when test-set sizes are unequal.\n",
      "  DeprecationWarning)\n"
     ]
    },
    {
     "name": "stdout",
     "output_type": "stream",
     "text": [
      "The out-of-sample error of OLS is: 0.164375\n",
      "\n",
      "The out-of-sample error of best 2-subset is: 0.144975\n",
      "\n",
      "The out-of-sample error of best 3-subset is: 0.143182\n",
      "\n",
      "The out-of-sample error of LASSO is: 0.164028\n",
      "\n",
      "For asset: Long Treasuries\n",
      "\n"
     ]
    },
    {
     "name": "stderr",
     "output_type": "stream",
     "text": [
      "/anaconda/lib/python3.6/site-packages/sklearn/model_selection/_search.py:813: DeprecationWarning: The default of the `iid` parameter will change from True to False in version 0.22 and will be removed in 0.24. This will change numeric results when test-set sizes are unequal.\n",
      "  DeprecationWarning)\n"
     ]
    },
    {
     "name": "stdout",
     "output_type": "stream",
     "text": [
      "The out-of-sample error of OLS is: 0.062735\n",
      "\n",
      "The out-of-sample error of best 2-subset is: 0.063686\n",
      "\n",
      "The out-of-sample error of best 3-subset is: 0.063086\n",
      "\n",
      "The out-of-sample error of LASSO is: 0.063591\n",
      "\n",
      "For asset: Corp Bonds\n",
      "\n"
     ]
    },
    {
     "name": "stderr",
     "output_type": "stream",
     "text": [
      "/anaconda/lib/python3.6/site-packages/sklearn/model_selection/_search.py:813: DeprecationWarning: The default of the `iid` parameter will change from True to False in version 0.22 and will be removed in 0.24. This will change numeric results when test-set sizes are unequal.\n",
      "  DeprecationWarning)\n"
     ]
    },
    {
     "name": "stdout",
     "output_type": "stream",
     "text": [
      "The out-of-sample error of OLS is: 0.025067\n",
      "\n",
      "The out-of-sample error of best 2-subset is: 0.026065\n",
      "\n",
      "The out-of-sample error of best 3-subset is: 0.025066\n",
      "\n",
      "The out-of-sample error of LASSO is: 0.025705\n",
      "\n",
      "For asset: TIPS\n",
      "\n"
     ]
    },
    {
     "name": "stderr",
     "output_type": "stream",
     "text": [
      "/anaconda/lib/python3.6/site-packages/sklearn/model_selection/_search.py:813: DeprecationWarning: The default of the `iid` parameter will change from True to False in version 0.22 and will be removed in 0.24. This will change numeric results when test-set sizes are unequal.\n",
      "  DeprecationWarning)\n"
     ]
    },
    {
     "name": "stdout",
     "output_type": "stream",
     "text": [
      "The out-of-sample error of OLS is: 0.000002\n",
      "\n",
      "The out-of-sample error of best 2-subset is: 0.000002\n",
      "\n",
      "The out-of-sample error of best 3-subset is: 0.000002\n",
      "\n",
      "The out-of-sample error of LASSO is: 0.000484\n",
      "\n",
      "For asset: Real Estate\n",
      "\n"
     ]
    },
    {
     "name": "stderr",
     "output_type": "stream",
     "text": [
      "/anaconda/lib/python3.6/site-packages/sklearn/model_selection/_search.py:813: DeprecationWarning: The default of the `iid` parameter will change from True to False in version 0.22 and will be removed in 0.24. This will change numeric results when test-set sizes are unequal.\n",
      "  DeprecationWarning)\n"
     ]
    },
    {
     "name": "stdout",
     "output_type": "stream",
     "text": [
      "The out-of-sample error of OLS is: 0.171245\n",
      "\n",
      "The out-of-sample error of best 2-subset is: 0.177609\n",
      "\n",
      "The out-of-sample error of best 3-subset is: 0.179572\n",
      "\n",
      "The out-of-sample error of LASSO is: 0.177287\n",
      "\n",
      "For asset: Commodities\n",
      "\n"
     ]
    },
    {
     "name": "stderr",
     "output_type": "stream",
     "text": [
      "/anaconda/lib/python3.6/site-packages/sklearn/model_selection/_search.py:813: DeprecationWarning: The default of the `iid` parameter will change from True to False in version 0.22 and will be removed in 0.24. This will change numeric results when test-set sizes are unequal.\n",
      "  DeprecationWarning)\n"
     ]
    },
    {
     "name": "stdout",
     "output_type": "stream",
     "text": [
      "The out-of-sample error of OLS is: 0.235408\n",
      "\n",
      "The out-of-sample error of best 2-subset is: 0.242485\n",
      "\n",
      "The out-of-sample error of best 3-subset is: 0.236958\n",
      "\n",
      "The out-of-sample error of LASSO is: 0.232217\n",
      "\n",
      "For asset: T-bill\n",
      "\n"
     ]
    },
    {
     "name": "stderr",
     "output_type": "stream",
     "text": [
      "/anaconda/lib/python3.6/site-packages/sklearn/model_selection/_search.py:813: DeprecationWarning: The default of the `iid` parameter will change from True to False in version 0.22 and will be removed in 0.24. This will change numeric results when test-set sizes are unequal.\n",
      "  DeprecationWarning)\n"
     ]
    },
    {
     "name": "stdout",
     "output_type": "stream",
     "text": [
      "The out-of-sample error of OLS is: 0.010757\n",
      "\n",
      "The out-of-sample error of best 2-subset is: 0.010865\n",
      "\n",
      "The out-of-sample error of best 3-subset is: 0.010802\n",
      "\n",
      "The out-of-sample error of LASSO is: 0.011572\n",
      "\n",
      "For asset: US Equities\n",
      "\n"
     ]
    },
    {
     "name": "stderr",
     "output_type": "stream",
     "text": [
      "/anaconda/lib/python3.6/site-packages/sklearn/model_selection/_search.py:813: DeprecationWarning: The default of the `iid` parameter will change from True to False in version 0.22 and will be removed in 0.24. This will change numeric results when test-set sizes are unequal.\n",
      "  DeprecationWarning)\n"
     ]
    },
    {
     "name": "stdout",
     "output_type": "stream",
     "text": [
      "The out-of-sample error of OLS is: 0.072517\n",
      "\n",
      "The out-of-sample error of best 2-subset is: 0.071354\n",
      "\n",
      "The out-of-sample error of best 3-subset is: 0.071852\n",
      "\n",
      "The out-of-sample error of LASSO is: 0.073215\n",
      "\n",
      "For asset: EAFE Equities\n",
      "\n",
      "The out-of-sample error of OLS is: 0.009266\n",
      "\n",
      "The out-of-sample error of best 2-subset is: 0.010119\n",
      "\n",
      "The out-of-sample error of best 3-subset is: 0.009385\n",
      "\n",
      "The out-of-sample error of LASSO is: 0.009277\n",
      "\n",
      "For asset: EM Equities\n",
      "\n"
     ]
    },
    {
     "name": "stderr",
     "output_type": "stream",
     "text": [
      "/anaconda/lib/python3.6/site-packages/sklearn/model_selection/_search.py:813: DeprecationWarning: The default of the `iid` parameter will change from True to False in version 0.22 and will be removed in 0.24. This will change numeric results when test-set sizes are unequal.\n",
      "  DeprecationWarning)\n"
     ]
    },
    {
     "name": "stdout",
     "output_type": "stream",
     "text": [
      "The out-of-sample error of OLS is: 0.065787\n",
      "\n",
      "The out-of-sample error of best 2-subset is: 0.070231\n",
      "\n",
      "The out-of-sample error of best 3-subset is: 0.067209\n",
      "\n",
      "The out-of-sample error of LASSO is: 0.071802\n",
      "\n",
      "For asset: Long Treasuries\n",
      "\n"
     ]
    },
    {
     "name": "stderr",
     "output_type": "stream",
     "text": [
      "/anaconda/lib/python3.6/site-packages/sklearn/model_selection/_search.py:813: DeprecationWarning: The default of the `iid` parameter will change from True to False in version 0.22 and will be removed in 0.24. This will change numeric results when test-set sizes are unequal.\n",
      "  DeprecationWarning)\n"
     ]
    },
    {
     "name": "stdout",
     "output_type": "stream",
     "text": [
      "The out-of-sample error of OLS is: 0.084790\n",
      "\n",
      "The out-of-sample error of best 2-subset is: 0.086919\n",
      "\n",
      "The out-of-sample error of best 3-subset is: 0.086360\n",
      "\n",
      "The out-of-sample error of LASSO is: 0.090110\n",
      "\n",
      "For asset: Corp Bonds\n",
      "\n"
     ]
    },
    {
     "name": "stderr",
     "output_type": "stream",
     "text": [
      "/anaconda/lib/python3.6/site-packages/sklearn/model_selection/_search.py:813: DeprecationWarning: The default of the `iid` parameter will change from True to False in version 0.22 and will be removed in 0.24. This will change numeric results when test-set sizes are unequal.\n",
      "  DeprecationWarning)\n"
     ]
    },
    {
     "name": "stdout",
     "output_type": "stream",
     "text": [
      "The out-of-sample error of OLS is: 0.011730\n",
      "\n",
      "The out-of-sample error of best 2-subset is: 0.014551\n",
      "\n",
      "The out-of-sample error of best 3-subset is: 0.012148\n",
      "\n",
      "The out-of-sample error of LASSO is: 0.013751\n",
      "\n",
      "For asset: TIPS\n",
      "\n"
     ]
    },
    {
     "name": "stderr",
     "output_type": "stream",
     "text": [
      "/anaconda/lib/python3.6/site-packages/sklearn/model_selection/_search.py:813: DeprecationWarning: The default of the `iid` parameter will change from True to False in version 0.22 and will be removed in 0.24. This will change numeric results when test-set sizes are unequal.\n",
      "  DeprecationWarning)\n"
     ]
    },
    {
     "name": "stdout",
     "output_type": "stream",
     "text": [
      "The out-of-sample error of OLS is: 0.000001\n",
      "\n",
      "The out-of-sample error of best 2-subset is: 0.000001\n",
      "\n",
      "The out-of-sample error of best 3-subset is: 0.000001\n",
      "\n",
      "The out-of-sample error of LASSO is: 0.000227\n",
      "\n",
      "For asset: Real Estate\n",
      "\n"
     ]
    },
    {
     "name": "stderr",
     "output_type": "stream",
     "text": [
      "/anaconda/lib/python3.6/site-packages/sklearn/model_selection/_search.py:813: DeprecationWarning: The default of the `iid` parameter will change from True to False in version 0.22 and will be removed in 0.24. This will change numeric results when test-set sizes are unequal.\n",
      "  DeprecationWarning)\n"
     ]
    },
    {
     "name": "stdout",
     "output_type": "stream",
     "text": [
      "The out-of-sample error of OLS is: 0.188236\n",
      "\n",
      "The out-of-sample error of best 2-subset is: 0.200710\n",
      "\n",
      "The out-of-sample error of best 3-subset is: 0.179108\n",
      "\n",
      "The out-of-sample error of LASSO is: 0.186107\n",
      "\n",
      "For asset: Commodities\n",
      "\n"
     ]
    },
    {
     "name": "stderr",
     "output_type": "stream",
     "text": [
      "/anaconda/lib/python3.6/site-packages/sklearn/model_selection/_search.py:813: DeprecationWarning: The default of the `iid` parameter will change from True to False in version 0.22 and will be removed in 0.24. This will change numeric results when test-set sizes are unequal.\n",
      "  DeprecationWarning)\n"
     ]
    },
    {
     "name": "stdout",
     "output_type": "stream",
     "text": [
      "The out-of-sample error of OLS is: 0.105290\n",
      "\n",
      "The out-of-sample error of best 2-subset is: 0.083305\n",
      "\n",
      "The out-of-sample error of best 3-subset is: 0.084167\n",
      "\n",
      "The out-of-sample error of LASSO is: 0.094049\n",
      "\n",
      "For asset: T-bill\n",
      "\n",
      "The out-of-sample error of OLS is: 0.005983\n",
      "\n",
      "The out-of-sample error of best 2-subset is: 0.006143\n",
      "\n",
      "The out-of-sample error of best 3-subset is: 0.005909\n",
      "\n",
      "The out-of-sample error of LASSO is: 0.006489\n",
      "\n"
     ]
    },
    {
     "name": "stderr",
     "output_type": "stream",
     "text": [
      "/anaconda/lib/python3.6/site-packages/sklearn/model_selection/_search.py:813: DeprecationWarning: The default of the `iid` parameter will change from True to False in version 0.22 and will be removed in 0.24. This will change numeric results when test-set sizes are unequal.\n",
      "  DeprecationWarning)\n"
     ]
    }
   ],
   "source": [
    "# Out-of-sample Error Analysis for Factor Models, regime-based\n",
    "\n",
    "# Here is previous result for reference\n",
    "\n",
    "asset_pd = pd.DataFrame(asset_data, columns=assetname)\n",
    "loadings_n = error_analysis_complete(factor_data[regime_data==1,:],asset_data[regime_data==1,:])\n",
    "loadings_c = error_analysis_complete(factor_data[regime_data!=1,:],asset_data[regime_data!=1,:])"
   ]
  },
  {
   "cell_type": "markdown",
   "metadata": {},
   "source": [
    "## 3. Asset Simulation"
   ]
  },
  {
   "cell_type": "code",
   "execution_count": 33,
   "metadata": {},
   "outputs": [],
   "source": [
    "# It is always better to construct a class...\n",
    "class asset_simulation:\n",
    "    \"\"\"\n",
    "    Defines a full regime-based asset simulation class.\n",
    "    \n",
    "    Variables:\n",
    "        asset_data: contains asset return information. \n",
    "        asset_data_type: 'TR'=total return index, 'LogRet'=log returns, 'ARet'=arithmatic returns\n",
    "        regime_data: contains information for regime analysis. Should be 3 columns: Date, Return and Total Return Index\n",
    "        regime: 'SP500' by default. (More careful plotting for SP500, but can do others)\n",
    "        beta: fitted values for trend-filtering algorithm, or we can manually give some data (e.g. NBER dates)\n",
    "    \n",
    "    Settings:\n",
    "        random_seed: for reproducible codes\n",
    "        n_scenarios: number of scenarios to generate\n",
    "        beta_threshold: for trend-filtering algorithm\n",
    "        freq: data frequency. Will support quarterly in the future.\n",
    "        \n",
    "    Methods:\n",
    "        \n",
    "        trend_filtering: runs the algorithm with a certain value of lambda.\n",
    "        filter_plot: plot original series vs fitted series.\n",
    "             \n",
    "    \"\"\"\n",
    "    def __init__(self, ad, adt, reg, reg_name='SP500'):\n",
    "        self.asset_data = ad\n",
    "        self.n_hist, self.n_asset = ad.shape\n",
    "        self.asset_data_type = adt\n",
    "        self.regime_data = reg\n",
    "        self.regime_type = reg_name\n",
    "        self.beta = 0\n",
    "        self.regime = 0\n",
    "        self.mu_n = 0\n",
    "        self.mu_c = 0\n",
    "        self.Q_n = 0\n",
    "        self.Q_c = 0\n",
    "        self.change_settings()\n",
    "        \n",
    "    def change_settings(self, random_seed=777, n_scenarios=10000, n_years=50, freq=12, beta_threshold=1e-6):\n",
    "        self.random_seed = random_seed\n",
    "        self.n_scenarios = n_scenarios\n",
    "        self.n_years = n_years\n",
    "        self.freq = freq\n",
    "        self.beta_threshold = beta_threshold\n",
    "    \n",
    "    def trend_filtering(self, lambda_value):\n",
    "        '''Runs trend-filtering algorithm to separate regimes.\n",
    "        '''\n",
    "        data = self.regime_data.values[:,0]\n",
    "        n = np.size(data)\n",
    "        x_ret = data.reshape(n)\n",
    "\n",
    "        Dfull = np.diag([1]*n) - np.diag([1]*(n-1),1)\n",
    "        D = Dfull[0:(n-1),]\n",
    "        \n",
    "        import cvxpy as cp\n",
    "        beta = cp.Variable(n)\n",
    "        lambd = cp.Parameter(nonneg=True)\n",
    "\n",
    "        def tf_obj(x,beta,lambd):\n",
    "            return cp.norm(x-beta,2)**2 + lambd*cp.norm(cp.matmul(D, beta),1)\n",
    "\n",
    "        problem = cp.Problem(cp.Minimize(tf_obj(x_ret, beta, lambd)))\n",
    "\n",
    "        lambd.value = lambda_value\n",
    "        problem.solve()\n",
    "        \n",
    "        self.beta = beta.value # Update\n",
    "        self.regime = np.sign(self.beta-self.beta_threshold)\n",
    "\n",
    "    def transition_matrix(self):\n",
    "        \"\"\"Computes the transition matrix given the regime vector\n",
    "        \"\"\"\n",
    "        regime = self.regime\n",
    "        n1,n2,n3,n4 = 0,0,0,0\n",
    "        for i in range(len(regime)-1):\n",
    "            if regime[i] == 1:\n",
    "                if regime[i+1] == 1:\n",
    "                    n1 += 1\n",
    "                else:\n",
    "                    n2 += 1\n",
    "            else:\n",
    "                if regime[i+1] == 1:\n",
    "                    n3 += 1\n",
    "                else:\n",
    "                    n4 += 1\n",
    "        return n1/(n1+n2), n2/(n1+n2), n3/(n3+n4), n4/(n3+n4)\n",
    "\n",
    "    def filter_plot(self, lambda_value):\n",
    "        ret_sp = self.regime_data.iloc[:,1]\n",
    "        self.trend_filtering(lambda_value)\n",
    "        beta_pd = pd.Series(self.beta,index=self.regime_data.index)\n",
    "\n",
    "        plt.figure(figsize=(12,9))\n",
    "        plt.plot(ret_sp, alpha=0.4,label='Original Series')\n",
    "        plt.plot(beta_pd,label='Fitted Series')\n",
    "        plt.xlabel('Year')\n",
    "        plt.ylabel('Monthly Return (%)')\n",
    "        plt.legend(loc='upper right')\n",
    "        plt.show()\n",
    "\n",
    "    def regime_switch(self):\n",
    "        '''returns list of starting points of each regime'''\n",
    "        n = len(self.beta)\n",
    "        init_points = [0]\n",
    "        curr_reg = (self.beta[0]>self.beta_threshold)\n",
    "        for i in range(n):\n",
    "            if (self.beta[i]>self.beta_threshold) == (not curr_reg):\n",
    "                curr_reg = not curr_reg\n",
    "                init_points.append(i)\n",
    "        init_points.append(n)\n",
    "        return init_points\n",
    "\n",
    "    def plot_regime_color(dataset, regime_num=0, TR_num=1, lambda_value=16, log_TR = True):\n",
    "        '''\n",
    "        Plot of return series versus regime\n",
    "        ---> Needs some work on this. Maybe later...\n",
    "        '''\n",
    "        returns = dataset.iloc[:,regime_num]\n",
    "        TR = dataset.iloc[:,TR_num]\n",
    "        betas = trend_filtering(returns.values,lambda_value)\n",
    "        regimelist = regime_switch(betas)\n",
    "        curr_reg = np.sign(betas[0]-1e-5)\n",
    "        y_max = np.max(TR) + 500\n",
    "\n",
    "        if log_TR:\n",
    "            fig, ax = plt.subplots()\n",
    "            for i in range(len(regimelist)-1):\n",
    "                if curr_reg == 1:\n",
    "                    ax.axhspan(0, y_max+500, xmin=regimelist[i]/regimelist[-1], \n",
    "                               xmax=regimelist[i+1]/regimelist[-1], facecolor='green', alpha=0.3)\n",
    "                else:\n",
    "                    ax.axhspan(0, y_max+500, xmin=regimelist[i]/regimelist[-1], \n",
    "                               xmax=regimelist[i+1]/regimelist[-1], facecolor='red', alpha=0.5)\n",
    "                curr_reg = -1 * curr_reg\n",
    "\n",
    "            fig.set_size_inches(12,9)   \n",
    "            plt.plot(TR, label='Total Return')\n",
    "            plt.ylabel('SP500 Log-scale')\n",
    "            plt.xlabel('Year')\n",
    "            plt.yscale('log')\n",
    "            plt.xlim([dataset.index[0], dataset.index[-1]])\n",
    "            plt.ylim([80, 3000])\n",
    "            plt.yticks([100, 500, 1000, 2000, 3000],[100, 500, 1000, 2000, 3000])\n",
    "            plt.title('Regime Plot of SP 500', fontsize=24)\n",
    "            plt.show()\n",
    "\n",
    "    def regime_return(self):\n",
    "        \"\"\"Computes returns of a list of regime columns identified by number\"\"\"\n",
    "        \n",
    "        ret_n = self.asset_data.values[self.regime==1, :]\n",
    "        ret_c = self.asset_data.values[self.regime==-1, :]\n",
    "        self.mu_n = geo_return(ret_n)\n",
    "        self.mu_c = geo_return(ret_c)\n",
    "        self.Q_n = np.cov(ret_n.T)\n",
    "        self.Q_c = np.cov(ret_c.T)\n",
    "        \n",
    "    def regime_asset(self,n,mu1,mu2,Q1,Q2,p1,p2):\n",
    "        s_1 = np.random.multivariate_normal(mu1, Q1, n).T\n",
    "        s_2 = np.random.multivariate_normal(mu2, Q2, n).T\n",
    "        regime = np.ones(n)\n",
    "        for i in range(n-1):\n",
    "            if regime[i] == 1:\n",
    "                if np.random.rand() > p1:\n",
    "                    regime[i+1] = 0\n",
    "            else:\n",
    "                if np.random.rand() > p2:\n",
    "                    regime[i+1] = 0\n",
    "        return (regime*s_1 + (1-regime)*s_2).T\n",
    "\n",
    "    \n",
    "    def regime_simulation(self):\n",
    "        \"\"\"\n",
    "        Simulates regime-based monthly returns.\n",
    "        Returns a (n_year*12) * n_asset * n_scenario tensor for all asset information.\n",
    "        \"\"\"\n",
    "        p1, _, p2, _ = self.transition_matrix()\n",
    "\n",
    "        r_all = np.zeros((self.n_years*12, self.n_asset, self.n_scenarios))\n",
    "\n",
    "        np.random.seed(self.random_seed)\n",
    "        for i in range(self.n_scenarios):\n",
    "            r_all[:,:,i] = self.regime_asset(self.n_years*self.freq,\n",
    "                                        self.mu_n,self.mu_c,self.Q_n,self.Q_c,p1,p2)\n",
    "        return r_all\n",
    "\n",
    "    def regime_simulation_cut(self,lower,upper):\n",
    "        \"\"\"\n",
    "        Simulates regime-based monthly returns.\n",
    "        Returns a (n_year*12) * n_asset * n_scenario tensor for all asset information.\n",
    "        \"\"\"\n",
    "        p1, _, p2, _ = self.transition_matrix()\n",
    "\n",
    "        r_all = np.zeros((self.n_years*12, self.n_asset, self.n_scenarios))\n",
    "        \n",
    "        np.random.seed(self.random_seed)\n",
    "        i = 0\n",
    "        while r_all[0,0,-1] == 0:\n",
    "            r_temp = self.regime_asset(self.n_years*self.freq,\n",
    "                                        self.mu_n,self.mu_c,self.Q_n,self.Q_c,p1,p2)\n",
    "            us_eq_sim = r_temp[:,0] + 1\n",
    "            ann_ret_simu = (np.cumprod(us_eq_sim)[-1]) ** (1/self.n_years)\n",
    "            if ann_ret_simu > lower and ann_ret_simu < upper:\n",
    "                r_all[:,:,i] = r_temp\n",
    "                i = i + 1\n",
    "        return r_all\n",
    "    \n",
    "    def print_result(self):\n",
    "        s1 = np.sqrt(12*np.diag(self.Q_n))\n",
    "        s2 = np.sqrt(12*np.diag(self.Q_c))\n",
    "        info = np.vstack((self.mu_n,s1,self.mu_c,s2))\n",
    "        \n",
    "        return pd.DataFrame(info, index=['Mean-Normal','STDEV-Normal','Mean-Crash','STDEV-Crash'], \n",
    "                            columns=self.asset_data.columns)"
   ]
  },
  {
   "cell_type": "code",
   "execution_count": 34,
   "metadata": {},
   "outputs": [],
   "source": [
    "asset_pd = pd.DataFrame(asset_data, columns=assetname)\n",
    "\n",
    "asset_retire = asset_simulation(asset_pd, 'ARet', SP500_data)\n",
    "asset_retire.regime = regime_data\n",
    "asset_retire.regime_return()\n",
    "asset_retire.random_seed = 777"
   ]
  },
  {
   "cell_type": "code",
   "execution_count": 35,
   "metadata": {},
   "outputs": [],
   "source": [
    "asset_retire2 = asset_simulation(asset_pd, 'ARet', SP500_data)\n",
    "asset_retire2.regime = regime_data\n",
    "asset_retire2.regime_return()"
   ]
  },
  {
   "cell_type": "code",
   "execution_count": 36,
   "metadata": {},
   "outputs": [],
   "source": [
    "# Compare with NBER regime, data updated\n",
    "asset_data_NBER = pd.read_csv(file_path + 'AssetData.csv',index_col=0, header=0,parse_dates=[0])\n",
    "regime_NBER = asset_data_NBER['Regime-NBER'].values[36:]\n",
    "asset_retire2.regime = regime_NBER\n",
    "asset_retire2.regime_return()\n",
    "asset_retire2.print_result().to_csv('regime_NBER.csv')"
   ]
  },
  {
   "cell_type": "code",
   "execution_count": 37,
   "metadata": {},
   "outputs": [
    {
     "data": {
      "text/plain": [
       "array([0.06080395, 0.06758166, 0.08840257, 0.03820389, 0.02143111,\n",
       "       0.02154047, 0.10438683, 0.08776086, 0.00194877])"
      ]
     },
     "execution_count": 37,
     "metadata": {},
     "output_type": "execute_result"
    }
   ],
   "source": [
    "np.sqrt(np.diag(asset_retire.Q_c))"
   ]
  },
  {
   "cell_type": "code",
   "execution_count": 38,
   "metadata": {},
   "outputs": [],
   "source": [
    "asset_data_retire = asset_data.copy()\n",
    "asset_data_retire[:,3] = factor_data[:,1]\n",
    "\n",
    "asset_retire.mu_n = np.array([1.06,1,1.2,0.2,0.42,0.25,1.05,0.68,0.2])/100\n",
    "asset_retire.mu_c = np.array([-2.21,-2.5,-2.87,0.8,0.46,0.8,-2.07,-1.21,0.2])/100\n",
    "asset_retire.Q_n = ewma_mat(asset_data_retire[regime_data==1,:],.995)\n",
    "asset_retire.Q_c = ewma_mat(asset_data_retire[regime_data!=1,:],.995)"
   ]
  },
  {
   "cell_type": "code",
   "execution_count": 39,
   "metadata": {},
   "outputs": [
    {
     "data": {
      "text/plain": [
       "array([1.07395706, 1.06228154, 1.07741078, 1.03469729, 1.05221018,\n",
       "       1.04002355, 1.07522203, 1.05090309, 1.02425629])"
      ]
     },
     "execution_count": 39,
     "metadata": {},
     "output_type": "execute_result"
    }
   ],
   "source": [
    "asset_retire.n_scenarios = 10000\n",
    "r_all_50 = asset_retire.regime_simulation()\n",
    "# Test annualized return\n",
    "(1+np.mean(np.mean(r_all_50,axis=0),axis=1))**12"
   ]
  },
  {
   "cell_type": "code",
   "execution_count": 40,
   "metadata": {},
   "outputs": [
    {
     "name": "stdout",
     "output_type": "stream",
     "text": [
      "1.0633328398292599 0.03313819304528493\n"
     ]
    }
   ],
   "source": [
    "us_eq_sim = r_all_50[:,0,:]\n",
    "\n",
    "ann_ret_simu = (np.cumprod(1+us_eq_sim,axis=0)[-1,:]) ** (1/50)\n",
    "\n",
    "print(ann_ret_simu.mean(),ann_ret_simu.std())"
   ]
  },
  {
   "cell_type": "markdown",
   "metadata": {},
   "source": [
    "### Truncate the simulated numbers so that the equity return is between 4.5% and 8.5%"
   ]
  },
  {
   "cell_type": "code",
   "execution_count": 41,
   "metadata": {},
   "outputs": [
    {
     "data": {
      "text/plain": [
       "array([1.07621528, 1.06460248, 1.08027367, 1.03441866, 1.05241546,\n",
       "       1.0399386 , 1.07844666, 1.05244575, 1.02427346])"
      ]
     },
     "execution_count": 41,
     "metadata": {},
     "output_type": "execute_result"
    }
   ],
   "source": [
    "asset_retire.n_scenarios = 10000\n",
    "r_all_cut = asset_retire.regime_simulation_cut(1.045,1.085)\n",
    "(1+np.mean(np.mean(r_all_cut,axis=0),axis=1))**12"
   ]
  },
  {
   "cell_type": "code",
   "execution_count": 42,
   "metadata": {},
   "outputs": [
    {
     "name": "stdout",
     "output_type": "stream",
     "text": [
      "1.065275538021011 0.011319818838214273\n"
     ]
    },
    {
     "data": {
      "text/plain": [
       "(array([758., 762., 776., 864., 919., 841., 889., 834., 842., 874., 837.,\n",
       "        804.]),\n",
       " array([1.04500331, 1.04833619, 1.05166907, 1.05500195, 1.05833484,\n",
       "        1.06166772, 1.0650006 , 1.06833348, 1.07166636, 1.07499924,\n",
       "        1.07833212, 1.081665  , 1.08499788]),\n",
       " <a list of 12 Patch objects>)"
      ]
     },
     "execution_count": 42,
     "metadata": {},
     "output_type": "execute_result"
    },
    {
     "data": {
      "image/png": "[encoded data removed]",
      "text/plain": [
       "<Figure size 432x288 with 1 Axes>"
      ]
     },
     "metadata": {},
     "output_type": "display_data"
    }
   ],
   "source": [
    "us_eq_cut = r_all_cut[:,0,:]\n",
    "\n",
    "ann_ret_cut = (np.cumprod(1+us_eq_cut,axis=0)[-1,:]) ** (1/50)\n",
    "print(ann_ret_cut.mean(),ann_ret_cut.std())\n",
    "plt.hist(ann_ret_cut, bins=12)"
   ]
  },
  {
   "cell_type": "code",
   "execution_count": 43,
   "metadata": {},
   "outputs": [
    {
     "name": "stdout",
     "output_type": "stream",
     "text": [
      "1.065275538021011 0.011319818838214273\n",
      "1.050813772212351 0.01910111695115402\n",
      "1.055372772710317 0.02650947837634803\n",
      "1.033497803394401 0.006566829721970086\n",
      "1.0510694687089062 0.007443573087236374\n",
      "1.0383301524644455 0.008591565243483413\n",
      "1.0570609006289415 0.025743509513831874\n",
      "1.029449645286481 0.030037657769141406\n",
      "1.0242476890692886 0.001031149151126838\n"
     ]
    }
   ],
   "source": [
    "# A few sanity checks\n",
    "for i in range(9):\n",
    "    \n",
    "    ann_temp = (np.cumprod(1+r_all_cut[:,i,:],axis=0)[-1,:]) ** (1/50)\n",
    "    print(ann_temp.mean(),ann_temp.std())"
   ]
  },
  {
   "cell_type": "code",
   "execution_count": 44,
   "metadata": {},
   "outputs": [
    {
     "name": "stdout",
     "output_type": "stream",
     "text": [
      "0.06521538052990872\n",
      "0.05064011989430717\n",
      "0.055039940255698694\n",
      "0.03347694344242136\n",
      "0.05104311565306219\n",
      "0.038294611182043914\n",
      "0.05674730755945445\n",
      "0.029011224252869727\n",
      "0.024247170021732822\n"
     ]
    }
   ],
   "source": [
    "for i in range(9):\n",
    "    ann_temp = (np.cumprod(1+r_all_cut[:,i,:],axis=0)[-1,:]) ** (1/50)\n",
    "    print(np.cumprod(ann_temp)[-1]**(1/10000)-1)"
   ]
  },
  {
   "cell_type": "code",
   "execution_count": 45,
   "metadata": {},
   "outputs": [
    {
     "name": "stdout",
     "output_type": "stream",
     "text": [
      "0.006139646931594848\n",
      "0.005230420629914153\n",
      "0.006455279905541812\n",
      "0.002823945853700027\n",
      "0.004266405448309616\n",
      "0.003268803947837429\n",
      "0.0063133232251022285\n",
      "0.0042688141992408436\n",
      "0.0020006273317399862\n"
     ]
    }
   ],
   "source": [
    "for i in range(9):\n",
    "    print(r_all_cut[:,i,:].reshape(-1,1).mean())\n",
    "    #print(r_all_cut[:,i,:].reshape(-1,1).std())"
   ]
  },
  {
   "cell_type": "code",
   "execution_count": 46,
   "metadata": {},
   "outputs": [],
   "source": [
    "#asset_retire.print_result().to_csv('simulation_0718.csv')"
   ]
  },
  {
   "cell_type": "markdown",
   "metadata": {},
   "source": [
    "## Factor Momentum - September\n",
    "\n",
    "Notes: here are the last piece of simulations I ran. Skip to section 4 first, then return here for more functionalities."
   ]
  },
  {
   "cell_type": "code",
   "execution_count": 487,
   "metadata": {},
   "outputs": [],
   "source": [
    "asset_pd_new = pd.DataFrame(asset_data_MOM, columns=assetname_new)\n",
    "\n",
    "asset_MOMsim = asset_simulation(asset_pd_new, 'ARet', SP500_data)\n",
    "asset_MOMsim.regime = regime_data\n",
    "asset_MOMsim.regime_return()\n",
    "asset_MOMsim.random_seed = 777"
   ]
  },
  {
   "cell_type": "code",
   "execution_count": 488,
   "metadata": {},
   "outputs": [
    {
     "data": {
      "text/plain": [
       "(array([0.01600942, 0.01161624, 0.01711782, 0.00398439, 0.00593464,\n",
       "        0.00409761, 0.01333648, 0.00351802, 0.00259257]),\n",
       " array([-0.03443902, -0.03559967, -0.04091554,  0.00897984,  0.00342393,\n",
       "         0.0090915 , -0.02552978,  0.0197463 ,  0.00240589]))"
      ]
     },
     "execution_count": 488,
     "metadata": {},
     "output_type": "execute_result"
    }
   ],
   "source": [
    "asset_MOMsim.mu_n, asset_MOMsim.mu_c"
   ]
  },
  {
   "cell_type": "code",
   "execution_count": 553,
   "metadata": {},
   "outputs": [],
   "source": [
    "# \"High\" Settings - 9/5/19 newest estimates\n",
    "\n",
    "asset_MOMsim.mu_n = np.array([1.63,1.40,2.04,0.2,0.42,0.25,1.30,0.25,0.2])/100\n",
    "asset_MOMsim.mu_c = np.array([-3.38,-3.93,-4.16,0.7,0.3,0.6,-1.96,0.75,0.2])/100\n",
    "asset_MOMsim.Q_n = ewma_mat(asset_data_MOM[regime_data==1,:],.995)\n",
    "asset_MOMsim.Q_c = ewma_mat(asset_data_MOM[regime_data!=1,:],.995)"
   ]
  },
  {
   "cell_type": "code",
   "execution_count": 554,
   "metadata": {},
   "outputs": [
    {
     "data": {
      "text/plain": [
       "array([1.11616948, 1.08004106, 1.14890594, 1.03299139, 1.049391  ,\n",
       "       1.03658597, 1.10508645, 1.03911074, 1.02425698])"
      ]
     },
     "execution_count": 554,
     "metadata": {},
     "output_type": "execute_result"
    }
   ],
   "source": [
    "asset_MOMsim.n_scenarios = 10000\n",
    "r_all_MOM = asset_MOMsim.regime_simulation()\n",
    "# Test annualized return\n",
    "(1+np.mean(np.mean(r_all_MOM,axis=0),axis=1))**12"
   ]
  },
  {
   "cell_type": "code",
   "execution_count": 555,
   "metadata": {},
   "outputs": [
    {
     "data": {
      "text/plain": [
       "array([1.1185723 , 1.08284557, 1.15240014, 1.03271317, 1.049487  ,\n",
       "       1.03650341, 1.10710074, 1.0387671 , 1.02426744])"
      ]
     },
     "execution_count": 555,
     "metadata": {},
     "output_type": "execute_result"
    }
   ],
   "source": [
    "r_all_MOMcut = asset_MOMsim.regime_simulation_cut(1.06,1.15)\n",
    "# Test annualized return\n",
    "(1+np.mean(np.mean(r_all_MOMcut,axis=0),axis=1))**12"
   ]
  },
  {
   "cell_type": "code",
   "execution_count": 568,
   "metadata": {},
   "outputs": [
    {
     "data": {
      "text/plain": [
       "(600, 9, 10000)"
      ]
     },
     "execution_count": 568,
     "metadata": {},
     "output_type": "execute_result"
    }
   ],
   "source": [
    "r_all_MOMcut.shape"
   ]
  },
  {
   "cell_type": "code",
   "execution_count": 556,
   "metadata": {},
   "outputs": [
    {
     "data": {
      "text/plain": [
       "array([1.07621528, 1.06460248, 1.08027367, 1.03441866, 1.05241546,\n",
       "       1.0399386 , 1.0751206 , 1.05244575, 1.02427346])"
      ]
     },
     "execution_count": 556,
     "metadata": {},
     "output_type": "execute_result"
    }
   ],
   "source": [
    "# Compare..\n",
    "(1+np.mean(np.mean(r_all_cut,axis=0),axis=1))**12"
   ]
  },
  {
   "cell_type": "code",
   "execution_count": 526,
   "metadata": {},
   "outputs": [],
   "source": [
    "# Old\n",
    "#_, _, report_MOM2 = simulation_savings_MOM(hold_vec_MOM,r_all_MOMcut+1,saving_rate=0.10,init_salary=132900)\n",
    "#report_MOM2.to_csv('report0830_s10w13.csv')\n",
    "\n",
    "#_, _, report_MOM4 = simulation_savings_MOM(hold_vec_MOM,r_all_MOMcut+1,saving_rate=0.08,init_salary=132900)\n",
    "#report_MOM4.to_csv('report0830_s8w13.csv')\n",
    "\n",
    "_, _, report_MOM3 = simulation_savings_MOM(hold_vec_MOM,r_all_MOMcut+1,saving_rate=0.08,init_salary=200000)\n",
    "report_MOM3.to_csv('report0830_s8w20.csv')\n",
    "\n",
    "_, _, report_MOM5 = simulation_savings_MOM(hold_vec_MOM,r_all_MOMcut+1,saving_rate=0.10,init_salary=200000)\n",
    "report_MOM5.to_csv('report0830_s10w20.csv')"
   ]
  },
  {
   "cell_type": "code",
   "execution_count": 534,
   "metadata": {},
   "outputs": [],
   "source": [
    "# New test - Aug 29 - US DEV EM TREA CORP TIPS REITS (MOM) TBILL\n",
    "hold_vec = np.array([[0, 0, 0, 0.3, 0.3, 0.3, 0, 0, 0.1], # Bonds\n",
    "                    [0.4, 0.1, 0.2, 0.1, 0, 0.1, 0.1, 0, 0], # \"60-40\" - 80% equities in fact\n",
    "                     [0.45, 0.05, 0.25, 0.05, 0, 0.05, 0.15, 0, 0], # SGP - 90% equity first\n",
    "                    [0.15, 0.0125, 0.05, 0.25, 0, 0.5, 0.0375, 0, 0]]) # RGP - 25% equity first, 90% equity last\n",
    "\n",
    "hold_vec_MOM = np.array([[0, 0, 0, 0.3, 0.3, 0.3, 0, 0, 0.1], # Bonds\n",
    "                    [0.4, 0.1, 0.2, 0.1, 0, 0.1, 0.1, 0, 0], # \"60-40\" - 80% equities in fact\n",
    "                     [0.45, 0.05, 0.25, 0.05, 0, 0.05, 0.15, 0, 0], # SGP - 90% equity first\n",
    "                    [0.15, 0.0125, 0.05, 0.25, 0, 0.5, 0.0375, 0, 0]]) # RGP - 25% equity first, 90% equity last\n",
    "\n",
    "# High settings\n",
    "R_mat = 1 + r_all_MOMcut\n",
    "savings = [0.06, 0.07, 0.08, 0.09, 0.10]\n",
    "report_MOM1 = simulation_savings_full(hold_vec_MOM,R_mat,savings,MOM=False,sex='F',init_salary=132900)\n",
    "report_MOM1.to_csv('report0904_w13F.csv')\n",
    "\n",
    "report_MOM2 = simulation_savings_full(hold_vec_MOM,R_mat,savings,MOM=True,sex='F',init_salary=132900)\n",
    "report_MOM2.to_csv('report0904_MOMw13F.csv')"
   ]
  },
  {
   "cell_type": "code",
   "execution_count": 540,
   "metadata": {},
   "outputs": [],
   "source": [
    "# Original Settings\n",
    "R_mat = 1 + r_all_cut\n",
    "savings = [0.08, 0.10, 0.12, 0.13, 0.15]\n",
    "simulation_savings_full(hold_vec_MOM,R_mat,savings,1.055,False,sex='F',init_salary=132900).to_csv('report0905_w13F_low.csv')\n",
    "simulation_savings_full(hold_vec_MOM,R_mat,savings,1.055,False,sex='F',init_salary=200000).to_csv('report0905_w20F_low.csv')\n",
    "simulation_savings_full(hold_vec_MOM,R_mat,savings,1.055,False,sex='M',init_salary=200000).to_csv('report0905_w20M_low.csv')"
   ]
  },
  {
   "cell_type": "code",
   "execution_count": 557,
   "metadata": {},
   "outputs": [],
   "source": [
    "# High Settings - Sep 5 Results\n",
    "R_mat = 1 + r_all_MOMcut\n",
    "savings = [0.06, 0.07, 0.08, 0.09, 0.10, 0.12]\n",
    "simulation_savings_full(hold_vec_MOM,R_mat,savings,1.08,False,sex='F',init_salary=132900).to_csv('report0905_w13F_high.csv')\n",
    "simulation_savings_full(hold_vec_MOM,R_mat,savings,1.08,True,sex='F',init_salary=132900).to_csv('report0905_w13F_highMOM.csv')"
   ]
  },
  {
   "cell_type": "code",
   "execution_count": 546,
   "metadata": {},
   "outputs": [
    {
     "data": {
      "text/plain": [
       "(array([1.18295818, 1.15389462, 1.23289241, 1.02426577, 1.04406571,\n",
       "        1.03041596, 1.13758223, 1.03041596, 1.02426577]),\n",
       " array([0.76383648, 0.79050144, 0.74346666, 1.07442417, 1.0390831 ,\n",
       "        1.07442417, 0.92584651, 1.0938069 , 1.02426577]))"
      ]
     },
     "execution_count": 546,
     "metadata": {},
     "output_type": "execute_result"
    }
   ],
   "source": [
    "# US DEV EM TREA CORP TIPS REITS (MOM) TBILL, annualized\n",
    "(1+asset_MOMsim.mu_n)**12, (1+asset_MOMsim.mu_c)**12"
   ]
  },
  {
   "cell_type": "code",
   "execution_count": 597,
   "metadata": {},
   "outputs": [],
   "source": [
    "# Historical Settings?\n",
    "def create_history_return(r, n_s, m=600, block_size=60):\n",
    "    \"\"\"\n",
    "    Simulates n_s scenarios, each containing m historical (block) datapoints from r (p*n_asset*n_s)\n",
    "    For now, we assume m is a multiply of 60 (i.e. 5 years).\n",
    "    \"\"\"\n",
    "    n_month, n_asset = r.shape\n",
    "    data = np.zeros((m, n_asset, n_s))\n",
    "    for i in range(n_s):\n",
    "        # stopping criteria\n",
    "        for j in range(int(m/block_size)):\n",
    "            max_month = n_month - block_size\n",
    "            temp_index = int(np.random.rand()*max_month)\n",
    "            data[(j*block_size):(j*block_size+block_size),:,i] = r[temp_index:(temp_index+block_size),:]\n",
    "    return data"
   ]
  },
  {
   "cell_type": "code",
   "execution_count": 603,
   "metadata": {},
   "outputs": [
    {
     "data": {
      "text/plain": [
       "array([1.11263641, 1.07237262, 1.12023873, 1.06062392, 1.07132084,\n",
       "       1.06419568, 1.12783106, 1.0842682 , 1.0296367 ])"
      ]
     },
     "execution_count": 603,
     "metadata": {},
     "output_type": "execute_result"
    }
   ],
   "source": [
    "r_all_hist = create_history_return(asset_data_MOM, n_s=10000)\n",
    "(1+np.mean(np.mean(r_all_hist,axis=0),axis=1))**12"
   ]
  },
  {
   "cell_type": "markdown",
   "metadata": {},
   "source": [
    "MOM simulated: array([1.1185723 , 1.08284557, 1.15240014, 1.03271317, 1.049487  ,\n",
    "       1.03650341, 1.10710074, 1.0387671 , 1.02426744])"
   ]
  },
  {
   "cell_type": "code",
   "execution_count": 604,
   "metadata": {},
   "outputs": [],
   "source": [
    "R_mat = 1 + r_all_hist\n",
    "savings = [0.06, 0.07, 0.08, 0.09, 0.10]\n",
    "report_hist1 = simulation_savings_full(hold_vec_MOM,R_mat,savings,MOM=False,sex='F',init_salary=132900)\n",
    "report_hist1.to_csv('report0909_hist_w13F.csv')\n",
    "\n",
    "report_hist2 = simulation_savings_full(hold_vec_MOM,R_mat,savings,MOM=True,sex='F',init_salary=132900)\n",
    "report_hist2.to_csv('report0909_hist_MOMw13F.csv')"
   ]
  },
  {
   "cell_type": "markdown",
   "metadata": {},
   "source": [
    "### New Functions - Added functions for momentum strategies"
   ]
  },
  {
   "cell_type": "code",
   "execution_count": 529,
   "metadata": {},
   "outputs": [],
   "source": [
    "def personal_retire_simulation_MOM(person, initial_amount, savings_rate, holdings, asset_return, \n",
    "                                   hold_type, high_growth=1.09, sl=-1.0):\n",
    "    \"\"\"Simulates monthly data of a person for a certain number of years.\n",
    "    \n",
    "    Assets: US equity, developed, emerging, US Treasuries, corp bonds, TIPS, Real Estate, Factor Momentum, T-bill\n",
    "    Equity (Y/N): Y      Y          Y             N            N        N        Y             (Overlay)        N\n",
    "    \n",
    "    asset_return should be total return, i.e. 1 plus the percentage return.\n",
    "    holding strategy is \"ZoneSave\" with extra savings going into Factor Momentum\n",
    "    \n",
    "    sl is the slope for glide path (SGP: -1, RGP: 1.5)\n",
    "    \n",
    "    Other data required:\n",
    "        inf_mat, ir_mat, COLA_mat: the macro variables simulated\n",
    "        \n",
    "    The simulation returns a full path of wealth at the end of each year, so it is a n_scenarios*n_years matrix.\n",
    "    \"\"\"\n",
    "    n_months, n_assets, n_scenarios = asset_return.shape\n",
    "    wealth_path = np.zeros((n_scenarios, int(n_months/12)))\n",
    "    eq_set = [0,1,2,6]\n",
    "    bd_set = [3,4,5,8]\n",
    "    factorMOM = 0.0 # Total Factor Momentum Savings\n",
    "    equity_prop = np.sum(holdings[eq_set]) * 100\n",
    "    \n",
    "    savings = savings_rate * person.init_wage\n",
    "    total_saved = initial_amount\n",
    "    \n",
    "    # Compute safe-vec and wealth-vec\n",
    "    for i in range(n_scenarios):\n",
    "        n_years = person.retire-person.age-1\n",
    "        wealth_vec = np.ones(55)*(np.median(person.wealth_needed))\n",
    "        wealth_growth = high_growth\n",
    "        for n in range(n_years+1):\n",
    "            wealth_vec[n_years-n] = (wealth_vec[n_years+1-n] - savings * inf_mat[i,n]) / wealth_growth\n",
    "\n",
    "        safe_growth = 1.02\n",
    "        safe_vec = np.ones(55) * (np.mean(person.wealth_needed) + 2*np.std(person.wealth_needed))\n",
    "        for n in range(n_years+1):\n",
    "            safe_vec[n_years-n] = (safe_vec[n_years+1-n] - savings * inf_mat[i,n]) / safe_growth\n",
    "\n",
    "    if hold_type == 'fixed':\n",
    "        for i in range(n_scenarios):\n",
    "            holdings_each = holdings * initial_amount\n",
    "            for j in range(n_months):\n",
    "                holdings_each = holdings_each * asset_return[j,:,i]\n",
    "                if (j+1)%12==0:\n",
    "                    wealth_path[i,int(j/12)] = np.sum(holdings_each) + savings * inf_mat[i,int(j/12)]\n",
    "                    holdings_each = wealth_path[i,int(j/12)] * holdings\n",
    "        return wealth_path\n",
    "\n",
    "    elif type(hold_type)==int:\n",
    "        ## this integer is rebalance frequency\n",
    "        for i in range(n_scenarios):\n",
    "            holdings_each = holdings\n",
    "            for j in range(n_months):\n",
    "                holdings_each = holdings_each * asset_return[j,:,i]\n",
    "                if j%hold_type == 0: # Rebalance\n",
    "                    asset_temp = np.sum(holdings_each)\n",
    "                    holdings_each = asset_temp * holdings\n",
    "                if j%12==0:\n",
    "                    holdings_each = holdings_each * (1-spending_rate)\n",
    "                    wealth_path[i,int(j/12)] = np.sum(holdings_each)\n",
    "        return wealth_path\n",
    "\n",
    "    elif hold_type == 'SGP':\n",
    "        ## Gliding path: slope is given\n",
    "        if np.abs(np.sum(holdings[eq_set])-0.9) > 0.001:\n",
    "            print('Initial Holding Incorrect. Results may be affected.')\n",
    "        for i in range(n_scenarios):\n",
    "            holdings_each = holdings * initial_amount\n",
    "            for j in range(n_months):\n",
    "                holdings_each = holdings_each * asset_return[j,:,i]\n",
    "                if (j+1)%12==0:\n",
    "                    wealth_path[i,int(j/12)] = np.sum(holdings_each) + savings * inf_mat[i,int(j/12)]\n",
    "                    holdings_each = wealth_path[i,int(j/12)] * holdings\n",
    "                    holdings_each[eq_set] = holdings_each[eq_set] * (equity_prop + sl*(j+1)/12) / equity_prop\n",
    "                    holdings_each[bd_set] = holdings_each[bd_set] * (100 - equity_prop - sl*(j+1)/12) / (100-equity_prop)                \n",
    "        return wealth_path\n",
    "\n",
    "    elif hold_type == 'RGP':\n",
    "        ## Gliding path: reversed\n",
    "        if np.abs(np.sum(holdings[eq_set])-0.25) > 0.001:\n",
    "            print('Initial Holding Incorrect. Results may be affected.')\n",
    "        for i in range(n_scenarios):\n",
    "            holdings_each = holdings * initial_amount\n",
    "            for j in range(n_months):\n",
    "                holdings_each = holdings_each * asset_return[j,:,i]\n",
    "                if (j+1)%12==0:\n",
    "                    wealth_path[i,int(j/12)] = np.sum(holdings_each) + savings * inf_mat[i,int(j/12)]\n",
    "                    holdings_each = wealth_path[i,int(j/12)] * holdings\n",
    "                    holdings_each[eq_set] = holdings_each[eq_set] * (equity_prop + sl*(j+1)/12) / equity_prop\n",
    "                    holdings_each[bd_set] = holdings_each[bd_set] * (100 - equity_prop - sl*(j+1)/12) / (100-equity_prop) \n",
    "                    #if i == 7777: \n",
    "                    #Test:print([sum(holdings_each), holdings_each[0]])                    \n",
    "        return wealth_path \n",
    "    \n",
    "    elif hold_type == 'Dynamic-GP':\n",
    "        ## Gliding path, same as SGP but tries to catch up when falling behind\n",
    "        \n",
    "        if np.abs(np.sum(holdings[eq_set])-0.9) > 0.001:\n",
    "            print('Initial Holding Incorrect. Results may be affected.')\n",
    "        n_flag = 0.0\n",
    "        for i in range(n_scenarios):\n",
    "            holdings_each = holdings * initial_amount\n",
    "              \n",
    "            for j in range(n_months):\n",
    "                holdings_each = holdings_each * asset_return[j,:,i]\n",
    "                if (j+1)%12==0:\n",
    "                    wealth_path[i,int(j/12)] = np.sum(holdings_each) + savings * inf_mat[i,int(j/12)]\n",
    "                    holdings_each = wealth_path[i,int(j/12)] * holdings\n",
    "                    \n",
    "                    if wealth_path[i,int(j/12)] >= wealth_vec[int(j/12)+1]:\n",
    "                        equity_newprop = equity_prop + sl*(j+1)/12\n",
    "                        holdings_each[eq_set] = holdings_each[eq_set] * equity_newprop / equity_prop\n",
    "                        holdings_each[bd_set] = holdings_each[bd_set] * (100 - equity_newprop) / (100-equity_prop) \n",
    "                    else:\n",
    "                        equity_newprop = min(equity_prop + sl*(j+1)/12 + 20, 95)\n",
    "                        holdings_each[eq_set] = holdings_each[eq_set] * equity_newprop / equity_prop\n",
    "                        holdings_each[bd_set] = holdings_each[bd_set] * (100 - equity_newprop) / (100-equity_prop) \n",
    "                        n_flag = n_flag + 1\n",
    "        return n_flag/n_scenarios, wealth_path\n",
    "    \n",
    "    elif hold_type == 'Safe-play':\n",
    "        ## Gliding path, same as SGP but switches to bonds when safe\n",
    "                                             \n",
    "        if np.abs(np.sum(holdings[eq_set])-0.9) > 0.001:\n",
    "            print('Initial Holding Incorrect. Results may be affected.')\n",
    "        n_flag = 0.0\n",
    "        \n",
    "        for i in range(n_scenarios):\n",
    "            holdings_each = holdings * initial_amount\n",
    "                \n",
    "            for j in range(n_months):\n",
    "                holdings_each = holdings_each * asset_return[j,:,i]\n",
    "                if (j+1)%12==0:\n",
    "                    wealth_path[i,int(j/12)] = np.sum(holdings_each) + savings * inf_mat[i,int(j/12)]\n",
    "                    holdings_each = wealth_path[i,int(j/12)] * holdings\n",
    "\n",
    "                    if wealth_path[i,int(j/12)] <= safe_vec[int(j/12)+1]:\n",
    "                        equity_newprop = equity_prop + sl*(j+1)/12\n",
    "                        holdings_each[eq_set] = holdings_each[eq_set] * equity_newprop / equity_prop\n",
    "                        holdings_each[bd_set] = holdings_each[bd_set] * (100 - equity_newprop) / (100-equity_prop) \n",
    "                    else:\n",
    "                        equity_newprop = max(equity_prop + sl*(j+1)/12 - 50, 5)\n",
    "                        holdings_each[eq_set] = holdings_each[eq_set] * equity_newprop / equity_prop\n",
    "                        holdings_each[bd_set] = holdings_each[bd_set] * (100 - equity_newprop) / (100-equity_prop) \n",
    "                        n_flag = n_flag + 1\n",
    "        return n_flag/n_scenarios, wealth_path\n",
    "    \n",
    "    elif hold_type == 'Zone':\n",
    "        ## Similar to the idea of 'No-Trade Zone', we have \"No-change Zone\"\n",
    "        ## Works for both SGP-zone and RGP-zone\n",
    "        if np.abs(np.sum(holdings[eq_set])-0.9) > 0.001 and np.abs(np.sum(holdings[eq_set])-0.25) > 0.001:\n",
    "            print('Initial Holding Incorrect. Results may be affected.')\n",
    "        n_flag = [0,0]\n",
    "        \n",
    "        for i in range(n_scenarios):\n",
    "            holdings_each = holdings * initial_amount\n",
    "            \n",
    "            for j in range(n_months):\n",
    "                holdings_each = holdings_each * asset_return[j,:,i]\n",
    "                if (j+1)%12==0:\n",
    "                    wealth_path[i,int(j/12)] = np.sum(holdings_each) + savings * inf_mat[i,int(j/12)]\n",
    "                    holdings_each = wealth_path[i,int(j/12)] * holdings\n",
    "                    \n",
    "                    if wealth_path[i,int(j/12)] <= wealth_vec[int(j/12)+1]:\n",
    "                        # lagging\n",
    "                        equity_newprop = min(equity_prop + sl*(j+1)/12 +20, 95)\n",
    "                        holdings_each[eq_set] = holdings_each[eq_set] * equity_newprop / equity_prop\n",
    "                        holdings_each[bd_set] = holdings_each[bd_set] * (100 - equity_newprop) / (100-equity_prop) \n",
    "                        n_flag[0] = n_flag[0] + 1.0/n_scenarios\n",
    "                        \n",
    "                    elif wealth_path[i,int(j/12)] >= safe_vec[int(j/12)+1]:\n",
    "                        equity_newprop = max(equity_prop + sl*(j+1)/12 -50, 5)\n",
    "                        holdings_each[eq_set] = holdings_each[eq_set] * equity_newprop / equity_prop\n",
    "                        holdings_each[bd_set] = holdings_each[bd_set] * (100 - equity_newprop) / (100-equity_prop) \n",
    "                        n_flag[1] = n_flag[1] + 1.0/n_scenarios\n",
    "                    else:\n",
    "                        equity_newprop = equity_prop + sl*(j+1)/12\n",
    "                        holdings_each[eq_set] = holdings_each[eq_set] * equity_newprop / equity_prop\n",
    "                        holdings_each[bd_set] = holdings_each[bd_set] * (100 - equity_newprop) / (100-equity_prop) \n",
    "        return n_flag, wealth_path\n",
    "\n",
    "    elif hold_type == 'ZoneSave':\n",
    "        ## We save more (thus rebalancing the portfolio) when trailing\n",
    "        ## Works for both SGP and RGP\n",
    "        if np.abs(np.sum(holdings[eq_set])-0.9) > 0.001 and np.abs(np.sum(holdings[eq_set])-0.25) > 0.001:\n",
    "            print('Initial Holding Incorrect. Results may be affected.')\n",
    "        n_flag = [0,0]\n",
    "        \n",
    "        for i in range(n_scenarios):\n",
    "            holdings_each = holdings * initial_amount\n",
    "            \n",
    "            for j in range(n_months):\n",
    "                holdings_each = holdings_each * asset_return[j,:,i]\n",
    "                if (j+1)%12==0:\n",
    "                    wealth_path[i,int(j/12)] = np.sum(holdings_each) + savings * inf_mat[i,int(j/12)]\n",
    "                                      \n",
    "                    if wealth_path[i,int(j/12)] <= wealth_vec[int(j/12)+1]:\n",
    "                        # lagging\n",
    "                        wealth_path[i,int(j/12)] = wealth_path[i,int(j/12)] + 0.03*savings/savings_rate*inf_mat[i,int(j/12)]\n",
    "                        holdings_each = wealth_path[i,int(j/12)] * holdings\n",
    "                        equity_newprop = min(equity_prop + sl*(j+1)/12 +20, 95)\n",
    "                        holdings_each[eq_set] = holdings_each[eq_set] * equity_newprop / equity_prop\n",
    "                        holdings_each[bd_set] = holdings_each[bd_set] * (100 - equity_newprop) / (100-equity_prop) \n",
    "                        n_flag[0] = n_flag[0] + 1.0/n_scenarios\n",
    "                        \n",
    "                    elif wealth_path[i,int(j/12)] >= safe_vec[int(j/12)+1]:\n",
    "                        equity_newprop = max(equity_prop + sl*(j+1)/12 -50, 5)\n",
    "                        holdings_each = wealth_path[i,int(j/12)] * holdings\n",
    "                        holdings_each[eq_set] = holdings_each[eq_set] * equity_newprop / equity_prop\n",
    "                        holdings_each[bd_set] = holdings_each[bd_set] * (100 - equity_newprop) / (100-equity_prop) \n",
    "                        n_flag[1] = n_flag[1] + 1.0/n_scenarios\n",
    "                    else:\n",
    "                        equity_newprop = equity_prop + sl*(j+1)/12\n",
    "                        holdings_each = wealth_path[i,int(j/12)] * holdings\n",
    "                        holdings_each[eq_set] = holdings_each[eq_set] * equity_newprop / equity_prop\n",
    "                        holdings_each[bd_set] = holdings_each[bd_set] * (100 - equity_newprop) / (100-equity_prop) \n",
    "        return n_flag, wealth_path\n",
    "    \n",
    "    else:\n",
    "        ## \"ZoneSave\" that Works for both SGP and RGP\n",
    "        if np.abs(np.sum(holdings[eq_set])-0.9) > 0.001 and np.abs(np.sum(holdings[eq_set])-0.25) > 0.001:\n",
    "            print('Initial Holding Incorrect. Results may be affected.')\n",
    "        n_flag = [0,0]\n",
    "\n",
    "        for i in range(n_scenarios):\n",
    "            holdings_each = holdings * initial_amount\n",
    "\n",
    "            for j in range(n_months):\n",
    "                holdings_each = holdings_each * asset_return[j,:,i]\n",
    "                if (j+1)%12==0:\n",
    "                    wealth_path[i,int(j/12)] = np.sum(holdings_each) + savings * inf_mat[i,int(j/12)]\n",
    "\n",
    "                    if wealth_path[i,int(j/12)] <= wealth_vec[int(j/12)+1]:\n",
    "                        # lagging\n",
    "                        factorMOM = holdings_each[7]\n",
    "                        factorMOM = factorMOM + 0.03*savings/savings_rate*inf_mat[i,int(j/12)]\n",
    "                        holdings_each = (wealth_path[i,int(j/12)]-holdings_each[7]) * holdings\n",
    "                        equity_newprop = min(equity_prop + sl*(j+1)/12 +20, 95)\n",
    "                        holdings_each[eq_set] = holdings_each[eq_set] * equity_newprop / equity_prop\n",
    "                        holdings_each[bd_set] = holdings_each[bd_set] * (100 - equity_newprop) / (100-equity_prop) \n",
    "                        holdings_each[7] = factorMOM\n",
    "                        n_flag[0] = n_flag[0] + 1.0/n_scenarios\n",
    "\n",
    "                    elif wealth_path[i,int(j/12)] >= safe_vec[int(j/12)+1]:\n",
    "                        equity_newprop = max(equity_prop + sl*(j+1)/12 -50, 5)\n",
    "                        factorMOM = holdings_each[7]\n",
    "                        holdings_each = (wealth_path[i,int(j/12)]-holdings_each[7]) * holdings\n",
    "                        holdings_each[eq_set] = holdings_each[eq_set] * equity_newprop / equity_prop\n",
    "                        holdings_each[bd_set] = holdings_each[bd_set] * (100 - equity_newprop) / (100-equity_prop) \n",
    "                        holdings_each[7] = factorMOM\n",
    "                        n_flag[1] = n_flag[1] + 1.0/n_scenarios\n",
    "                    else:\n",
    "                        equity_newprop = equity_prop + sl*(j+1)/12\n",
    "                        factorMOM = holdings_each[7]\n",
    "                        holdings_each = (wealth_path[i,int(j/12)]-holdings_each[7]) * holdings\n",
    "                        holdings_each[eq_set] = holdings_each[eq_set] * equity_newprop / equity_prop\n",
    "                        holdings_each[bd_set] = holdings_each[bd_set] * (100 - equity_newprop) / (100-equity_prop) \n",
    "                        holdings_each[7] = factorMOM\n",
    "            #print(safe_vec)\n",
    "            #print(wealth_vec)\n",
    "        return n_flag, wealth_path"
   ]
  },
  {
   "cell_type": "code",
   "execution_count": 539,
   "metadata": {},
   "outputs": [],
   "source": [
    "def simulation_savings_full(h_M,R,savings,e_g=1.09,MOM=True,\n",
    "                            retire_age=69, FRA=69, sex='F',init_salary=132900,n_simulation=10000):\n",
    "    \"\"\"\n",
    "    R: total return vector (1+arithmetic return)\n",
    "    savings: vector for saving rates\n",
    "    \"\"\"\n",
    "    \n",
    "    mat_simulation = []\n",
    "    mat_people = []\n",
    "    report = pd.DataFrame()\n",
    "    \n",
    "    for saving_rate in savings:\n",
    "\n",
    "        title = 'save '+str(int(saving_rate*100))+'%'\n",
    "        strats=['60-40','Bonds','Target Date','Reversed Glide Path','Dynamic-CatchUp','Dynamic-Safe',\n",
    "                'Dynamic-Zone','Dynamic-ZoneSave','Reversed-Zone','Reversed-ZoneSave']\n",
    "\n",
    "        # Extra savings type\n",
    "        savetype = 'ZoneSaveMOM' if MOM else 'ZoneSave'\n",
    "        \n",
    "        h = int(n_simulation * 0.05-1)\n",
    "        list_simulation = []\n",
    "        list_people = []\n",
    "        \n",
    "        for i in [0.6,0.7,0.8,0.9]: \n",
    "            list_people.append(PersonalRetirement(25, retire_age, FRA, sex, init_salary, i, n_simulation, life_table))     \n",
    "\n",
    "        for P in list_people:\n",
    "            subtitle = title + ', Goal ' + str(int(P.salary_proportion*100)) +'%'\n",
    "            P.wealth_comp(ir_mat, inf_mat, COLA_mat)\n",
    "            results_1 = personal_retire_simulation_MOM(P, 0.01, saving_rate, h_M[1,:], R[:,:,:n_simulation], 'fixed') \n",
    "            results_2 = personal_retire_simulation_MOM(P, 0.01, saving_rate, h_M[0,:], R[:,:,:n_simulation], 'fixed') \n",
    "            results_3 = personal_retire_simulation_MOM(P, 0.01, saving_rate, h_M[2,:], R[:,:,:n_simulation], 'SGP')\n",
    "            results_4 = personal_retire_simulation_MOM(P, 0.01, saving_rate, h_M[3,:], R[:,:,:n_simulation], 'RGP', \n",
    "                                                       sl=1.5)\n",
    "            n_flag5,results_5 = personal_retire_simulation_MOM(P, 0.01, saving_rate, h_M[2,:], R[:,:,:n_simulation], \n",
    "                                                               'Dynamic-GP',high_growth=e_g)\n",
    "            n_flag6,results_6 = personal_retire_simulation_MOM(P, 0.01, saving_rate, h_M[2,:], R[:,:,:n_simulation], \n",
    "                                                               'Safe-play',high_growth=e_g)\n",
    "            n_flag7,results_7 = personal_retire_simulation_MOM(P, 0.01, saving_rate, h_M[2,:], R[:,:,:n_simulation], \n",
    "                                                               'Zone',high_growth=e_g) \n",
    "            n_flag8,results_8 = personal_retire_simulation_MOM(P, 0.01, saving_rate, h_M[2,:], R[:,:,:n_simulation], \n",
    "                                                               savetype,high_growth=e_g)\n",
    "            n_flag9,results_9 = personal_retire_simulation_MOM(P, 0.01, saving_rate, h_M[3,:], R[:,:,:n_simulation], \n",
    "                                                               'Zone', high_growth=e_g, sl=1.5) \n",
    "            n_flag10,results_10 = personal_retire_simulation_MOM(P, 0.01, saving_rate, h_M[3,:], R[:,:,:n_simulation],\n",
    "                                                                 savetype, high_growth=e_g, sl=1.5)\n",
    "\n",
    "            simu_list = [results_1,results_2,results_3,results_4,results_5,\n",
    "                         results_6,results_7,results_8,results_9,results_10]\n",
    "\n",
    "            report_list = pd.DataFrame(columns=strats, index=[subtitle,'Median Wealth', 'Probability', 'Goal-at-Risk', \n",
    "                                                   'Conditional Goal-at-Risk', '% Falling Behind', '%Safe',' '])\n",
    "            for j, r in enumerate(simu_list):\n",
    "                temp_amount = np.sort(P.wealth_needed-r[:,43])\n",
    "                temp_arr = np.array([np.median(r[:,43]),np.mean(temp_amount<0), \n",
    "                                     temp_amount[-h], np.mean(temp_amount[-h:])])          \n",
    "                report_list.iloc[1:5,j] = temp_arr\n",
    "\n",
    "            report_list.iloc[5,[4,6,7,8,9]] = [n_flag5/50,n_flag7[0]/50,n_flag8[0]/50,n_flag9[0]/50,n_flag10[0]/50]\n",
    "            report_list.iloc[6,[5,6,7,8,9]] = [n_flag6/50,n_flag7[1]/50,n_flag8[1]/50,n_flag9[1]/50,n_flag10[1]/50]\n",
    "            report_list.fillna('',inplace=True)\n",
    "            report = report.append(report_list)\n",
    "            list_simulation.append(simu_list)\n",
    "            \n",
    "        mat_simulation.append(list_simulation)\n",
    "        mat_people.append(list_people)\n",
    "        \n",
    "    # mat_simulation, mat_people is for testing only\n",
    "    return report"
   ]
  },
  {
   "cell_type": "markdown",
   "metadata": {},
   "source": [
    "## 4. Retirement Simulation"
   ]
  },
  {
   "cell_type": "code",
   "execution_count": 150,
   "metadata": {},
   "outputs": [],
   "source": [
    "class Person:\n",
    "    \"\"\"Defines a person (group) for general simulation\n",
    "    variables:\n",
    "        age: current age\n",
    "        retire: retirement age, should not exceed 72\n",
    "        full_retire: Full Retirement Age (FRA), the age at which 100% benefit is guaranteed\n",
    "        sex: 'M' or 'F'\n",
    "    methods:\n",
    "        total_cont: computes total (discounted) contribution of the person\n",
    "        \n",
    "    \"\"\"\n",
    "    def __init__(self, age, retire, full_retire, sex):\n",
    "        self.age = age\n",
    "        self.retire = min(retire, 72)\n",
    "        self.full_retire = full_retire\n",
    "        self.sex = sex\n",
    "        \n",
    "    def total_cont(self, tax, benefit, life_table, inf_cum, ir_cum, cola_cum, n_people, death_reduce):\n",
    "        \"\"\"\n",
    "        Simulates total contribution of a group of n_people.\n",
    "        Length of inf_cum and ir_cum should be 100.\n",
    "        death_reduce is estimated reduce in death rate.\n",
    "        \"\"\"    \n",
    "        age = self.age\n",
    "        retire = self.retire\n",
    "        years_togo = retire - age\n",
    "        yearly_contribution = np.zeros(len(inf_cum)) # no more than 100\n",
    "        people_alive = n_people\n",
    "        survivor_benefit = np.zeros(100) # a vector of people in the benefit, starting from retirement age\n",
    "        # Early penalty / Late benefit\n",
    "        if retire >= self.full_retire:\n",
    "            benefit = benefit * (1+0.08*(retire-self.full_retire))\n",
    "        else:\n",
    "            benefit = benefit * (1-0.066*(retire-self.full_retire))\n",
    "        \n",
    "        if self.sex == 'M':\n",
    "            for i in range(years_togo):\n",
    "                people_died = int(people_alive * life_table['Probability_M'][int(age+i)] * ((1-death_reduce)**i))\n",
    "                people_alive = people_alive - people_died\n",
    "                yearly_contribution[i] = people_alive * tax * inf_cum[i]\n",
    "                \n",
    "                if i>=10: # Have survivor benefit\n",
    "                    survivor_benefit[:15] = survivor_benefit[:15] + people_died * .75\n",
    "                \n",
    "                if i==years_togo-1: # Test purpose\n",
    "                    a = yearly_contribution[i]\n",
    "\n",
    "            for i in range(retire,120):\n",
    "                people_died = int(people_alive * life_table['Probability_M'][int(i)] * ((1-death_reduce)**(i-age))) \n",
    "                people_alive = people_alive - people_died\n",
    "                # Survivor benefit\n",
    "                l = int(i-retire)\n",
    "                u = int(i+max(4, 99-i)/2-retire)   # At least 1 year, but at most 15 years\n",
    "                survivor_benefit[l:u] = survivor_benefit[l:u] + people_died * .75\n",
    "                \n",
    "                yearly_contribution[i-age] = (0-people_alive-survivor_benefit[l]) * benefit * cola_cum[i-age]\n",
    "                #print(people_alive)\n",
    "                #print(survivor_benefit)\n",
    "                if i==retire:\n",
    "                    b = -yearly_contribution[i-age]\n",
    "\n",
    "        else:\n",
    "            for i in range(years_togo):\n",
    "                people_died = int(people_alive * life_table['Probability_F'][int(age+i)] * ((1-death_reduce)**i))\n",
    "                people_alive = people_alive - people_died\n",
    "                yearly_contribution[i] = people_alive * tax * inf_cum[i]\n",
    "                \n",
    "                if i>=10: # Have survivor benefit\n",
    "                    survivor_benefit[:15] = survivor_benefit[:15] + people_died / 3\n",
    "                \n",
    "                if i==years_togo-1: # Test purpose\n",
    "                    a = yearly_contribution[i]\n",
    "\n",
    "            for i in range(retire,120):\n",
    "                people_died = int(people_alive * life_table['Probability_F'][int(i)] * ((1-death_reduce)**(i-age))) \n",
    "                people_alive = people_alive - people_died\n",
    "                # Survivor benefit\n",
    "                l = int(i-retire)\n",
    "                u = int(i+max(4, 99-i)/2-retire)   # At least 1 year, but at most 15 years\n",
    "                survivor_benefit[l:u] = survivor_benefit[l:u] + people_died / 3\n",
    "                \n",
    "                yearly_contribution[i-age] = (0-people_alive-survivor_benefit[l]) * benefit * cola_cum[i-age]\n",
    "                \n",
    "                if i==retire:\n",
    "                    b = -yearly_contribution[i-age]\n",
    "        \n",
    "        #print(people_alive)\n",
    "        return yearly_contribution / ir_cum"
   ]
  },
  {
   "cell_type": "code",
   "execution_count": 456,
   "metadata": {},
   "outputs": [
    {
     "data": {
      "text/plain": [
       "Text(0.5, 0, 'Years')"
      ]
     },
     "execution_count": 456,
     "metadata": {},
     "output_type": "execute_result"
    },
    {
     "data": {
      "image/png": "[encoded data removed]",
      "text/plain": [
       "<Figure size 864x648 with 1 Axes>"
      ]
     },
     "metadata": {},
     "output_type": "display_data"
    }
   ],
   "source": [
    "# Mean-reverting\n",
    "n_years = 100\n",
    "interest_vec = np.ones(n_years) * 1.027\n",
    "inflation_vec = np.ones(n_years) * 1.0195\n",
    "COLA_vec = np.ones(n_years) * 1.028\n",
    "\n",
    "mu_int = 1.024\n",
    "mu_inf = 1.022 # theta and sigma adjusted in codes below\n",
    "\n",
    "np.random.seed(888) # Test = 888, good indicator\n",
    "\n",
    "for i in range(n_years-1):\n",
    "    interest_vec[i+1] = interest_vec[i] + 0.5*(mu_int-interest_vec[i]) + 0.004*np.sqrt(interest_vec[i])*randn(1)\n",
    "    if interest_vec[i+1]<=0: # No negative rate\n",
    "        interest_vec[i+1] = 0\n",
    "    inflation_vec[i+1] = inflation_vec[i] + 0.5*(mu_inf-inflation_vec[i]) + 0.01*randn(1)\n",
    "#    if i==0: #Complicated way to simulate COLA...\n",
    "#        COLA_vec[i+1] = 0.05*inflation_vec[i+1] + 0.8*inflation_vec[i] + 0.12*interest_vec[i] + 0.002*randn(1)\n",
    "#    else:\n",
    "#        COLA_vec[i+1] = COLA_vec[i] + 0.05*(inflation_vec[i+1]-inflation_vec[i]) + 0.8*(\n",
    "#            inflation_vec[i]-inflation_vec[i-1])+ 0.12*(interest_vec[i+1]-interest_vec[i]) + 0.002*randn(1)\n",
    "    COLA_vec[i+1] = 0.1*inflation_vec[i+1] + 0.8*inflation_vec[i] + 0.1*interest_vec[i] + 0.002*randn(1)\n",
    "    if COLA_vec[i+1]<=0:\n",
    "        COLA_vec[i] = 0\n",
    "        \n",
    "plt.figure(figsize=(12,9))\n",
    "plt.plot(interest_vec-1,label='Interest Rate')\n",
    "plt.plot(inflation_vec-1, label='Inflation')\n",
    "plt.plot(COLA_vec-1,label='COLA')\n",
    "plt.legend(loc='best')\n",
    "plt.xlabel('Years')"
   ]
  },
  {
   "cell_type": "code",
   "execution_count": 152,
   "metadata": {},
   "outputs": [],
   "source": [
    "# Macro variables\n",
    "n_simulation = 10000\n",
    "inf_mat = np.zeros((n_simulation, n_years))\n",
    "ir_mat = np.zeros((n_simulation, n_years))\n",
    "COLA_mat = np.zeros((n_simulation, n_years))\n",
    "TIPS_mat = np.zeros((n_simulation, n_years))\n",
    "\n",
    "mu_int = 1.024\n",
    "mu_inf = 1.022 # theta and sigma adjusted in codes below\n",
    "\n",
    "for j in range(n_simulation):\n",
    "    np.random.seed(j)\n",
    "    interest_vec = np.ones(n_years) * 1.027\n",
    "    inflation_vec = np.ones(n_years) * 1.0195\n",
    "    COLA_vec = np.ones(n_years) * 1.028\n",
    "    for i in range(n_years-1):\n",
    "        interest_vec[i+1] = interest_vec[i] + 0.5*(mu_int-interest_vec[i]) + 0.004*np.sqrt(interest_vec[i])*randn(1)\n",
    "        if interest_vec[i+1]<=0: # No negative rate\n",
    "            interest_vec[i+1] = 0\n",
    "        inflation_vec[i+1] = inflation_vec[i] + 0.5*(mu_inf-inflation_vec[i]) + 0.01*randn(1)\n",
    "        COLA_vec[i+1] = 0.1*inflation_vec[i+1] + 0.8*inflation_vec[i] + 0.1*interest_vec[i] + 0.002*randn(1)\n",
    "        if COLA_vec[i+1]<=0:\n",
    "            COLA_vec[i] = 0\n",
    "    TIPS_vec = inflation_vec + 0.5/100\n",
    "    inf_mat[j,:] = np.cumprod(inflation_vec)\n",
    "    ir_mat[j,:] = np.cumprod(interest_vec)\n",
    "    COLA_mat[j,:] = np.cumprod(COLA_vec)\n",
    "    TIPS_mat[j,:] = np.cumprod(TIPS_vec)"
   ]
  },
  {
   "cell_type": "code",
   "execution_count": 307,
   "metadata": {},
   "outputs": [],
   "source": [
    "class PersonalRetirement(Person):\n",
    "    \"\"\"\n",
    "    Simulates the SS and 401(k) accounts for a person.\n",
    "    \n",
    "    Variables (Person):\n",
    "        age: current age\n",
    "        retire: retirement age, should not exceed 72\n",
    "        full_retire: Full Retirement Age (FRA), the age at which 100% benefit is guaranteed\n",
    "        sex: 'M' or 'F'\n",
    "        init_wage: initial wage (in million dollars)\n",
    "        \n",
    "    Variables (Retirement):\n",
    "        salary_proportion: The goal in terms of proportions\n",
    "        savings: list of possible savings\n",
    "        strategy_vec: currently available strategies...\n",
    "        wealth_list: list of results for each strategy: len(strategy_vec) of \"n_scenarios * len(savings)\" arrays\n",
    "        n_scenarios: number of scenarios\n",
    "        survive_prob: survival probability, starting from retirement age\n",
    "        wealth_needed: Goal in each\n",
    "        \n",
    "    Methods:\n",
    "        wealth_comp: Compute wealth needed in each scenario\n",
    "        risk_report: Outputs wealth needed, probability of reaching goal, GaR, CGaR\n",
    "    \"\"\"\n",
    "\n",
    "    def __init__(self, age, retire, full_retire, sex, init_wage, goal, n_scenarios, life_table):\n",
    "        self.salary_proportion = goal\n",
    "        self.init_wage = init_wage / 1e6\n",
    "        self.strategy_vec = []\n",
    "        self.wealth_list = []\n",
    "        self.n_scenarios = n_scenarios\n",
    "        Person.__init__(self, age, retire, full_retire, sex)\n",
    "        \n",
    "        life_table_adj = life_table['Probability_'+sex].copy()\n",
    "        self.survive_prob = np.ones(120-int(retire))\n",
    "        death_reduce = .65/100 if sex=='M' else .85/100\n",
    "        \n",
    "        for i in range(int(retire),119):\n",
    "            life_table_adj[i] = life_table_adj[i] * ((1-death_reduce)**(i-25))\n",
    "            self.survive_prob[i-int(retire)+1] = self.survive_prob[i-int(retire)]* (1-life_table_adj[i])\n",
    "            \n",
    "        self.savings = ['8%','9%','10%','11%','12%','13%','14%','15%']\n",
    "\n",
    "    \n",
    "    def wealth_comp(self, ir_mat, inf_mat, COLA_mat, test_pay=34332):\n",
    "        \"\"\"\n",
    "        test_pay: current maximum benefit amount\n",
    "        \"\"\"\n",
    "        total_required = np.zeros(self.n_scenarios)\n",
    "        ir_init = int(self.retire-self.age)\n",
    "        for i in range(self.n_scenarios):\n",
    "            ir_deflator = ir_mat[i, ir_init:95] / ir_mat[i, ir_init]\n",
    "            sum_needed = np.sum(self.init_wage * self.survive_prob * inf_mat[i, ir_init:95] * \n",
    "                                self.salary_proportion / ir_deflator)\n",
    "            if self.init_wage >= 0.1329:\n",
    "                sum_ss = np.sum(test_pay/1e6 * self.survive_prob * COLA_mat[i, ir_init:95] / ir_deflator)\n",
    "            else:\n",
    "                test_pay = test_pay * self.init_wage / 132900\n",
    "                sum_ss = np.sum(test_pay * self.survive_prob * COLA_mat[i, ir_init:95] / ir_deflator)\n",
    "            total_required[i] = sum_needed - sum_ss\n",
    "        self.wealth_needed = total_required\n",
    "    \n",
    "    def prob_calc(self):\n",
    "        if self.strategy_vec == []:\n",
    "            return 0\n",
    "        index_list = []\n",
    "        prob_matrix = np.zeros((len(self.strategy_vec),len(self.savings)))\n",
    "        for i, name in enumerate(self.strategy_vec):\n",
    "            index_list.append(name+', '+str(self.salary_proportion*100)+'%')\n",
    "            for j in range(len(self.savings)):\n",
    "                prob_matrix[i,j] = np.sum(self.wealth_list[i][:,j] > self.wealth_needed) / self.n_scenarios\n",
    "            \n",
    "        results_pd = pd.DataFrame(prob_matrix, columns=self.savings, index=index_list)\n",
    "        return results_pd\n",
    "    \n",
    "    def risk_report(self):\n",
    "        if self.strategy_vec == []:\n",
    "            return 0\n",
    "        report_list = np.zeros((4,1))\n",
    "        for l in self.wealth_list:\n",
    "            temp_amount = np.sort(self.wealth_needed-l[:,int(self.retire-self.age-1)])\n",
    "            cut_off = int(self.n_scenarios * threshold - 1)\n",
    "            temp_arr = np.array([np.median(l[:,int(self.retire-self.age-1)]),\n",
    "                                 np.mean(temp_amount<0), temp_amount[-cut_off], np.mean(temp_amount[-cut_off:])])\n",
    "            report_list = np.hstack((report_list, temp_arr.reshape(4,1)))\n",
    "        return risk_report"
   ]
  },
  {
   "cell_type": "code",
   "execution_count": 181,
   "metadata": {},
   "outputs": [],
   "source": [
    "def person_simulation(initial_amount, savings, holdings, asset_return, hold_type='fixed'):\n",
    "    \"\"\"Simulates monthly data of a person for a certain number of years.\n",
    "    asset_return should be total return, i.e. 1 plus the percentage return.\n",
    "    if hold_type is \"fixed\" (by default), holdings is fixed mix with annual rebalance.\n",
    "    if hold_type is a number, this is fixed mix with rebalance frequency (in months) .\n",
    "    if hold_type is \"SGP\", a Bogle rule will be implemented.\n",
    "    if hold_type is \"dynamic\", dynamic portfolio optimization will be conducted (to be implemented...)\n",
    "    \n",
    "    Other data required:\n",
    "        inf_mat, ir_mat, COLA_mat: the macro variables simulated\n",
    "        \n",
    "\n",
    "    The simulation returns a full path of wealth at the end of each year, so it is a n_scenarios*n_years matrix.\n",
    "    \"\"\"\n",
    "    n_months, n_assets, n_scenarios = asset_return.shape\n",
    "    wealth_path = np.zeros((n_scenarios, int(n_months/12)))\n",
    "    \n",
    "    \n",
    "\n",
    "    if hold_type == 'fixed':\n",
    "        for i in range(n_scenarios):\n",
    "            holdings_each = holdings * initial_amount\n",
    "            for j in range(n_months):\n",
    "                holdings_each = holdings_each * asset_return[j,:,i]\n",
    "                if (j+1)%12==0:\n",
    "                    wealth_path[i,int(j/12)] = np.sum(holdings_each) + savings * inf_mat[i,int(j/12)]\n",
    "                    holdings_each = wealth_path[i,int(j/12)] * holdings\n",
    "        return wealth_path\n",
    "\n",
    "    elif type(hold_type)==int:\n",
    "        ## Needs fix, perhaps not useful at all......\n",
    "        for i in range(n_scenarios):\n",
    "            holdings_each = holdings\n",
    "            for j in range(n_months):\n",
    "                holdings_each = holdings_each * asset_return[j,:,i]\n",
    "                if j%hold_type == 0: # Rebalance\n",
    "                    asset_temp = np.sum(holdings_each)\n",
    "                    holdings_each = asset_temp * holdings\n",
    "                if j%12==0:\n",
    "                    holdings_each = holdings_each * (1-spending_rate)\n",
    "                    wealth_path[i,int(j/12)] = np.sum(holdings_each)\n",
    "        return wealth_path\n",
    "\n",
    "    elif hold_type == 'SGP':\n",
    "        ## Gliding path: 90% equity at the beginning, and 46% of equity at the end\n",
    "        ## Equity: assets 0, 1, 2, 6, 7; Bonds: assets 3, 4, 5, 8.\n",
    "        for i in range(n_scenarios):\n",
    "            holdings_each = holdings * initial_amount\n",
    "            for j in range(n_months):\n",
    "                holdings_each = holdings_each * asset_return[j,:,i]\n",
    "                if (j+1)%12==0:\n",
    "                    wealth_path[i,int(j/12)] = np.sum(holdings_each) + savings * inf_mat[i,int(j/12)]\n",
    "                    holdings_each = wealth_path[i,int(j/12)] * holdings\n",
    "                    holdings_each[[0,1,2,6,7]] = holdings_each[[0,1,2,6,7]] * (90 - (j+1)/12) / 90\n",
    "                    holdings_each[[3,4,5,8]] = holdings_each[[3,4,5,8]] * (10 + (j+1)/12) / 10\n",
    "                    #if i == 7777: \n",
    "                    #Test:print([sum(holdings_each), holdings_each[0]])                    \n",
    "        return wealth_path        \n",
    "\n",
    "    elif hold_type == 'RGP':\n",
    "        ## Gliding path: 36% equity at the beginning, and 80% of equity at the end\n",
    "        ## Equity: assets 0, 1, 4; Bonds: assets 2, 3, 6, 7.\n",
    "        for i in range(n_scenarios):\n",
    "            holdings_each = holdings * initial_amount\n",
    "            for j in range(n_months):\n",
    "                holdings_each = holdings_each * asset_return[j,:,i]\n",
    "                if (j+1)%12==0:\n",
    "                    wealth_path[i,int(j/12)] = np.sum(holdings_each) + savings * inf_mat[i,int(j/12)]\n",
    "                    holdings_each = wealth_path[i,int(j/12)] * holdings\n",
    "                    holdings_each[[0,1,2,6,7]] = holdings_each[[0,1,2,6,7]] * (36 + (j+1)/12) / 36\n",
    "                    holdings_each[[3,4,5,8]] = holdings_each[[3,4,5,8]] * (64 - (j+1)/12) / 64\n",
    "                    #if i == 7777: \n",
    "                    #Test:print([sum(holdings_each), holdings_each[0]])                    \n",
    "        return wealth_path \n",
    "    \n",
    "    elif hold_type == 'Dynamic-GP':\n",
    "        ## Gliding path, same as SGP but tries to catch up when falling behind\n",
    "        ## Need another vector: standard path\n",
    "        for i in range(n_scenarios):\n",
    "            holdings_each = holdings * initial_amount\n",
    "            for j in range(n_months):\n",
    "                holdings_each = holdings_each * asset_return[j,:,i]\n",
    "                if (j+1)%12==0:\n",
    "                    wealth_path[i,int(j/12)] = np.sum(holdings_each) + savings * inf_mat[i,int(j/12)]\n",
    "                    holdings_each = wealth_path[i,int(j/12)] * holdings\n",
    "                    \n",
    "                    if wealth_path[i,int(j/12)] >= wealth_vec[int(j/12)+1]*1e6:\n",
    "                        holdings_each[[0,1,2,6,7]] = holdings_each[[0,1,2,6,7]] * (90 - (j+1)/12) / 90\n",
    "                        holdings_each[[3,4,5,8]] = holdings_each[[3,4,5,8]] * (10 + (j+1)/12) / 10\n",
    "                    else:\n",
    "                        equity_prop = min((90 - (j+1)/12) + 20, 95)\n",
    "                        holdings_each[[0,1,2,6,7]] = holdings_each[[0,1,2,6,7]] * equity_prop / 90\n",
    "                        holdings_each[[3,4,5,8]] = holdings_each[[3,4,5,8]] * (100-equity_prop) / 10\n",
    "        return wealth_path\n",
    "    \n",
    "    elif hold_type == 'Safe-play':\n",
    "    ## Gliding path, same as SGP but switches to bonds when safe\n",
    "    ## Need another vector: safe vector\n",
    "        for i in range(n_scenarios):\n",
    "            holdings_each = holdings * initial_amount\n",
    "            for j in range(n_months):\n",
    "                holdings_each = holdings_each * asset_return[j,:,i]\n",
    "                if (j+1)%12==0:\n",
    "                    wealth_path[i,int(j/12)] = np.sum(holdings_each) + savings * inf_mat[i,int(j/12)]\n",
    "                    holdings_each = wealth_path[i,int(j/12)] * holdings\n",
    "\n",
    "                    if wealth_path[i,int(j/12)] <= safe_vec[int(j/12)+1]*1e6:\n",
    "                        holdings_each[[0,1,2,6,7]] = holdings_each[[0,1,2,6,7]] * (90 - (j+1)/12) / 90\n",
    "                        holdings_each[[3,4,5,8]] = holdings_each[[3,4,5,8]] * (10 + (j+1)/12) / 10\n",
    "                    else:\n",
    "                        equity_prop = max((90 - (j+1)/12) - 50, 5)\n",
    "                        holdings_each[[0,1,2,6,7]] = holdings_each[[0,1,2,6,7]] * equity_prop / 90\n",
    "                        holdings_each[[3,4,5,8]] = holdings_each[[3,4,5,8]] * (100-equity_prop) / 10                   \n",
    "        return wealth_path\n",
    "    \n",
    "    elif hold_type == 'Zone':\n",
    "        ## Similar to the idea of 'No-Trade Zone', we have \"No-change Zone\"\n",
    "        ## Need other vectors: standard path (wealth_vec) and safe play (safe_vec)\n",
    "        for i in range(n_scenarios):\n",
    "            holdings_each = holdings * initial_amount\n",
    "            for j in range(n_months):\n",
    "                holdings_each = holdings_each * asset_return[j,:,i]\n",
    "                if (j+1)%12==0:\n",
    "                    wealth_path[i,int(j/12)] = np.sum(holdings_each) + savings * inf_mat[i,int(j/12)]\n",
    "                    holdings_each = wealth_path[i,int(j/12)] * holdings\n",
    "                    \n",
    "                    if wealth_path[i,int(j/12)] <= wealth_vec[int(j/12)+1]*1e6:\n",
    "                        # lagging\n",
    "                        equity_prop = min((90 - (j+1)/12) + 20, 95)\n",
    "                        holdings_each[[0,1,2,6,7]] = holdings_each[[0,1,2,6,7]] * equity_prop / 90\n",
    "                        holdings_each[[3,4,5,8]] = holdings_each[[3,4,5,8]] * (100-equity_prop) / 10\n",
    "                        \n",
    "                    elif wealth_path[i,int(j/12)] >= safe_vec[int(j/12)+1]*1e6:\n",
    "                        equity_prop = max((90 - (j+1)/12) - 50, 5)\n",
    "                        holdings_each[[0,1,2,6,7]] = holdings_each[[0,1,2,6,7]] * equity_prop / 90\n",
    "                        holdings_each[[3,4,5,8]] = holdings_each[[3,4,5,8]] * (100-equity_prop) / 10 \n",
    "                        \n",
    "                    else:\n",
    "                        holdings_each[[0,1,2,6,7]] = holdings_each[[0,1,2,6,7]] * (90 - (j+1)/12) / 90\n",
    "                        holdings_each[[3,4,5,8]] = holdings_each[[3,4,5,8]] * (10 + (j+1)/12) / 10\n",
    "        return wealth_path\n",
    "    \n",
    "    else:\n",
    "        ## Buy and Hold...\n",
    "        for i in range(n_scenarios):\n",
    "            value =  initial_amount\n",
    "            for j in range(n_months):\n",
    "                value = value * np.sum(holdings * asset_return[j,:,i])\n",
    "                if (j+1)%12==0:\n",
    "                    value  = value + savings * inf_mat[i,int(j/12)]\n",
    "                    wealth_path[i,int(j/12)] = value\n",
    "        return wealth_path"
   ]
  },
  {
   "cell_type": "code",
   "execution_count": 182,
   "metadata": {},
   "outputs": [],
   "source": [
    "# assets: US Equities,EAFE Equities,EM Equities,US Treasuries,Corp Bonds,TIPS,Real Estate,Commodities,T-bill\n",
    "\n",
    "hold_vec = np.array([[0, 0, 0, 0.3, 0.3, 0.3, 0, 0, 0.1], # Bonds\n",
    "                    [0.4, 0.1, 0.2, 0.1, 0, 0.1, 0.1, 0, 0], # \"60-40\" - 80% equities in fact\n",
    "                     [0.4, 0.1, 0.3, 0.05, 0, 0.05, 0.1, 0, 0], # SGP - 90% equity first\n",
    "                    [0.2, 0.04, 0.08, 0.32, 0, 0.24, 0.04, 0, 0.08]])  # RGP - 80% equity last\n",
    "\n",
    "P3 = PersonalRetirement(25, 69, 69, 'F', 132900, 0.8, n_simulation, life_table)\n",
    "P3.wealth_comp(ir_mat, inf_mat, COLA_mat)\n",
    "P3.strategy_vec = ['Fixed Eq', 'Fixed Bonds', 'SGP', 'RGP','Dynamic-GP',\n",
    "                  'Safe-play','Zone','Buy-n-hold']\n",
    "\n",
    "savings = 132900 * 0.12\n",
    "results_1 = person_simulation(10000, savings, hold_vec[1,:], r_all_cut[:,:,:n_simulation]+1, 'fixed') / 1e6\n",
    "results_2 = person_simulation(10000, savings, hold_vec[0,:], r_all_cut[:,:,:n_simulation]+1, 'fixed') / 1e6\n",
    "results_3 = person_simulation(10000, savings, hold_vec[2,:], r_all_cut[:,:,:n_simulation]+1, 'SGP') / 1e6\n",
    "results_4 = person_simulation(10000, savings, hold_vec[3,:], r_all_cut[:,:,:n_simulation]+1, 'RGP') / 1e6"
   ]
  },
  {
   "cell_type": "code",
   "execution_count": 232,
   "metadata": {},
   "outputs": [
    {
     "name": "stdout",
     "output_type": "stream",
     "text": [
      "5.842682983582792\n"
     ]
    }
   ],
   "source": [
    "# Smooth growth rate: 5.5%\n",
    "ann_growth = 1.045\n",
    "inflation_smooth = np.ones(100) * 1.022\n",
    "\n",
    "wealth_vec = np.ones(55) * 0.01\n",
    "wage_vec = P2.init_wage * np.cumprod(inflation_smooth)\n",
    "\n",
    "for i in range(44):\n",
    "    wealth_vec[i+1] = wealth_vec[i]*ann_growth + wage_vec[i]*0.15\n",
    "\n",
    "print(wealth_vec[44])"
   ]
  },
  {
   "cell_type": "code",
   "execution_count": 159,
   "metadata": {},
   "outputs": [],
   "source": [
    "# Safe vector: only need to maintain 2.5% income\n",
    "safe_growth = 1.025\n",
    "safe_vec = np.ones(55) * 5\n",
    "\n",
    "for i in range(44):\n",
    "    safe_vec[43-i] = (safe_vec[44-i] - wage_vec[43-i]*0.12) / safe_growth"
   ]
  },
  {
   "cell_type": "code",
   "execution_count": 186,
   "metadata": {},
   "outputs": [],
   "source": [
    "results_5 = person_simulation(10000, savings, hold_vec[2,:], r_all_cut[:,:,:n_simulation]+1, 'Dynamic-GP') / 1e6\n",
    "\n",
    "results_6 = person_simulation(10000, savings, hold_vec[2,:], r_all_cut[:,:,:n_simulation]+1, 'Safe-play') / 1e6\n",
    "\n",
    "results_7 = person_simulation(10000, savings, hold_vec[2,:], r_all_cut[:,:,:n_simulation]+1, 'Zone') / 1e6 \n",
    "\n",
    "results_8 = person_simulation(10000, savings, hold_vec[1,:], r_all_cut[:,:,:n_simulation]+1, 'buy and hold') / 1e6 \n",
    "\n",
    "simu_list = [results_1,results_2,results_3,results_4,results_5,results_6,results_7,results_8]"
   ]
  },
  {
   "cell_type": "code",
   "execution_count": 187,
   "metadata": {},
   "outputs": [],
   "source": [
    "report_list = []\n",
    "for r in simu_list:\n",
    "    temp_amount = np.sort(P3.wealth_needed-r[:,43])\n",
    "    report_list.append(np.array([np.median(r[:,43]),np.mean(temp_amount<0), temp_amount[-499], np.mean(temp_amount[-499:])]))"
   ]
  },
  {
   "cell_type": "code",
   "execution_count": 188,
   "metadata": {},
   "outputs": [],
   "source": [
    "print_retire_result(simu_list, name='report_0718.csv')"
   ]
  },
  {
   "cell_type": "code",
   "execution_count": 189,
   "metadata": {},
   "outputs": [],
   "source": [
    "savings = 132900 * 0.1\n",
    "results_10 = person_simulation(10000, savings, hold_vec[1,:], r_all_cut[:,:,:n_simulation]+1, 'fixed') / 1e6\n",
    "results_20 = person_simulation(10000, savings, hold_vec[0,:], r_all_cut[:,:,:n_simulation]+1, 'fixed') / 1e6\n",
    "results_30 = person_simulation(10000, savings, hold_vec[2,:], r_all_cut[:,:,:n_simulation]+1, 'SGP') / 1e6\n",
    "results_40 = person_simulation(10000, savings, hold_vec[3,:], r_all_cut[:,:,:n_simulation]+1, 'RGP') / 1e6\n",
    "results_50 = person_simulation(10000, savings, hold_vec[2,:], r_all_cut[:,:,:n_simulation]+1, 'Dynamic-GP') / 1e6\n",
    "results_60 = person_simulation(10000, savings, hold_vec[2,:], r_all_cut[:,:,:n_simulation]+1, 'Safe-play') / 1e6\n",
    "results_70 = person_simulation(10000, savings, hold_vec[2,:], r_all_cut[:,:,:n_simulation]+1, 'Zone') / 1e6 \n",
    "results_80 = person_simulation(10000, savings, hold_vec[1,:], r_all_cut[:,:,:n_simulation]+1, 'buy and hold') / 1e6 \n",
    "\n",
    "simu_list0 = [results_10,results_20,results_30,results_40,results_50,results_60,results_70,results_80]"
   ]
  },
  {
   "cell_type": "code",
   "execution_count": 196,
   "metadata": {},
   "outputs": [],
   "source": [
    "def print_retire_result(s_l, name='0.csv'):\n",
    "    report_list = np.zeros((4,1))\n",
    "    for r in s_l:\n",
    "        temp_amount = np.sort(P3.wealth_needed-r[:,43])\n",
    "        temp_arr = np.array([np.median(r[:,43]),np.mean(temp_amount<0), temp_amount[-499], np.mean(temp_amount[-499:])])\n",
    "        report_list = np.hstack((report_list, temp_arr.reshape(4,1)))\n",
    "    np.savetxt(name, report_list, delimiter=\",\")"
   ]
  },
  {
   "cell_type": "code",
   "execution_count": 197,
   "metadata": {},
   "outputs": [],
   "source": [
    "simu_list0 = [results_10,results_20,results_30,results_40,results_50,results_60,results_70,results_80]\n",
    "print_retire_result(simu_list0, name='0.csv')"
   ]
  },
  {
   "cell_type": "code",
   "execution_count": 198,
   "metadata": {},
   "outputs": [],
   "source": [
    "savings = 132900 * 0.15\n",
    "results_15 = person_simulation(10000, savings, hold_vec[1,:], r_all_cut[:,:,:n_simulation]+1, 'fixed') / 1e6\n",
    "results_25 = person_simulation(10000, savings, hold_vec[0,:], r_all_cut[:,:,:n_simulation]+1, 'fixed') / 1e6\n",
    "results_35 = person_simulation(10000, savings, hold_vec[2,:], r_all_cut[:,:,:n_simulation]+1, 'SGP') / 1e6\n",
    "results_45 = person_simulation(10000, savings, hold_vec[3,:], r_all_cut[:,:,:n_simulation]+1, 'RGP') / 1e6\n",
    "results_55 = person_simulation(10000, savings, hold_vec[2,:], r_all_cut[:,:,:n_simulation]+1, 'Dynamic-GP') / 1e6\n",
    "results_65 = person_simulation(10000, savings, hold_vec[2,:], r_all_cut[:,:,:n_simulation]+1, 'Safe-play') / 1e6\n",
    "results_75 = person_simulation(10000, savings, hold_vec[2,:], r_all_cut[:,:,:n_simulation]+1, 'Zone') / 1e6 \n",
    "results_85 = person_simulation(10000, savings, hold_vec[1,:], r_all_cut[:,:,:n_simulation]+1, 'buy and hold') / 1e6 \n",
    "\n",
    "simu_list5 = [results_15,results_25,results_35,results_45,results_55,results_65,results_75,results_85]\n",
    "print_retire_result(simu_list5, name='report_0718.csv')"
   ]
  },
  {
   "cell_type": "code",
   "execution_count": 211,
   "metadata": {},
   "outputs": [],
   "source": [
    "def print_person_result(P, ann_growth, safe_amount, savings, name='0.csv'):\n",
    "    report_list = np.zeros((4,1))\n",
    "\n",
    "\n",
    "        \n",
    "    results_1 = person_simulation(10000, savings, hold_vec[1,:], r_all_cut[:,:,:n_simulation]+1, 'fixed') / 1e6\n",
    "    results_2 = person_simulation(10000, savings, hold_vec[0,:], r_all_cut[:,:,:n_simulation]+1, 'fixed') / 1e6\n",
    "    results_3 = person_simulation(10000, savings, hold_vec[2,:], r_all_cut[:,:,:n_simulation]+1, 'SGP') / 1e6\n",
    "    results_4 = person_simulation(10000, savings, hold_vec[3,:], r_all_cut[:,:,:n_simulation]+1, 'RGP') / 1e6\n",
    "    results_5 = person_simulation(10000, savings, hold_vec[2,:], r_all_cut[:,:,:n_simulation]+1, 'Dynamic-GP') / 1e6\n",
    "    results_6 = person_simulation(10000, savings, hold_vec[2,:], r_all_cut[:,:,:n_simulation]+1, 'Safe-play') / 1e6\n",
    "    results_7 = person_simulation(10000, savings, hold_vec[2,:], r_all_cut[:,:,:n_simulation]+1, 'Zone') / 1e6 \n",
    "    results_8 = person_simulation(10000, savings, hold_vec[1,:], r_all_cut[:,:,:n_simulation]+1, 'buy and hold') / 1e6 \n",
    "    simu_list = [results_1,results_2,results_3,results_4,results_5,results_6,results_7,results_8]\n",
    "    \n",
    "    report_list = np.zeros((4,1))\n",
    "    for r in simu_list:\n",
    "        temp_amount = np.sort(P.wealth_needed-r[:,43])\n",
    "        temp_arr = np.array([np.median(r[:,43]),np.mean(temp_amount<0), temp_amount[-499], np.mean(temp_amount[-499:])])\n",
    "        report_list = np.hstack((report_list, temp_arr.reshape(4,1)))       \n",
    "         \n",
    "    np.savetxt(name, report_list, delimiter=\",\")"
   ]
  },
  {
   "cell_type": "code",
   "execution_count": 199,
   "metadata": {},
   "outputs": [],
   "source": [
    "# More people\n",
    "P1 = PersonalRetirement(25, 69, 69, 'F', 132900, 0.9, n_simulation, life_table)\n",
    "P1.wealth_comp(ir_mat, inf_mat, COLA_mat)"
   ]
  },
  {
   "cell_type": "code",
   "execution_count": 227,
   "metadata": {},
   "outputs": [],
   "source": [
    "inflation_smooth = np.ones(100) * 1.022\n",
    "wealth_vec = np.ones(55) * 0.01\n",
    "wage_vec = P1.init_wage * np.cumprod(inflation_smooth)\n",
    "for i in range(44):\n",
    "    wealth_vec[i+1] = wealth_vec[i]*ann_growth + wage_vec[i]*0.12\n",
    "\n",
    "safe_growth = 1.025\n",
    "safe_vec = np.ones(55) * 5.5\n",
    "for i in range(44):\n",
    "    safe_vec[43-i] = (safe_vec[44-i] - wage_vec[43-i]*0.12) / safe_growth\n",
    "    \n",
    "print_person_result(P1, 1.065, 5.5, 132900*.12, name='0.csv')"
   ]
  },
  {
   "cell_type": "code",
   "execution_count": 289,
   "metadata": {},
   "outputs": [],
   "source": [
    "# Just for plot\n",
    "wealth_vec = np.ones(55) * 0.01\n",
    "wage_vec = P1.init_wage * np.cumprod(inflation_smooth)\n",
    "for i in range(44):\n",
    "    wealth_vec[i+1] = wealth_vec[i]*ann_growth + wage_vec[i]*0.12\n",
    "for i in range(44,54):\n",
    "    wealth_vec[i+1] = wealth_vec[i]\n",
    "\n",
    "safe_growth = 1.025\n",
    "safe_vec = np.ones(55) * 5.5\n",
    "for i in range(44):\n",
    "    safe_vec[43-i] = (safe_vec[44-i] - wage_vec[43-i]*0.12) / safe_growth"
   ]
  },
  {
   "cell_type": "code",
   "execution_count": 291,
   "metadata": {},
   "outputs": [
    {
     "data": {
      "text/plain": [
       "<matplotlib.legend.Legend at 0x1c1d43a0f0>"
      ]
     },
     "execution_count": 291,
     "metadata": {},
     "output_type": "execute_result"
    },
    {
     "data": {
      "image/png": "[encoded data removed]",
      "text/plain": [
       "<Figure size 864x648 with 1 Axes>"
      ]
     },
     "metadata": {},
     "output_type": "display_data"
    }
   ],
   "source": [
    "age_vec = np.arange(25,80)\n",
    "plt.figure(figsize=(12,9))\n",
    "plt.plot(age_vec,safe_vec,label='Safe Bound')\n",
    "plt.plot(age_vec,wealth_vec*.95, label='Lower Bound for 80% Income')\n",
    "plt.xlabel('Age')\n",
    "plt.legend(loc='best')"
   ]
  },
  {
   "cell_type": "code",
   "execution_count": 233,
   "metadata": {},
   "outputs": [],
   "source": [
    "inflation_smooth = np.ones(100) * 1.022\n",
    "wealth_vec = np.ones(55) * 0.01\n",
    "wage_vec = P1.init_wage * np.cumprod(inflation_smooth)\n",
    "for i in range(44):\n",
    "    wealth_vec[i+1] = wealth_vec[i]*1.055 + wage_vec[i]*0.15\n",
    "\n",
    "safe_growth = 1.025\n",
    "safe_vec = np.ones(55) * 5.5\n",
    "for i in range(44):\n",
    "    safe_vec[43-i] = (safe_vec[44-i] - wage_vec[43-i]*0.12) / safe_growth\n",
    "print_person_result(P1, 1.065, 5.5, 132900*.15, name='1.csv')"
   ]
  },
  {
   "cell_type": "code",
   "execution_count": 228,
   "metadata": {},
   "outputs": [
    {
     "data": {
      "text/plain": [
       "(4.743221897275575, 5.924256511253864)"
      ]
     },
     "execution_count": 228,
     "metadata": {},
     "output_type": "execute_result"
    }
   ],
   "source": [
    "P2 = PersonalRetirement(25, 69, 69, 'M', 200000, 0.8, n_simulation, life_table)\n",
    "P2.wealth_comp(ir_mat, inf_mat, COLA_mat)\n",
    "np.median(P1.wealth_needed), np.median(P2.wealth_needed)"
   ]
  },
  {
   "cell_type": "code",
   "execution_count": 256,
   "metadata": {},
   "outputs": [],
   "source": [
    "inflation_smooth = np.ones(100) * 1.022\n",
    "wealth_vec = np.ones(55) * 0.01\n",
    "wage_vec = P2.init_wage * np.cumprod(inflation_smooth)\n",
    "for i in range(44):\n",
    "    wealth_vec[i+1] = wealth_vec[i]*1.055 + wage_vec[i]*0.12\n",
    "\n",
    "safe_growth = 1.025\n",
    "safe_vec = np.ones(55) * 6.5\n",
    "for i in range(44):\n",
    "    safe_vec[43-i] = (safe_vec[44-i] - wage_vec[43-i]*0.12) / safe_growth\n",
    "    \n",
    "print_person_result(P2, 1.08, 7.5, 132900*.12, name='0.csv')"
   ]
  },
  {
   "cell_type": "code",
   "execution_count": 257,
   "metadata": {},
   "outputs": [],
   "source": [
    "inflation_smooth = np.ones(100) * 1.022\n",
    "wealth_vec = np.ones(55) * 0.01\n",
    "wage_vec = P2.init_wage * np.cumprod(inflation_smooth)\n",
    "for i in range(44):\n",
    "    wealth_vec[i+1] = wealth_vec[i]*1.045 + wage_vec[i]*0.15\n",
    "\n",
    "safe_growth = 1.025\n",
    "safe_vec = np.ones(55) * 6.5\n",
    "for i in range(44):\n",
    "    safe_vec[43-i] = (safe_vec[44-i] - wage_vec[43-i]*0.12) / safe_growth\n",
    "    \n",
    "print_person_result(P2, 1.08, 7.5, 132900*.15, name='1.csv')"
   ]
  },
  {
   "cell_type": "code",
   "execution_count": 308,
   "metadata": {},
   "outputs": [
    {
     "data": {
      "text/plain": [
       "(array([ 124.,  916., 2511., 3001., 2090.,  975.,  288.,   73.,   16.,\n",
       "           6.]),\n",
       " array([ 3.62123734,  4.28921166,  4.95718598,  5.62516031,  6.29313463,\n",
       "         6.96110896,  7.62908328,  8.29705761,  8.96503193,  9.63300625,\n",
       "        10.30098058]),\n",
       " <a list of 10 Patch objects>)"
      ]
     },
     "execution_count": 308,
     "metadata": {},
     "output_type": "execute_result"
    },
    {
     "data": {
      "image/png": "[encoded data removed]",
      "text/plain": [
       "<Figure size 432x288 with 1 Axes>"
      ]
     },
     "metadata": {},
     "output_type": "display_data"
    }
   ],
   "source": [
    "plt.hist(P2.wealth_needed)"
   ]
  },
  {
   "cell_type": "code",
   "execution_count": null,
   "metadata": {},
   "outputs": [],
   "source": []
  },
  {
   "cell_type": "markdown",
   "metadata": {},
   "source": [
    "## 5. A new update 8/1: list of objects\n",
    "\n",
    "Reminder of person_simulation object:\n",
    "\n",
    "    \"\"\"\n",
    "    Simulates the SS and 401(k) accounts for a person.\n",
    "    \n",
    "    Variables (Person):\n",
    "        age: current age\n",
    "        retire: retirement age, should not exceed 72\n",
    "        full_retire: Full Retirement Age (FRA), the age at which 100% benefit is guaranteed\n",
    "        sex: 'M' or 'F'\n",
    "        init_wage: initial wage (in million dollars)\n",
    "        \n",
    "    Variables (Retirement):\n",
    "        salary_proportion: The goal in terms of proportions\n",
    "        savings: list of possible savings\n",
    "        strategy_vec: currently available strategies...\n",
    "        wealth_list: list of results for each strategy: len(strategy_vec) of \"n_scenarios * len(savings)\" arrays\n",
    "        n_scenarios: number of scenarios\n",
    "        survive_prob: survival probability, starting from retirement age\n",
    "        wealth_needed: Goal in each\n",
    "        \n",
    "    Methods:\n",
    "        wealth_comp: Compute wealth needed in each scenario\n",
    "        risk_report: Outputs wealth needed, probability of reaching goal, GaR, CGaR\n",
    "    \"\"\""
   ]
  },
  {
   "cell_type": "code",
   "execution_count": 353,
   "metadata": {},
   "outputs": [],
   "source": [
    "def personal_retire_simulation(person, initial_amount, savings_rate, holdings, asset_return, hold_type='fixed'):\n",
    "    \"\"\"Simulates monthly data of a person for a certain number of years.\n",
    "    \n",
    "    asset_return should be total return, i.e. 1 plus the percentage return.\n",
    "    if hold_type is \"fixed\" (by default), holdings is fixed mix with annual rebalance.\n",
    "    if hold_type is a number, this is fixed mix with rebalance frequency (in months) .\n",
    "    if hold_type is \"SGP\", a Bogle rule will be implemented.\n",
    "    if hold_type is \"dynamic\", dynamic portfolio optimization will be conducted (to be implemented...)\n",
    "    \n",
    "    Other data required:\n",
    "        inf_mat, ir_mat, COLA_mat: the macro variables simulated\n",
    "        \n",
    "\n",
    "    The simulation returns a full path of wealth at the end of each year, so it is a n_scenarios*n_years matrix.\n",
    "    \"\"\"\n",
    "    n_months, n_assets, n_scenarios = asset_return.shape\n",
    "    wealth_path = np.zeros((n_scenarios, int(n_months/12)))\n",
    "    \n",
    "    savings = savings_rate * person.init_wage\n",
    "\n",
    "    if hold_type == 'fixed':\n",
    "        for i in range(n_scenarios):\n",
    "            holdings_each = holdings * initial_amount\n",
    "            for j in range(n_months):\n",
    "                holdings_each = holdings_each * asset_return[j,:,i]\n",
    "                if (j+1)%12==0:\n",
    "                    wealth_path[i,int(j/12)] = np.sum(holdings_each) + savings * inf_mat[i,int(j/12)]\n",
    "                    holdings_each = wealth_path[i,int(j/12)] * holdings\n",
    "        return wealth_path\n",
    "\n",
    "    elif type(hold_type)==int:\n",
    "        ## Needs fix, perhaps not useful at all......\n",
    "        for i in range(n_scenarios):\n",
    "            holdings_each = holdings\n",
    "            for j in range(n_months):\n",
    "                holdings_each = holdings_each * asset_return[j,:,i]\n",
    "                if j%hold_type == 0: # Rebalance\n",
    "                    asset_temp = np.sum(holdings_each)\n",
    "                    holdings_each = asset_temp * holdings\n",
    "                if j%12==0:\n",
    "                    holdings_each = holdings_each * (1-spending_rate)\n",
    "                    wealth_path[i,int(j/12)] = np.sum(holdings_each)\n",
    "        return wealth_path\n",
    "\n",
    "    elif hold_type == 'SGP':\n",
    "        ## Gliding path: 90% equity at the beginning, and 46% of equity at the end\n",
    "        ## Equity: assets 0, 1, 2, 6, 7; Bonds: assets 3, 4, 5, 8.\n",
    "        if np.abs(np.sum(holdings[[0,1,2,6,7]])-0.9) > 0.001:\n",
    "            print('Initial Holding Incorrect. Results may be affected.')\n",
    "        for i in range(n_scenarios):\n",
    "            holdings_each = holdings * initial_amount\n",
    "            for j in range(n_months):\n",
    "                holdings_each = holdings_each * asset_return[j,:,i]\n",
    "                if (j+1)%12==0:\n",
    "                    wealth_path[i,int(j/12)] = np.sum(holdings_each) + savings * inf_mat[i,int(j/12)]\n",
    "                    holdings_each = wealth_path[i,int(j/12)] * holdings\n",
    "                    holdings_each[[0,1,2,6,7]] = holdings_each[[0,1,2,6,7]] * (90 - (j+1)/12) / 90\n",
    "                    holdings_each[[3,4,5,8]] = holdings_each[[3,4,5,8]] * (10 + (j+1)/12) / 10\n",
    "                    #if i == 7777: \n",
    "                    #Test:print([sum(holdings_each), holdings_each[0]])                    \n",
    "        return wealth_path        \n",
    "\n",
    "    elif hold_type == 'RGP':\n",
    "        ## Gliding path: 36% equity at the beginning, and 80% of equity at the end\n",
    "        ## Equity: assets 0, 1, 4; Bonds: assets 2, 3, 6, 7.\n",
    "        for i in range(n_scenarios):\n",
    "            holdings_each = holdings * initial_amount\n",
    "            for j in range(n_months):\n",
    "                holdings_each = holdings_each * asset_return[j,:,i]\n",
    "                if (j+1)%12==0:\n",
    "                    wealth_path[i,int(j/12)] = np.sum(holdings_each) + savings * inf_mat[i,int(j/12)]\n",
    "                    holdings_each = wealth_path[i,int(j/12)] * holdings\n",
    "                    holdings_each[[0,1,2,6,7]] = holdings_each[[0,1,2,6,7]] * (36 + (j+1)/12) / 36\n",
    "                    holdings_each[[3,4,5,8]] = holdings_each[[3,4,5,8]] * (64 - (j+1)/12) / 64\n",
    "                    #if i == 7777: \n",
    "                    #Test:print([sum(holdings_each), holdings_each[0]])                    \n",
    "        return wealth_path \n",
    "    \n",
    "    elif hold_type == 'Dynamic-GP':\n",
    "        ## Gliding path, same as SGP but tries to catch up when falling behind\n",
    "        ## Need another vector: standard path\n",
    "        if np.abs(np.sum(holdings[[0,1,2,6,7]])-0.9) > 0.001:\n",
    "            print('Initial Holding Incorrect. Results may be affected.')\n",
    "        n_flag = 0.0\n",
    "        for i in range(n_scenarios):\n",
    "            holdings_each = holdings * initial_amount\n",
    "            \n",
    "            # Compute safe-vec and wealth-vec\n",
    "            n_years = person.retire-person.age-1\n",
    "            wealth_vec = np.ones(55)*person.wealth_needed[i]\n",
    "            wealth_growth = 1.06\n",
    "            for n in range(n_years+1):\n",
    "                wealth_vec[n_years-n] = (wealth_vec[n_years+1-n] - savings * inf_mat[i,n]) / wealth_growth\n",
    "                \n",
    "            for j in range(n_months):\n",
    "                holdings_each = holdings_each * asset_return[j,:,i]\n",
    "                if (j+1)%12==0:\n",
    "                    wealth_path[i,int(j/12)] = np.sum(holdings_each) + savings * inf_mat[i,int(j/12)]\n",
    "                    holdings_each = wealth_path[i,int(j/12)] * holdings\n",
    "                    \n",
    "                    if wealth_path[i,int(j/12)] >= wealth_vec[int(j/12)+1]:\n",
    "                        holdings_each[[0,1,2,6,7]] = holdings_each[[0,1,2,6,7]] * (90 - (j+1)/12) / 90\n",
    "                        holdings_each[[3,4,5,8]] = holdings_each[[3,4,5,8]] * (10 + (j+1)/12) / 10\n",
    "                    else:\n",
    "                        equity_prop = min((90 - (j+1)/12) + 20, 95)\n",
    "                        holdings_each[[0,1,2,6,7]] = holdings_each[[0,1,2,6,7]] * equity_prop / 90\n",
    "                        holdings_each[[3,4,5,8]] = holdings_each[[3,4,5,8]] * (100-equity_prop) / 10\n",
    "                        n_flag = n_flag + 1\n",
    "        return n_flag/n_scenarios, wealth_path\n",
    "    \n",
    "    elif hold_type == 'Safe-play':\n",
    "        ## Gliding path, same as SGP but switches to bonds when safe\n",
    "        ## Need another vector: safe vector\n",
    "        if np.abs(np.sum(holdings[[0,1,2,6,7]])-0.9) > 0.001:\n",
    "            print('Initial Holding Incorrect. Results may be affected.')\n",
    "        n_flag = 0.0\n",
    "        \n",
    "        for i in range(n_scenarios):\n",
    "            holdings_each = holdings * initial_amount\n",
    "            \n",
    "            # Compute safe-vec and wealth-vec\n",
    "            n_years = person.retire-person.age-1\n",
    "\n",
    "            safe_growth = 1.025\n",
    "            safe_vec = np.ones(55) * (person.wealth_needed[i]+0.5)\n",
    "            for n in range(n_years+1):\n",
    "                safe_vec[n_years-n] = (safe_vec[n_years+1-n] - savings * inf_mat[i,n]) / safe_growth\n",
    "                \n",
    "            for j in range(n_months):\n",
    "                holdings_each = holdings_each * asset_return[j,:,i]\n",
    "                if (j+1)%12==0:\n",
    "                    wealth_path[i,int(j/12)] = np.sum(holdings_each) + savings * inf_mat[i,int(j/12)]\n",
    "                    holdings_each = wealth_path[i,int(j/12)] * holdings\n",
    "\n",
    "                    if wealth_path[i,int(j/12)] <= safe_vec[int(j/12)+1]:\n",
    "                        holdings_each[[0,1,2,6,7]] = holdings_each[[0,1,2,6,7]] * (90 - (j+1)/12) / 90\n",
    "                        holdings_each[[3,4,5,8]] = holdings_each[[3,4,5,8]] * (10 + (j+1)/12) / 10\n",
    "                    else:\n",
    "                        equity_prop = max((90 - (j+1)/12) - 50, 5)\n",
    "                        holdings_each[[0,1,2,6,7]] = holdings_each[[0,1,2,6,7]] * equity_prop / 90\n",
    "                        holdings_each[[3,4,5,8]] = holdings_each[[3,4,5,8]] * (100-equity_prop) / 10\n",
    "                        n_flag = n_flag + 1\n",
    "        return n_flag/n_scenarios, wealth_path\n",
    "    \n",
    "    elif hold_type == 'Zone':\n",
    "        ## Similar to the idea of 'No-Trade Zone', we have \"No-change Zone\"\n",
    "        ## Need other vectors: standard path (wealth_vec) and safe play (safe_vec)\n",
    "        if np.abs(np.sum(holdings[[0,1,2,6,7]])-0.9) > 0.001:\n",
    "            print('Initial Holding Incorrect. Results may be affected.')\n",
    "        n_flag = [0,0]\n",
    "        \n",
    "        for i in range(n_scenarios):\n",
    "            holdings_each = holdings * initial_amount\n",
    "            \n",
    "            # Compute safe-vec and wealth-vec\n",
    "            n_years = person.retire-person.age-1\n",
    "            wealth_vec = np.ones(55)*person.wealth_needed[i]\n",
    "            wealth_growth = 1.06\n",
    "            for n in range(n_years+1):\n",
    "                wealth_vec[n_years-n] = (wealth_vec[n_years+1-n] - savings * inf_mat[i,n]) / wealth_growth\n",
    "\n",
    "            safe_growth = 1.025\n",
    "            safe_vec = np.ones(55) * (person.wealth_needed[i]+0.5)\n",
    "            for n in range(n_years+1):\n",
    "                safe_vec[n_years-n] = (safe_vec[n_years+1-n] - savings * inf_mat[i,n]) / safe_growth\n",
    "            \n",
    "            for j in range(n_months):\n",
    "                holdings_each = holdings_each * asset_return[j,:,i]\n",
    "                if (j+1)%12==0:\n",
    "                    wealth_path[i,int(j/12)] = np.sum(holdings_each) + savings * inf_mat[i,int(j/12)]\n",
    "                    holdings_each = wealth_path[i,int(j/12)] * holdings\n",
    "                    \n",
    "                    if wealth_path[i,int(j/12)] <= wealth_vec[int(j/12)+1]:\n",
    "                        # lagging\n",
    "                        equity_prop = min((90 - (j+1)/12) + 20, 95)\n",
    "                        holdings_each[[0,1,2,6,7]] = holdings_each[[0,1,2,6,7]] * equity_prop / 90\n",
    "                        holdings_each[[3,4,5,8]] = holdings_each[[3,4,5,8]] * (100-equity_prop) / 10\n",
    "                        n_flag[0] = n_flag[0] + 1.0/n_scenarios\n",
    "                        \n",
    "                    elif wealth_path[i,int(j/12)] >= safe_vec[int(j/12)+1]:\n",
    "                        equity_prop = max((90 - (j+1)/12) - 50, 5)\n",
    "                        holdings_each[[0,1,2,6,7]] = holdings_each[[0,1,2,6,7]] * equity_prop / 90\n",
    "                        holdings_each[[3,4,5,8]] = holdings_each[[3,4,5,8]] * (100-equity_prop) / 10 \n",
    "                        n_flag[1] = n_flag[1] + 1.0/n_scenarios\n",
    "                    else:\n",
    "                        holdings_each[[0,1,2,6,7]] = holdings_each[[0,1,2,6,7]] * (90 - (j+1)/12) / 90\n",
    "                        holdings_each[[3,4,5,8]] = holdings_each[[3,4,5,8]] * (10 + (j+1)/12) / 10\n",
    "        return n_flag, wealth_path\n",
    " \n",
    "    elif hold_type == 'ZoneSave':\n",
    "        ## We save more (thus rebalancing the portfolio) when trailing\n",
    "        ## Need other vectors: standard path (wealth_vec) and safe play (safe_vec)\n",
    "        if np.abs(np.sum(holdings[[0,1,2,6,7]])-0.9) > 0.001:\n",
    "            print('Initial Holding Incorrect. Results may be affected.')\n",
    "        n_flag = [0,0]\n",
    "        \n",
    "        for i in range(n_scenarios):\n",
    "            holdings_each = holdings * initial_amount\n",
    "            \n",
    "            # Compute safe-vec and wealth-vec\n",
    "            n_years = person.retire-person.age-1\n",
    "            wealth_vec = np.ones(55)*person.wealth_needed[i]\n",
    "            wealth_growth = 1.06\n",
    "            for n in range(n_years+1):\n",
    "                wealth_vec[n_years-n] = (wealth_vec[n_years+1-n] - savings * inf_mat[i,n]) / wealth_growth\n",
    "\n",
    "            safe_growth = 1.025\n",
    "            safe_vec = np.ones(55) * (person.wealth_needed[i]+0.5)\n",
    "            for n in range(n_years+1):\n",
    "                safe_vec[n_years-n] = (safe_vec[n_years+1-n] - savings * inf_mat[i,n]) / safe_growth\n",
    "            \n",
    "            for j in range(n_months):\n",
    "                holdings_each = holdings_each * asset_return[j,:,i]\n",
    "                if (j+1)%12==0:\n",
    "                    wealth_path[i,int(j/12)] = np.sum(holdings_each) + savings * inf_mat[i,int(j/12)]\n",
    "                                      \n",
    "                    if wealth_path[i,int(j/12)] <= wealth_vec[int(j/12)+1]:\n",
    "                        # lagging\n",
    "                        wealth_path[i,int(j/12)] = wealth_path[i,int(j/12)] + 0.03*savings/savings_rate*inf_mat[i,int(j/12)]\n",
    "                        holdings_each = wealth_path[i,int(j/12)] * holdings\n",
    "                        equity_prop = min((90 - (j+1)/12) + 15, 95)\n",
    "                        holdings_each[[0,1,2,6,7]] = holdings_each[[0,1,2,6,7]] * equity_prop / 90\n",
    "                        holdings_each[[3,4,5,8]] = holdings_each[[3,4,5,8]] * (100-equity_prop) / 10\n",
    "                        n_flag[0] = n_flag[0] + 1.0/n_scenarios\n",
    "                        \n",
    "                    elif wealth_path[i,int(j/12)] >= safe_vec[int(j/12)+1]:\n",
    "                        holdings_each = wealth_path[i,int(j/12)] * holdings\n",
    "                        equity_prop = max((90 - (j+1)/12) - 50, 5)\n",
    "                        holdings_each[[0,1,2,6,7]] = holdings_each[[0,1,2,6,7]] * equity_prop / 90\n",
    "                        holdings_each[[3,4,5,8]] = holdings_each[[3,4,5,8]] * (100-equity_prop) / 10 \n",
    "                        n_flag[1] = n_flag[1] + 1.0/n_scenarios\n",
    "                    else:\n",
    "                        holdings_each = wealth_path[i,int(j/12)] * holdings\n",
    "                        holdings_each[[0,1,2,6,7]] = holdings_each[[0,1,2,6,7]] * (90 - (j+1)/12) / 90\n",
    "                        holdings_each[[3,4,5,8]] = holdings_each[[3,4,5,8]] * (10 + (j+1)/12) / 10\n",
    "        #print(safe_vec)\n",
    "        #print(wealth_vec)\n",
    "        return n_flag, wealth_path\n",
    "    \n",
    "    else:\n",
    "        ## Buy and Hold...\n",
    "        for i in range(n_scenarios):\n",
    "            value =  initial_amount\n",
    "            for j in range(n_months):\n",
    "                value = value * np.sum(holdings * asset_return[j,:,i])\n",
    "                if (j+1)%12==0:\n",
    "                    value  = value + savings * inf_mat[i,int(j/12)]\n",
    "                    wealth_path[i,int(j/12)] = value\n",
    "        return wealth_path"
   ]
  },
  {
   "cell_type": "code",
   "execution_count": 617,
   "metadata": {},
   "outputs": [],
   "source": [
    "###\n",
    "# Probability Calculator: use 60-40 portfolio only\n",
    "\n",
    "hold_vec_eq = np.array([0.4, 0.1, 0.2, 0.1, 0, 0.1, 0.1, 0, 0])\n",
    "\n",
    "def prob_estimate_all(hold,R,retire_age=69, FRA=69, init_salary=132900,n_simulation=10000):\n",
    "    results = np.zeros((4,8))\n",
    "    for i in [0.6,0.7,0.8,0.9]: \n",
    "        P = PersonalRetirement(25, retire_age, FRA, 'F', init_salary, i, n_simulation, life_table)\n",
    "        P.wealth_comp(ir_mat, inf_mat, COLA_mat)\n",
    "        for j, s in enumerate(P.savings):\n",
    "            saving_rate = int(s[:-1]) / 100.0\n",
    "            results_temp = personal_retire_simulation(P, 0.01, saving_rate, hold, R[:,:,:n_simulation], 'fixed')\n",
    "            results[int(i*10-5.99),j] = np.mean(P.wealth_needed<results_temp[:,43])\n",
    "    return results\n",
    "            \n",
    "prob_est = prob_estimate_all(hold_vec_eq, r_all_cut+1)"
   ]
  },
  {
   "cell_type": "code",
   "execution_count": 379,
   "metadata": {},
   "outputs": [],
   "source": [
    "pd_prob = pd.DataFrame(prob_est,index=['60%','70%','80%','90%'],columns=P1.savings)\n",
    "pd_prob.to_csv('prob_eq.csv')"
   ]
  },
  {
   "cell_type": "code",
   "execution_count": 380,
   "metadata": {},
   "outputs": [],
   "source": [
    "hold_vec_bonds = np.array([0, 0, 0, 0.3, 0.3, 0.3, 0, 0, 0.1])\n",
    "prob_est2 = prob_estimate_all(hold_vec_bonds, r_all_cut+1)\n",
    "pd_prob2 = pd.DataFrame(prob_est2,index=['60%','70%','80%','90%'],columns=P1.savings)\n",
    "pd_prob2.to_csv('prob_bonds.csv')"
   ]
  },
  {
   "cell_type": "code",
   "execution_count": 373,
   "metadata": {},
   "outputs": [],
   "source": [
    "def simulation_savings(filename,hold_vec,R,retire_age=69, FRA=69, saving_rate = 0.12, init_salary = 132900, n_simulation = 10000):\n",
    "    \"\"\"\n",
    "    R: total return vector\n",
    "    \"\"\"\n",
    "    title = 'save '+str(saving_rate*100)+'%'\n",
    "    #np.array([title,'60-40','Bonds','Target Date','Dynamic-CatchUp','Dynamic-Safe','Dynamic-Zone','Dynamic-ZoneSave'])\n",
    "    report = np.zeros((1,8))\n",
    "    list_simulation = []\n",
    "    \n",
    "    list_people = []\n",
    "    for i in [0.6,0.7,0.8,0.9]: \n",
    "        list_people.append(PersonalRetirement(25, retire_age, FRA, 'F', init_salary, i, n_simulation, life_table))\n",
    "        \n",
    "\n",
    "    for P in list_people:\n",
    "        P.wealth_comp(ir_mat, inf_mat, COLA_mat)\n",
    "        results_1 = personal_retire_simulation(P, 0.01, saving_rate, hold_vec[1,:], R[:,:,:n_simulation], 'fixed') \n",
    "        results_2 = personal_retire_simulation(P, 0.01, saving_rate, hold_vec[0,:], R[:,:,:n_simulation], 'fixed') \n",
    "        results_3 = personal_retire_simulation(P, 0.01, saving_rate, hold_vec[2,:], R[:,:,:n_simulation], 'SGP')\n",
    "        n_flag5,results_5 = personal_retire_simulation(P, 0.01, saving_rate, hold_vec[2,:], R[:,:,:n_simulation], 'Dynamic-GP')\n",
    "        n_flag6,results_6 = personal_retire_simulation(P, 0.01, saving_rate, hold_vec[2,:], R[:,:,:n_simulation], 'Safe-play')\n",
    "        n_flag7,results_7 = personal_retire_simulation(P, 0.01, saving_rate, hold_vec[2,:], R[:,:,:n_simulation], 'Zone') \n",
    "        n_flag8,results_8 = personal_retire_simulation(P, 0.01, saving_rate, hold_vec[2,:], R[:,:,:n_simulation], 'ZoneSave')\n",
    "\n",
    "        simu_list = [results_1,results_2,results_3,results_5,results_6,results_7,results_8]\n",
    "        report_list = np.zeros((4,1))\n",
    "        for r in simu_list:\n",
    "            temp_amount = np.sort(P.wealth_needed-r[:,43])\n",
    "            temp_arr = np.array([np.median(r[:,43]),np.mean(temp_amount<0), temp_amount[-499], np.mean(temp_amount[-499:])])\n",
    "            report_list = np.hstack((report_list, temp_arr.reshape(4,1)))\n",
    "        flag_list = np.array([P.salary_proportion,n_flag6/50,n_flag7[1]/50,n_flag8[1]/50,n_flag5/50,0,n_flag7[0]/50,n_flag8[0]/50])\n",
    "    \n",
    "        report = np.vstack((report,report_list,flag_list))\n",
    "        list_simulation.append(simu_list)\n",
    "    \n",
    "    np.savetxt(filename, report, delimiter=\",\")\n",
    "    return list_people, list_simulation"
   ]
  },
  {
   "cell_type": "code",
   "execution_count": 343,
   "metadata": {},
   "outputs": [
    {
     "data": {
      "text/plain": [
       "0.5489"
      ]
     },
     "execution_count": 343,
     "metadata": {},
     "output_type": "execute_result"
    }
   ],
   "source": [
    "n_flag, results_test = personal_retire_simulation(P1, 0.01, 0.12, hold_vec[2,:], r_all_cut[:,:,:n_simulation]+1, 'Zone')\n",
    "np.mean(results_test[:,43]>P1.wealth_needed)"
   ]
  },
  {
   "cell_type": "code",
   "execution_count": 348,
   "metadata": {},
   "outputs": [
    {
     "name": "stdout",
     "output_type": "stream",
     "text": [
      "[0.82416045 0.88361395 0.94375184 1.00483374 1.06634408 1.12824945\n",
      " 1.19035785 1.2535716  1.31826472 1.38416335 1.45136162 1.52030335\n",
      " 1.59076732 1.66179915 1.73406821 1.80774769 1.88227959 1.95778791\n",
      " 2.03480132 2.11350402 2.19427165 2.27708389 2.36168075 2.44795556\n",
      " 2.53581957 2.62530978 2.71614031 2.80867281 2.90273938 2.99818321\n",
      " 3.09519886 3.19388234 3.29459934 3.39754226 3.50293147 3.61043539\n",
      " 3.71960294 3.83066882 3.94427093 4.06036804 4.17932298 4.30097643\n",
      " 4.42554039 4.5528715  4.68295227 4.68295227 4.68295227 4.68295227\n",
      " 4.68295227 4.68295227 4.68295227 4.68295227 4.68295227 4.68295227\n",
      " 4.68295227]\n",
      "[-0.15364149 -0.12401049 -0.09340358 -0.06151969 -0.02882138  0.00469611\n",
      "  0.03888003  0.07466764  0.11250154  0.15219364  0.19391944  0.2382123\n",
      "  0.28496142  0.33332176  0.38404514  0.43741562  0.49299877  0.55103002\n",
      "  0.61216053  0.67672284  0.74525623  0.81792706  0.89467244  0.97558558\n",
      "  1.06078584  1.15052771  1.24475716  1.34407158  1.44856562  1.55835491\n",
      "  1.67391728  1.79565582  1.92426511  2.06029895  2.20436754  2.35656023\n",
      "  2.51686051  2.68594794  2.86494021  3.05432696  3.25503232  3.46750463\n",
      "  3.69259446  3.93084272  4.18295227  4.18295227  4.18295227  4.18295227\n",
      "  4.18295227  4.18295227  4.18295227  4.18295227  4.18295227  4.18295227\n",
      "  4.18295227]\n"
     ]
    },
    {
     "data": {
      "text/plain": [
       "(0.6988, [17.87079999997169, 9.83819999999041])"
      ]
     },
     "execution_count": 348,
     "metadata": {},
     "output_type": "execute_result"
    }
   ],
   "source": [
    "n_flag, results_test = personal_retire_simulation(P1, 0.01, 0.12, hold_vec[2,:], r_all_cut[:,:,:n_simulation]+1, 'ZoneSave')\n",
    "np.mean(results_test[:,43]>P1.wealth_needed),n_flag"
   ]
  },
  {
   "cell_type": "code",
   "execution_count": 356,
   "metadata": {},
   "outputs": [
    {
     "data": {
      "text/plain": [
       "(0.243042,\n",
       " 0.20224599999999998,\n",
       " 0.23770399999971278,\n",
       " 0.22629199999973937,\n",
       " 0.21182599999977308,\n",
       " 0.2367999999997149)"
      ]
     },
     "execution_count": 356,
     "metadata": {},
     "output_type": "execute_result"
    }
   ],
   "source": [
    "n_flag5/50, n_flag6/50, n_flag7[0]/50, n_flag7[1]/50,n_flag8[0]/50,n_flag8[1]/50"
   ]
  },
  {
   "cell_type": "code",
   "execution_count": 357,
   "metadata": {},
   "outputs": [],
   "source": [
    "simu_list0 = [results_10,results_20,results_30,results_50,results_60,results_70,results_80]\n",
    "def print_retire_result(s_l, name='0.csv'):\n",
    "    report_list = np.zeros((4,1))\n",
    "    for r in s_l:\n",
    "        temp_amount = np.sort(P1.wealth_needed-r[:,43])\n",
    "        temp_arr = np.array([np.median(r[:,43]),np.mean(temp_amount<0), temp_amount[-499], np.mean(temp_amount[-499:])])\n",
    "        report_list = np.hstack((report_list, temp_arr.reshape(4,1)))\n",
    "    np.savetxt(name, report_list, delimiter=\",\")\n",
    "\n",
    "print_retire_result(simu_list0, name='0802.csv')"
   ]
  },
  {
   "cell_type": "code",
   "execution_count": 374,
   "metadata": {},
   "outputs": [],
   "source": [
    "# Working!!\n",
    "\n",
    "hold_vec = np.array([[0, 0, 0, 0.3, 0.3, 0.3, 0, 0, 0.1], # Bonds\n",
    "                    [0.4, 0.1, 0.2, 0.1, 0, 0.1, 0.1, 0, 0], # \"60-40\" - 80% equities in fact\n",
    "                     [0.4, 0.1, 0.3, 0.05, 0, 0.05, 0.1, 0, 0]]) # SGP - 90% equity first\n",
    "\n",
    "list_people, list_simulation = simulation_savings('result0803_1.csv',hold_vec,r_all_cut+1)"
   ]
  },
  {
   "cell_type": "code",
   "execution_count": 388,
   "metadata": {},
   "outputs": [
    {
     "data": {
      "text/html": [
       "<div>\n",
       "<style scoped>\n",
       "    .dataframe tbody tr th:only-of-type {\n",
       "        vertical-align: middle;\n",
       "    }\n",
       "\n",
       "    .dataframe tbody tr th {\n",
       "        vertical-align: top;\n",
       "    }\n",
       "\n",
       "    .dataframe thead th {\n",
       "        text-align: right;\n",
       "    }\n",
       "</style>\n",
       "<table border=\"1\" class=\"dataframe\">\n",
       "  <thead>\n",
       "    <tr style=\"text-align: right;\">\n",
       "      <th></th>\n",
       "      <th>60-40</th>\n",
       "      <th>Bonds</th>\n",
       "      <th>Target Date</th>\n",
       "      <th>Dynamic-CatchUp</th>\n",
       "      <th>Dynamic-Safe</th>\n",
       "      <th>Dynamic-Zone</th>\n",
       "      <th>Dynamic-ZoneSave</th>\n",
       "    </tr>\n",
       "  </thead>\n",
       "  <tbody>\n",
       "    <tr>\n",
       "      <th>Median Wealth</th>\n",
       "      <td>0</td>\n",
       "      <td>0</td>\n",
       "      <td>0</td>\n",
       "      <td>0</td>\n",
       "      <td>0</td>\n",
       "      <td>0</td>\n",
       "      <td>0</td>\n",
       "    </tr>\n",
       "    <tr>\n",
       "      <th>Probability</th>\n",
       "      <td>0</td>\n",
       "      <td>0</td>\n",
       "      <td>0</td>\n",
       "      <td>0</td>\n",
       "      <td>0</td>\n",
       "      <td>0</td>\n",
       "      <td>0</td>\n",
       "    </tr>\n",
       "    <tr>\n",
       "      <th>Goal-at-Risk</th>\n",
       "      <td>0</td>\n",
       "      <td>0</td>\n",
       "      <td>0</td>\n",
       "      <td>0</td>\n",
       "      <td>0</td>\n",
       "      <td>0</td>\n",
       "      <td>0</td>\n",
       "    </tr>\n",
       "    <tr>\n",
       "      <th>Conditional Goal-at-Risk</th>\n",
       "      <td>0</td>\n",
       "      <td>0</td>\n",
       "      <td>0</td>\n",
       "      <td>0</td>\n",
       "      <td>0</td>\n",
       "      <td>0</td>\n",
       "      <td>0</td>\n",
       "    </tr>\n",
       "    <tr>\n",
       "      <th>% Falling Behind</th>\n",
       "      <td></td>\n",
       "      <td></td>\n",
       "      <td></td>\n",
       "      <td>1</td>\n",
       "      <td></td>\n",
       "      <td>2</td>\n",
       "      <td>3</td>\n",
       "    </tr>\n",
       "    <tr>\n",
       "      <th>%Safe</th>\n",
       "      <td></td>\n",
       "      <td></td>\n",
       "      <td></td>\n",
       "      <td></td>\n",
       "      <td>2.3</td>\n",
       "      <td>2.4</td>\n",
       "      <td>2.5</td>\n",
       "    </tr>\n",
       "    <tr>\n",
       "      <th></th>\n",
       "      <td></td>\n",
       "      <td></td>\n",
       "      <td></td>\n",
       "      <td></td>\n",
       "      <td></td>\n",
       "      <td></td>\n",
       "      <td></td>\n",
       "    </tr>\n",
       "  </tbody>\n",
       "</table>\n",
       "</div>"
      ],
      "text/plain": [
       "                         60-40 Bonds Target Date Dynamic-CatchUp Dynamic-Safe  \\\n",
       "Median Wealth                0     0           0               0            0   \n",
       "Probability                  0     0           0               0            0   \n",
       "Goal-at-Risk                 0     0           0               0            0   \n",
       "Conditional Goal-at-Risk     0     0           0               0            0   \n",
       "% Falling Behind                                               1                \n",
       "%Safe                                                                     2.3   \n",
       "                                                                                \n",
       "\n",
       "                         Dynamic-Zone Dynamic-ZoneSave  \n",
       "Median Wealth                       0                0  \n",
       "Probability                         0                0  \n",
       "Goal-at-Risk                        0                0  \n",
       "Conditional Goal-at-Risk            0                0  \n",
       "% Falling Behind                    2                3  \n",
       "%Safe                             2.4              2.5  \n",
       "                                                        "
      ]
     },
     "execution_count": 388,
     "metadata": {},
     "output_type": "execute_result"
    }
   ],
   "source": [
    "strats = ['60-40','Bonds','Target Date','Dynamic-CatchUp','Dynamic-Safe','Dynamic-Zone','Dynamic-ZoneSave']\n",
    "results_random = np.zeros((5,7))\n",
    "\n",
    "results_1 = pd.DataFrame(columns=strats, index=['Median Wealth', 'Probability', 'Goal-at-Risk', \n",
    "                                               'Conditional Goal-at-Risk', '% Falling Behind', '%Safe',' '])\n",
    "results_1.iloc[:4,:] = np.zeros((4,7))\n",
    "results_1.iloc[4,[3,5,6]] = [1,2,3]\n",
    "results_1.iloc[5,[4,5,6]] = [2.3,2.4,2.5]\n",
    "results_1.fillna('',inplace=True)\n",
    "pd.DataFrame().append(results_1)"
   ]
  },
  {
   "cell_type": "code",
   "execution_count": 398,
   "metadata": {},
   "outputs": [],
   "source": [
    "def simulation_savings(filename,hold_vec,R,retire_age=69, FRA=69, saving_rate = 0.12, init_salary = 132900, n_simulation = 10000):\n",
    "    \"\"\"\n",
    "    R: total return vector\n",
    "    \"\"\"\n",
    "    title = 'save '+str(saving_rate*100)+'%'\n",
    "    strats=['60-40','Bonds','Target Date','Dynamic-CatchUp','Dynamic-Safe','Dynamic-Zone','Dynamic-ZoneSave']\n",
    "    report = pd.DataFrame()\n",
    "    h = int(n_simulation * 0.05-1)\n",
    "    list_simulation = []\n",
    "    \n",
    "    list_people = []\n",
    "    for i in [0.6,0.7,0.8,0.9]: \n",
    "        list_people.append(PersonalRetirement(25, retire_age, FRA, 'F', init_salary, i, n_simulation, life_table))     \n",
    "\n",
    "    for P in list_people:\n",
    "        P.wealth_comp(ir_mat, inf_mat, COLA_mat)\n",
    "        results_1 = personal_retire_simulation(P, 0.01, saving_rate, hold_vec[1,:], R[:,:,:n_simulation], 'fixed') \n",
    "        results_2 = personal_retire_simulation(P, 0.01, saving_rate, hold_vec[0,:], R[:,:,:n_simulation], 'fixed') \n",
    "        results_3 = personal_retire_simulation(P, 0.01, saving_rate, hold_vec[2,:], R[:,:,:n_simulation], 'SGP')\n",
    "        n_flag5,results_5 = personal_retire_simulation(P, 0.01, saving_rate, hold_vec[2,:], R[:,:,:n_simulation], 'Dynamic-GP')\n",
    "        n_flag6,results_6 = personal_retire_simulation(P, 0.01, saving_rate, hold_vec[2,:], R[:,:,:n_simulation], 'Safe-play')\n",
    "        n_flag7,results_7 = personal_retire_simulation(P, 0.01, saving_rate, hold_vec[2,:], R[:,:,:n_simulation], 'Zone') \n",
    "        n_flag8,results_8 = personal_retire_simulation(P, 0.01, saving_rate, hold_vec[2,:], R[:,:,:n_simulation], 'ZoneSave')\n",
    "\n",
    "        simu_list = [results_1,results_2,results_3,results_5,results_6,results_7,results_8]\n",
    "        \n",
    "        report_list = pd.DataFrame(columns=strats, index=['Median Wealth', 'Probability', 'Goal-at-Risk', \n",
    "                                               'Conditional Goal-at-Risk', '% Falling Behind', '%Safe',' '])\n",
    "        for j, r in enumerate(simu_list):\n",
    "            temp_amount = np.sort(P.wealth_needed-r[:,43])\n",
    "            temp_arr = np.array([np.median(r[:,43]),np.mean(temp_amount<0), temp_amount[-h], np.mean(temp_amount[-h:])])          \n",
    "            report_list.iloc[:4,j] = temp_arr\n",
    "        \n",
    "        report_list.iloc[4,[3,5,6]] = [n_flag5/50,n_flag7[0]/50,n_flag8[0]/50]\n",
    "        report_list.iloc[5,[4,5,6]] = [n_flag6/50,n_flag7[1]/50,n_flag8[1]/50]\n",
    "        report_list.fillna('',inplace=True)\n",
    "        report = report.append(report_list)\n",
    "        list_simulation.append(simu_list)\n",
    "    \n",
    "    report.to_csv(filename)\n",
    "    return list_people, list_simulation"
   ]
  },
  {
   "cell_type": "code",
   "execution_count": 400,
   "metadata": {},
   "outputs": [],
   "source": [
    "list_test, list_test1 = simulation_savings('result0806.csv',hold_vec,r_all_cut+1,n_simulation=10000)"
   ]
  },
  {
   "cell_type": "code",
   "execution_count": 404,
   "metadata": {},
   "outputs": [],
   "source": [
    "list_p1, list_s1, report1 = simulation_savings_sept(hold_vec,r_all_cut+1,n_simulation=10000)\n",
    "list_p2, list_s2, report2 = simulation_savings_sept(hold_vec,r_all_cut+1,saving_rate=0.13,n_simulation=10000)\n",
    "\n",
    "report1.to_csv('report0813_1.csv')\n",
    "report2.to_csv('report0813_2.csv')"
   ]
  },
  {
   "cell_type": "markdown",
   "metadata": {},
   "source": [
    "## Work: 8/15 - 9/2...\n",
    "1. Add: total amount saved: \"Do we simply move money from one account to another?\"\n",
    "\n",
    "2. Compare RGP and RGP-zone, RGP-save\n"
   ]
  },
  {
   "cell_type": "code",
   "execution_count": 429,
   "metadata": {},
   "outputs": [],
   "source": [
    "def personal_retire_simulation_new(person, initial_amount, savings_rate, holdings, asset_return, \n",
    "                                   hold_type='fixed', sl=-1.0):\n",
    "    \"\"\"Simulates monthly data of a person for a certain number of years.\n",
    "    \n",
    "    Assets: US equity, developed, emerging, US Treasuries, corp bonds, TIPS, Real Estate, Commodities, T-bill\n",
    "    Equity (Y/N): Y      Y          Y             N            N        N        Y             (Y)        N\n",
    "    \n",
    "    asset_return should be total return, i.e. 1 plus the percentage return.\n",
    "    if hold_type is \"fixed\" (by default), holdings is fixed mix with annual rebalance.\n",
    "    if hold_type is a number, this is fixed mix with rebalance frequency (in months) .\n",
    "    if hold_type is \"SGP\", a Bogle rule will be implemented.\n",
    "    if hold_type is \"RGP\", a reversed glide path (RGP) will be implemented.\n",
    "    if hold_type is \"dynamic\", dynamic portfolio optimization will be conducted.\n",
    "    \n",
    "    sl is the slope for glide path (SGP: -1, RGP: 1.5)\n",
    "    \n",
    "    Other data required:\n",
    "        inf_mat, ir_mat, COLA_mat: the macro variables simulated\n",
    "        \n",
    "    The simulation returns a full path of wealth at the end of each year, so it is a n_scenarios*n_years matrix.\n",
    "    \"\"\"\n",
    "    n_months, n_assets, n_scenarios = asset_return.shape\n",
    "    wealth_path = np.zeros((n_scenarios, int(n_months/12)))\n",
    "    eq_set = [0,1,2,6,7]\n",
    "    bd_set = [3,4,5,8]\n",
    "    equity_prop = np.sum(holdings[eq_set]) * 100\n",
    "    \n",
    "    savings = savings_rate * person.init_wage\n",
    "    total_saved = initial_amount\n",
    "\n",
    "    if hold_type == 'fixed':\n",
    "        for i in range(n_scenarios):\n",
    "            holdings_each = holdings * initial_amount\n",
    "            for j in range(n_months):\n",
    "                holdings_each = holdings_each * asset_return[j,:,i]\n",
    "                if (j+1)%12==0:\n",
    "                    wealth_path[i,int(j/12)] = np.sum(holdings_each) + savings * inf_mat[i,int(j/12)]\n",
    "                    holdings_each = wealth_path[i,int(j/12)] * holdings\n",
    "        return wealth_path\n",
    "\n",
    "    elif type(hold_type)==int:\n",
    "        ## this integer is rebalance frequency\n",
    "        for i in range(n_scenarios):\n",
    "            holdings_each = holdings\n",
    "            for j in range(n_months):\n",
    "                holdings_each = holdings_each * asset_return[j,:,i]\n",
    "                if j%hold_type == 0: # Rebalance\n",
    "                    asset_temp = np.sum(holdings_each)\n",
    "                    holdings_each = asset_temp * holdings\n",
    "                if j%12==0:\n",
    "                    holdings_each = holdings_each * (1-spending_rate)\n",
    "                    wealth_path[i,int(j/12)] = np.sum(holdings_each)\n",
    "        return wealth_path\n",
    "\n",
    "    elif hold_type == 'SGP':\n",
    "        ## Gliding path: slope is given\n",
    "        if np.abs(np.sum(holdings[eq_set])-0.9) > 0.001:\n",
    "            print('Initial Holding Incorrect. Results may be affected.')\n",
    "        for i in range(n_scenarios):\n",
    "            holdings_each = holdings * initial_amount\n",
    "            for j in range(n_months):\n",
    "                holdings_each = holdings_each * asset_return[j,:,i]\n",
    "                if (j+1)%12==0:\n",
    "                    wealth_path[i,int(j/12)] = np.sum(holdings_each) + savings * inf_mat[i,int(j/12)]\n",
    "                    holdings_each = wealth_path[i,int(j/12)] * holdings\n",
    "                    holdings_each[eq_set] = holdings_each[eq_set] * (equity_prop + sl*(j+1)/12) / equity_prop\n",
    "                    holdings_each[bd_set] = holdings_each[bd_set] * (100 - equity_prop - sl*(j+1)/12) / (100-equity_prop)                \n",
    "        return wealth_path\n",
    "\n",
    "    elif hold_type == 'RGP':\n",
    "        ## Gliding path: reversed\n",
    "        if np.abs(np.sum(holdings[eq_set])-0.25) > 0.001:\n",
    "            print('Initial Holding Incorrect. Results may be affected.')\n",
    "        for i in range(n_scenarios):\n",
    "            holdings_each = holdings * initial_amount\n",
    "            for j in range(n_months):\n",
    "                holdings_each = holdings_each * asset_return[j,:,i]\n",
    "                if (j+1)%12==0:\n",
    "                    wealth_path[i,int(j/12)] = np.sum(holdings_each) + savings * inf_mat[i,int(j/12)]\n",
    "                    holdings_each = wealth_path[i,int(j/12)] * holdings\n",
    "                    holdings_each[eq_set] = holdings_each[eq_set] * (equity_prop + sl*(j+1)/12) / equity_prop\n",
    "                    holdings_each[bd_set] = holdings_each[bd_set] * (100 - equity_prop - sl*(j+1)/12) / (100-equity_prop) \n",
    "                    #if i == 7777: \n",
    "                    #Test:print([sum(holdings_each), holdings_each[0]])                    \n",
    "        return wealth_path \n",
    "    \n",
    "    elif hold_type == 'Dynamic-GP':\n",
    "        ## Gliding path, same as SGP but tries to catch up when falling behind\n",
    "        \n",
    "        if np.abs(np.sum(holdings[eq_set])-0.9) > 0.001:\n",
    "            print('Initial Holding Incorrect. Results may be affected.')\n",
    "        n_flag = 0.0\n",
    "        for i in range(n_scenarios):\n",
    "            holdings_each = holdings * initial_amount\n",
    "            \n",
    "            # Compute wealth-vec\n",
    "            n_years = person.retire-person.age-1\n",
    "            wealth_vec = np.ones(55)*person.wealth_needed[i]\n",
    "            wealth_growth = 1.06\n",
    "            for n in range(n_years+1):\n",
    "                wealth_vec[n_years-n] = (wealth_vec[n_years+1-n] - savings * inf_mat[i,n]) / wealth_growth\n",
    "                \n",
    "            for j in range(n_months):\n",
    "                holdings_each = holdings_each * asset_return[j,:,i]\n",
    "                if (j+1)%12==0:\n",
    "                    wealth_path[i,int(j/12)] = np.sum(holdings_each) + savings * inf_mat[i,int(j/12)]\n",
    "                    holdings_each = wealth_path[i,int(j/12)] * holdings\n",
    "                    \n",
    "                    if wealth_path[i,int(j/12)] >= wealth_vec[int(j/12)+1]:\n",
    "                        equity_newprop = equity_prop + sl*(j+1)/12\n",
    "                        holdings_each[eq_set] = holdings_each[eq_set] * equity_newprop / equity_prop\n",
    "                        holdings_each[bd_set] = holdings_each[bd_set] * (100 - equity_newprop) / (100-equity_prop) \n",
    "                    else:\n",
    "                        equity_newprop = min(equity_prop + sl*(j+1)/12 + 20, 95)\n",
    "                        holdings_each[eq_set] = holdings_each[eq_set] * equity_newprop / equity_prop\n",
    "                        holdings_each[bd_set] = holdings_each[bd_set] * (100 - equity_newprop) / (100-equity_prop) \n",
    "                        n_flag = n_flag + 1\n",
    "        return n_flag/n_scenarios, wealth_path\n",
    "    \n",
    "    elif hold_type == 'Safe-play':\n",
    "        ## Gliding path, same as SGP but switches to bonds when safe\n",
    "                                             \n",
    "        if np.abs(np.sum(holdings[eq_set])-0.9) > 0.001:\n",
    "            print('Initial Holding Incorrect. Results may be affected.')\n",
    "        n_flag = 0.0\n",
    "        \n",
    "        for i in range(n_scenarios):\n",
    "            holdings_each = holdings * initial_amount\n",
    "            \n",
    "            # Compute safe-vec\n",
    "            n_years = person.retire-person.age-1\n",
    "\n",
    "            safe_growth = 1.025\n",
    "            safe_vec = np.ones(55) * (person.wealth_needed[i]+0.5)\n",
    "            for n in range(n_years+1):\n",
    "                safe_vec[n_years-n] = (safe_vec[n_years+1-n] - savings * inf_mat[i,n]) / safe_growth\n",
    "                \n",
    "            for j in range(n_months):\n",
    "                holdings_each = holdings_each * asset_return[j,:,i]\n",
    "                if (j+1)%12==0:\n",
    "                    wealth_path[i,int(j/12)] = np.sum(holdings_each) + savings * inf_mat[i,int(j/12)]\n",
    "                    holdings_each = wealth_path[i,int(j/12)] * holdings\n",
    "\n",
    "                    if wealth_path[i,int(j/12)] <= safe_vec[int(j/12)+1]:\n",
    "                        equity_newprop = equity_prop + sl*(j+1)/12\n",
    "                        holdings_each[eq_set] = holdings_each[eq_set] * equity_newprop / equity_prop\n",
    "                        holdings_each[bd_set] = holdings_each[bd_set] * (100 - equity_newprop) / (100-equity_prop) \n",
    "                    else:\n",
    "                        equity_newprop = max(equity_prop + sl*(j+1)/12 - 50, 5)\n",
    "                        holdings_each[eq_set] = holdings_each[eq_set] * equity_newprop / equity_prop\n",
    "                        holdings_each[bd_set] = holdings_each[bd_set] * (100 - equity_newprop) / (100-equity_prop) \n",
    "                        n_flag = n_flag + 1\n",
    "        return n_flag/n_scenarios, wealth_path\n",
    "    \n",
    "    elif hold_type == 'Zone':\n",
    "        ## Similar to the idea of 'No-Trade Zone', we have \"No-change Zone\"\n",
    "        ## Works for both SGP-zone and RGP-zone\n",
    "        if np.abs(np.sum(holdings[eq_set])-0.9) > 0.001 and np.abs(np.sum(holdings[eq_set])-0.25) > 0.001:\n",
    "            print('Initial Holding Incorrect. Results may be affected.')\n",
    "        n_flag = [0,0]\n",
    "        \n",
    "        for i in range(n_scenarios):\n",
    "            holdings_each = holdings * initial_amount\n",
    "            \n",
    "            # Compute safe-vec and wealth-vec\n",
    "            n_years = person.retire-person.age-1\n",
    "            wealth_vec = np.ones(55)*person.wealth_needed[i]\n",
    "            wealth_growth = 1.06\n",
    "            for n in range(n_years+1):\n",
    "                wealth_vec[n_years-n] = (wealth_vec[n_years+1-n] - savings * inf_mat[i,n]) / wealth_growth\n",
    "\n",
    "            safe_growth = 1.025\n",
    "            safe_vec = np.ones(55) * (person.wealth_needed[i]+0.5)\n",
    "            for n in range(n_years+1):\n",
    "                safe_vec[n_years-n] = (safe_vec[n_years+1-n] - savings * inf_mat[i,n]) / safe_growth\n",
    "            \n",
    "            for j in range(n_months):\n",
    "                holdings_each = holdings_each * asset_return[j,:,i]\n",
    "                if (j+1)%12==0:\n",
    "                    wealth_path[i,int(j/12)] = np.sum(holdings_each) + savings * inf_mat[i,int(j/12)]\n",
    "                    holdings_each = wealth_path[i,int(j/12)] * holdings\n",
    "                    \n",
    "                    if wealth_path[i,int(j/12)] <= wealth_vec[int(j/12)+1]:\n",
    "                        # lagging\n",
    "                        equity_newprop = min(equity_prop + sl*(j+1)/12 +20, 95)\n",
    "                        holdings_each[eq_set] = holdings_each[eq_set] * equity_newprop / equity_prop\n",
    "                        holdings_each[bd_set] = holdings_each[bd_set] * (100 - equity_newprop) / (100-equity_prop) \n",
    "                        n_flag[0] = n_flag[0] + 1.0/n_scenarios\n",
    "                        \n",
    "                    elif wealth_path[i,int(j/12)] >= safe_vec[int(j/12)+1]:\n",
    "                        equity_newprop = max(equity_prop + sl*(j+1)/12 -50, 5)\n",
    "                        holdings_each[eq_set] = holdings_each[eq_set] * equity_newprop / equity_prop\n",
    "                        holdings_each[bd_set] = holdings_each[bd_set] * (100 - equity_newprop) / (100-equity_prop) \n",
    "                        n_flag[1] = n_flag[1] + 1.0/n_scenarios\n",
    "                    else:\n",
    "                        equity_newprop = equity_prop + sl*(j+1)/12\n",
    "                        holdings_each[eq_set] = holdings_each[eq_set] * equity_newprop / equity_prop\n",
    "                        holdings_each[bd_set] = holdings_each[bd_set] * (100 - equity_newprop) / (100-equity_prop) \n",
    "        return n_flag, wealth_path\n",
    " \n",
    "    elif hold_type == 'ZoneSave':\n",
    "        ## We save more (thus rebalancing the portfolio) when trailing\n",
    "        ## Works for both SGP and RGP\n",
    "        if np.abs(np.sum(holdings[eq_set])-0.9) > 0.001 and np.abs(np.sum(holdings[eq_set])-0.25) > 0.001:\n",
    "            print('Initial Holding Incorrect. Results may be affected.')\n",
    "        n_flag = [0,0]\n",
    "        \n",
    "        for i in range(n_scenarios):\n",
    "            holdings_each = holdings * initial_amount\n",
    "            \n",
    "            # Compute safe-vec and wealth-vec\n",
    "            n_years = person.retire-person.age-1\n",
    "            wealth_vec = np.ones(55)*person.wealth_needed[i]\n",
    "            wealth_growth = 1.06\n",
    "            for n in range(n_years+1):\n",
    "                wealth_vec[n_years-n] = (wealth_vec[n_years+1-n] - savings * inf_mat[i,n]) / wealth_growth\n",
    "\n",
    "            safe_growth = 1.025\n",
    "            safe_vec = np.ones(55) * (person.wealth_needed[i]+0.5)\n",
    "            for n in range(n_years+1):\n",
    "                safe_vec[n_years-n] = (safe_vec[n_years+1-n] - savings * inf_mat[i,n]) / safe_growth\n",
    "            \n",
    "            for j in range(n_months):\n",
    "                holdings_each = holdings_each * asset_return[j,:,i]\n",
    "                if (j+1)%12==0:\n",
    "                    wealth_path[i,int(j/12)] = np.sum(holdings_each) + savings * inf_mat[i,int(j/12)]\n",
    "                                      \n",
    "                    if wealth_path[i,int(j/12)] <= wealth_vec[int(j/12)+1]:\n",
    "                        # lagging\n",
    "                        wealth_path[i,int(j/12)] = wealth_path[i,int(j/12)] + 0.03*savings/savings_rate*inf_mat[i,int(j/12)]\n",
    "                        holdings_each = wealth_path[i,int(j/12)] * holdings\n",
    "                        equity_newprop = min(equity_prop + sl*(j+1)/12 +20, 95)\n",
    "                        holdings_each[eq_set] = holdings_each[eq_set] * equity_newprop / equity_prop\n",
    "                        holdings_each[bd_set] = holdings_each[bd_set] * (100 - equity_newprop) / (100-equity_prop) \n",
    "                        n_flag[0] = n_flag[0] + 1.0/n_scenarios\n",
    "                        \n",
    "                    elif wealth_path[i,int(j/12)] >= safe_vec[int(j/12)+1]:\n",
    "                        equity_newprop = max(equity_prop + sl*(j+1)/12 -50, 5)\n",
    "                        holdings_each = wealth_path[i,int(j/12)] * holdings\n",
    "                        holdings_each[eq_set] = holdings_each[eq_set] * equity_newprop / equity_prop\n",
    "                        holdings_each[bd_set] = holdings_each[bd_set] * (100 - equity_newprop) / (100-equity_prop) \n",
    "                        n_flag[1] = n_flag[1] + 1.0/n_scenarios\n",
    "                    else:\n",
    "                        equity_newprop = equity_prop + sl*(j+1)/12\n",
    "                        holdings_each = wealth_path[i,int(j/12)] * holdings\n",
    "                        holdings_each[eq_set] = holdings_each[eq_set] * equity_newprop / equity_prop\n",
    "                        holdings_each[bd_set] = holdings_each[bd_set] * (100 - equity_newprop) / (100-equity_prop) \n",
    "        #print(safe_vec)\n",
    "        #print(wealth_vec)\n",
    "        return n_flag, wealth_path\n",
    "    \n",
    "    else:\n",
    "        ## Buy and Hold...\n",
    "        for i in range(n_scenarios):\n",
    "            value =  initial_amount\n",
    "            for j in range(n_months):\n",
    "                value = value * np.sum(holdings * asset_return[j,:,i])\n",
    "                if (j+1)%12==0:\n",
    "                    value  = value + savings * inf_mat[i,int(j/12)]\n",
    "                    wealth_path[i,int(j/12)] = value\n",
    "        return wealth_path"
   ]
  },
  {
   "cell_type": "code",
   "execution_count": 435,
   "metadata": {},
   "outputs": [],
   "source": [
    "def simulation_savings_sept(hold_vec,R,retire_age=69, FRA=69, saving_rate = 0.12, init_salary = 132900, n_simulation = 10000):\n",
    "    \"\"\"\n",
    "    R: total return vector\n",
    "    \"\"\"\n",
    "    title = 'save '+str(saving_rate*100)+'%'\n",
    "    strats=['60-40','Bonds','Target Date','Reversed Glide Path','Dynamic-CatchUp','Dynamic-Safe',\n",
    "            'Dynamic-Zone','Dynamic-ZoneSave','Reversed-Zone','Reversed-ZoneSave']\n",
    "    report = pd.DataFrame()\n",
    "    h = int(n_simulation * 0.05-1)\n",
    "    list_simulation = []\n",
    "    \n",
    "    list_people = []\n",
    "    for i in [0.6,0.7,0.8,0.9]: \n",
    "        list_people.append(PersonalRetirement(25, retire_age, FRA, 'F', init_salary, i, n_simulation, life_table))     \n",
    "\n",
    "    for P in list_people:\n",
    "        P.wealth_comp(ir_mat, inf_mat, COLA_mat)\n",
    "        results_1 = personal_retire_simulation(P, 0.01, saving_rate, hold_vec[1,:], R[:,:,:n_simulation], 'fixed') \n",
    "        results_2 = personal_retire_simulation(P, 0.01, saving_rate, hold_vec[0,:], R[:,:,:n_simulation], 'fixed') \n",
    "        results_3 = personal_retire_simulation_new(P, 0.01, saving_rate, hold_vec[2,:], R[:,:,:n_simulation], 'SGP')\n",
    "        results_4 = personal_retire_simulation_new(P, 0.01, saving_rate, hold_vec[3,:], R[:,:,:n_simulation], 'RGP', sl=1.5)\n",
    "        n_flag5,results_5 = personal_retire_simulation(P, 0.01, saving_rate, hold_vec[2,:], R[:,:,:n_simulation], 'Dynamic-GP')\n",
    "        n_flag6,results_6 = personal_retire_simulation(P, 0.01, saving_rate, hold_vec[2,:], R[:,:,:n_simulation], 'Safe-play')\n",
    "        n_flag7,results_7 = personal_retire_simulation_new(P, 0.01, saving_rate, hold_vec[2,:], R[:,:,:n_simulation], 'Zone') \n",
    "        n_flag8,results_8 = personal_retire_simulation_new(P, 0.01, saving_rate, hold_vec[2,:], R[:,:,:n_simulation], 'ZoneSave')\n",
    "        n_flag9,results_9 = personal_retire_simulation_new(P, 0.01, saving_rate, hold_vec[3,:], \n",
    "                                                           R[:,:,:n_simulation], 'Zone', sl=1.5) \n",
    "        n_flag10,results_10 = personal_retire_simulation_new(P, 0.01, saving_rate, hold_vec[3,:], \n",
    "                                                             R[:,:,:n_simulation], 'ZoneSave',sl=1.5)\n",
    "\n",
    "        simu_list = [results_1,results_2,results_3,results_4,results_5,results_6,results_7,results_8,results_9,results_10]\n",
    "        \n",
    "        report_list = pd.DataFrame(columns=strats, index=['Median Wealth', 'Probability', 'Goal-at-Risk', \n",
    "                                               'Conditional Goal-at-Risk', '% Falling Behind', '%Safe',' '])\n",
    "        for j, r in enumerate(simu_list):\n",
    "            temp_amount = np.sort(P.wealth_needed-r[:,43])\n",
    "            temp_arr = np.array([np.median(r[:,43]),np.mean(temp_amount<0), temp_amount[-h], np.mean(temp_amount[-h:])])          \n",
    "            report_list.iloc[:4,j] = temp_arr\n",
    "        \n",
    "        report_list.iloc[4,[4,6,7,8,9]] = [n_flag5/50,n_flag7[0]/50,n_flag8[0]/50,n_flag9[0]/50,n_flag10[0]/50]\n",
    "        report_list.iloc[5,[5,6,7,8,9]] = [n_flag6/50,n_flag7[1]/50,n_flag8[1]/50,n_flag9[1]/50,n_flag10[1]/50]\n",
    "        report_list.fillna('',inplace=True)\n",
    "        report = report.append(report_list)\n",
    "        list_simulation.append(simu_list)\n",
    "\n",
    "    return list_people, list_simulation, report"
   ]
  },
  {
   "cell_type": "code",
   "execution_count": 408,
   "metadata": {},
   "outputs": [
    {
     "name": "stdout",
     "output_type": "stream",
     "text": [
      "US Equities:  1.065275538021011 0.011319818838214273\n",
      "EAFE Equities:  1.050813772212351 0.01910111695115402\n",
      "EM Equities:  1.055372772710317 0.02650947837634803\n",
      "Long Treasuries:  1.033497803394401 0.006566829721970086\n",
      "Corp Bonds:  1.0510694687089062 0.007443573087236374\n",
      "TIPS:  1.0383301524644455 0.008591565243483413\n",
      "Real Estate:  1.0538071516420842 0.02562805162847877\n",
      "Commodities:  1.029449645286481 0.030037657769141406\n",
      "T-bill:  1.0242476890692886 0.001031149151126838\n"
     ]
    }
   ],
   "source": [
    "# Print asset return\n",
    "for i in range(9):\n",
    "    ann_temp = (np.cumprod(1+r_all_cut[:,i,:],axis=0)[-1,:]) ** (1/50)\n",
    "    print(assetname[i]+': ',ann_temp.mean(),ann_temp.std())"
   ]
  },
  {
   "cell_type": "code",
   "execution_count": 425,
   "metadata": {},
   "outputs": [],
   "source": [
    "# New test - Aug 15\n",
    "hold_vec = np.array([[0, 0, 0, 0.3, 0.3, 0.3, 0, 0, 0.1], # Bonds\n",
    "                    [0.4, 0.1, 0.2, 0.1, 0, 0.1, 0.1, 0, 0], # \"60-40\" - 80% equities in fact\n",
    "                     [0.4, 0.1, 0.3, 0.05, 0, 0.05, 0.1, 0, 0], # SGP - 90% equity first\n",
    "                    [0.15, 0.025, 0.05, 0.25, 0, 0.5, 0.025, 0, 0]]) # RGP - 25% equity first, 90% equity last"
   ]
  },
  {
   "cell_type": "code",
   "execution_count": 439,
   "metadata": {},
   "outputs": [],
   "source": [
    "list_p2, list_s2, report_new2 = simulation_savings_sept(hold_vec,r_all_cut+1,saving_rate=0.13,init_salary=132900)\n",
    "report_new2.to_csv('report0815_s13w13.csv')"
   ]
  },
  {
   "cell_type": "code",
   "execution_count": 440,
   "metadata": {},
   "outputs": [],
   "source": [
    "list_p3, list_s3, report_new3 = simulation_savings_sept(hold_vec,r_all_cut+1,saving_rate=0.10,init_salary=132900)"
   ]
  },
  {
   "cell_type": "code",
   "execution_count": 441,
   "metadata": {},
   "outputs": [],
   "source": [
    "report_new3.to_csv('report0815_s10w13.csv')"
   ]
  },
  {
   "cell_type": "code",
   "execution_count": 442,
   "metadata": {},
   "outputs": [],
   "source": [
    "list_p4, list_s4, report_new4 = simulation_savings_sept(hold_vec,r_all_cut+1,saving_rate=0.12,init_salary=200000)\n",
    "report_new4.to_csv('report0815_s10w20.csv')"
   ]
  },
  {
   "cell_type": "code",
   "execution_count": 443,
   "metadata": {},
   "outputs": [],
   "source": [
    "list_p5, list_s5, report_new5 = simulation_savings_sept(hold_vec,r_all_cut+1,saving_rate=0.15,init_salary=200000)\n",
    "report_new5.to_csv('report0815_s15w20.csv')"
   ]
  },
  {
   "cell_type": "code",
   "execution_count": 454,
   "metadata": {},
   "outputs": [
    {
     "name": "stdout",
     "output_type": "stream",
     "text": [
      "[2.542251940296272, 3.29602660887306, 4.0498012774498475, 4.803575946026634]\n",
      "[4.825695744427309, 5.960044380359268, 7.094393016291229, 8.22874165222319]\n",
      "[4.825695744427309, 5.960044380359268, 7.094393016291229, 8.22874165222319]\n"
     ]
    }
   ],
   "source": [
    "print([np.mean(P.wealth_needed) for P in list_p3])\n",
    "print([np.mean(P.wealth_needed) for P in list_p4])\n",
    "print([np.mean(P.wealth_needed) for P in list_p5]) # Same!"
   ]
  },
  {
   "cell_type": "code",
   "execution_count": 463,
   "metadata": {},
   "outputs": [
    {
     "data": {
      "text/plain": [
       "(array([  4.,   5.,   8.,  11.,  19.,  23.,  35.,  59.,  59., 104., 111.,\n",
       "        114., 108.,  80.,  79.,  56.,  40.,  29.,  27.,  14.,   8.,   5.,\n",
       "          1.,   0.,   1.]),\n",
       " array([-0.09784183, -0.08860222, -0.07936262, -0.07012301, -0.0608834 ,\n",
       "        -0.05164379, -0.04240419, -0.03316458, -0.02392497, -0.01468536,\n",
       "        -0.00544576,  0.00379385,  0.01303346,  0.02227307,  0.03151267,\n",
       "         0.04075228,  0.04999189,  0.0592315 ,  0.06847111,  0.07771071,\n",
       "         0.08695032,  0.09618993,  0.10542954,  0.11466914,  0.12390875,\n",
       "         0.13314836]),\n",
       " <a list of 25 Patch objects>)"
      ]
     },
     "execution_count": 463,
     "metadata": {},
     "output_type": "execute_result"
    },
    {
     "data": {
      "image/png": "[encoded data removed]",
      "text/plain": [
       "<Figure size 432x288 with 1 Axes>"
      ]
     },
     "metadata": {},
     "output_type": "display_data"
    }
   ],
   "source": [
    "plt.hist(r_all_cut[0,0,:1000],bins=25)"
   ]
  },
  {
   "cell_type": "markdown",
   "metadata": {},
   "source": [
    "### Feels repetitive? There is a new class at the end of section 3...\n",
    "\n",
    "Feel free to continue work on that section, instead of this."
   ]
  }
 ],
 "metadata": {
  "kernelspec": {
   "display_name": "Python 3",
   "language": "python",
   "name": "python3"
  },
  "language_info": {
   "codemirror_mode": {
    "name": "ipython",
    "version": 3
   },
   "file_extension": ".py",
   "mimetype": "text/x-python",
   "name": "python",
   "nbconvert_exporter": "python",
   "pygments_lexer": "ipython3",
   "version": "3.7.6"
  }
 },
 "nbformat": 4,
 "nbformat_minor": 4
}
